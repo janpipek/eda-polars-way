{
 "cells": [
  {
   "cell_type": "code",
   "execution_count": null,
   "metadata": {},
   "outputs": [],
   "source": [
    "import polars as pl\n",
    "from datetime import datetime"
   ]
  },
  {
   "cell_type": "code",
   "execution_count": null,
   "metadata": {},
   "outputs": [],
   "source": [
    "# Load datasets\n",
    "un = pl.read_csv(\"data/un_basic.csv\", try_parse_dates=True)\n",
    "forest_area = pl.read_csv(\"data/our_world_in_data/forest-area-km.csv\")\n",
    "weather = pl.read_parquet(\"data/florence-meteostat.parquet\")"
   ]
  },
  {
   "cell_type": "code",
   "execution_count": null,
   "metadata": {},
   "outputs": [],
   "source": [
    "# Solution load-cities\n",
    "cities = pl.read_parquet(\"data/worldcities.parquet\")\n",
    "cities"
   ]
  },
  {
   "cell_type": "code",
   "execution_count": null,
   "metadata": {},
   "outputs": [],
   "source": [
    "# Solution world-map\n",
    "cities.plot.scatter(\n",
    "    x=\"lng\",\n",
    "    y=\"lat\",\n",
    "    # The following arguments are optional\n",
    "    hover_cols=[\"city\"],\n",
    "    color=\"country\",\n",
    "    title=\"Cities of the World\",\n",
    "    height=500,\n",
    "    width=1000,\n",
    "    legend=False,\n",
    "    grid=True\n",
    ")"
   ]
  },
  {
   "cell_type": "code",
   "execution_count": null,
   "metadata": {},
   "outputs": [],
   "source": [
    "# Solution ten-smallest\n",
    "sorted_population = un.sort(\"population\")\n",
    "ten_smallest = sorted_population.head(10)\n",
    "ten_smallest.plot.bar(x=\"iso3\", y=\"population\", color=\"region\", hover_cols=[\"country\"])"
   ]
  },
  {
   "cell_type": "code",
   "execution_count": null,
   "metadata": {},
   "outputs": [
    {
     "data": {
      "text/html": [
       "<div><style>\n",
       ".dataframe > thead > tr,\n",
       ".dataframe > tbody > tr {\n",
       "  text-align: right;\n",
       "  white-space: pre-wrap;\n",
       "}\n",
       "</style>\n",
       "<small>shape: (193, 8)</small><table border=\"1\" class=\"dataframe\"><thead><tr><th>iso3</th><th>country</th><th>population</th><th>area</th><th>admission_date</th><th>region</th><th>subregion</th><th>membership_in_years</th></tr><tr><td>str</td><td>str</td><td>i64</td><td>f64</td><td>date</td><td>str</td><td>str</td><td>i64</td></tr></thead><tbody><tr><td>&quot;AFG&quot;</td><td>&quot;Afghanistan&quot;</td><td>41128771</td><td>652860.0</td><td>1946-11-19</td><td>&quot;Asia&quot;</td><td>&quot;Southern Asia&quot;</td><td>77</td></tr><tr><td>&quot;ALB&quot;</td><td>&quot;Albania&quot;</td><td>2777689</td><td>28750.0</td><td>1955-12-14</td><td>&quot;Europe&quot;</td><td>&quot;Southern Europe&quot;</td><td>68</td></tr><tr><td>&quot;DZA&quot;</td><td>&quot;Algeria&quot;</td><td>44903225</td><td>2.381741e6</td><td>1962-10-08</td><td>&quot;Africa&quot;</td><td>&quot;Northern Africa&quot;</td><td>61</td></tr><tr><td>&quot;AND&quot;</td><td>&quot;Andorra&quot;</td><td>79824</td><td>470.0</td><td>1993-07-28</td><td>&quot;Europe&quot;</td><td>&quot;Southern Europe&quot;</td><td>30</td></tr><tr><td>&quot;AGO&quot;</td><td>&quot;Angola&quot;</td><td>35588987</td><td>1.2467e6</td><td>1976-12-01</td><td>&quot;Africa&quot;</td><td>&quot;Sub-Saharan Africa&quot;</td><td>47</td></tr><tr><td>&hellip;</td><td>&hellip;</td><td>&hellip;</td><td>&hellip;</td><td>&hellip;</td><td>&hellip;</td><td>&hellip;</td><td>&hellip;</td></tr><tr><td>&quot;VEN&quot;</td><td>&quot;Venezuela&quot;</td><td>28301696</td><td>912050.0</td><td>1945-11-15</td><td>&quot;Americas&quot;</td><td>&quot;Latin America and the Caribbea…</td><td>78</td></tr><tr><td>&quot;VNM&quot;</td><td>&quot;Vietnam&quot;</td><td>98186856</td><td>331340.0</td><td>1977-09-20</td><td>&quot;Asia&quot;</td><td>&quot;South-eastern Asia&quot;</td><td>46</td></tr><tr><td>&quot;YEM&quot;</td><td>&quot;Yemen&quot;</td><td>33696614</td><td>527970.0</td><td>1947-09-30</td><td>&quot;Asia&quot;</td><td>&quot;Western Asia&quot;</td><td>76</td></tr><tr><td>&quot;ZMB&quot;</td><td>&quot;Zambia&quot;</td><td>20017675</td><td>752610.0</td><td>1964-12-01</td><td>&quot;Africa&quot;</td><td>&quot;Sub-Saharan Africa&quot;</td><td>59</td></tr><tr><td>&quot;ZWE&quot;</td><td>&quot;Zimbabwe&quot;</td><td>16320537</td><td>390760.0</td><td>1980-08-25</td><td>&quot;Africa&quot;</td><td>&quot;Sub-Saharan Africa&quot;</td><td>43</td></tr></tbody></table></div>"
      ],
      "text/plain": [
       "shape: (193, 8)\n",
       "┌──────┬─────────────┬────────────┬────────────┬─────────────┬──────────┬─────────────┬────────────┐\n",
       "│ iso3 ┆ country     ┆ population ┆ area       ┆ admission_d ┆ region   ┆ subregion   ┆ membership │\n",
       "│ ---  ┆ ---         ┆ ---        ┆ ---        ┆ ate         ┆ ---      ┆ ---         ┆ _in_years  │\n",
       "│ str  ┆ str         ┆ i64        ┆ f64        ┆ ---         ┆ str      ┆ str         ┆ ---        │\n",
       "│      ┆             ┆            ┆            ┆ date        ┆          ┆             ┆ i64        │\n",
       "╞══════╪═════════════╪════════════╪════════════╪═════════════╪══════════╪═════════════╪════════════╡\n",
       "│ AFG  ┆ Afghanistan ┆ 41128771   ┆ 652860.0   ┆ 1946-11-19  ┆ Asia     ┆ Southern    ┆ 77         │\n",
       "│      ┆             ┆            ┆            ┆             ┆          ┆ Asia        ┆            │\n",
       "│ ALB  ┆ Albania     ┆ 2777689    ┆ 28750.0    ┆ 1955-12-14  ┆ Europe   ┆ Southern    ┆ 68         │\n",
       "│      ┆             ┆            ┆            ┆             ┆          ┆ Europe      ┆            │\n",
       "│ DZA  ┆ Algeria     ┆ 44903225   ┆ 2.381741e6 ┆ 1962-10-08  ┆ Africa   ┆ Northern    ┆ 61         │\n",
       "│      ┆             ┆            ┆            ┆             ┆          ┆ Africa      ┆            │\n",
       "│ AND  ┆ Andorra     ┆ 79824      ┆ 470.0      ┆ 1993-07-28  ┆ Europe   ┆ Southern    ┆ 30         │\n",
       "│      ┆             ┆            ┆            ┆             ┆          ┆ Europe      ┆            │\n",
       "│ AGO  ┆ Angola      ┆ 35588987   ┆ 1.2467e6   ┆ 1976-12-01  ┆ Africa   ┆ Sub-Saharan ┆ 47         │\n",
       "│      ┆             ┆            ┆            ┆             ┆          ┆ Africa      ┆            │\n",
       "│ …    ┆ …           ┆ …          ┆ …          ┆ …           ┆ …        ┆ …           ┆ …          │\n",
       "│ VEN  ┆ Venezuela   ┆ 28301696   ┆ 912050.0   ┆ 1945-11-15  ┆ Americas ┆ Latin       ┆ 78         │\n",
       "│      ┆             ┆            ┆            ┆             ┆          ┆ America and ┆            │\n",
       "│      ┆             ┆            ┆            ┆             ┆          ┆ the         ┆            │\n",
       "│      ┆             ┆            ┆            ┆             ┆          ┆ Caribbea…   ┆            │\n",
       "│ VNM  ┆ Vietnam     ┆ 98186856   ┆ 331340.0   ┆ 1977-09-20  ┆ Asia     ┆ South-easte ┆ 46         │\n",
       "│      ┆             ┆            ┆            ┆             ┆          ┆ rn Asia     ┆            │\n",
       "│ YEM  ┆ Yemen       ┆ 33696614   ┆ 527970.0   ┆ 1947-09-30  ┆ Asia     ┆ Western     ┆ 76         │\n",
       "│      ┆             ┆            ┆            ┆             ┆          ┆ Asia        ┆            │\n",
       "│ ZMB  ┆ Zambia      ┆ 20017675   ┆ 752610.0   ┆ 1964-12-01  ┆ Africa   ┆ Sub-Saharan ┆ 59         │\n",
       "│      ┆             ┆            ┆            ┆             ┆          ┆ Africa      ┆            │\n",
       "│ ZWE  ┆ Zimbabwe    ┆ 16320537   ┆ 390760.0   ┆ 1980-08-25  ┆ Africa   ┆ Sub-Saharan ┆ 43         │\n",
       "│      ┆             ┆            ┆            ┆             ┆          ┆ Africa      ┆            │\n",
       "└──────┴─────────────┴────────────┴────────────┴─────────────┴──────────┴─────────────┴────────────┘"
      ]
     },
     "metadata": {},
     "output_type": "display_data"
    }
   ],
   "source": [
    "# Solution membership-years\n",
    "un.with_columns(\n",
    "    membership_in_years = (\n",
    "        (date.today() - un[\"admission_date\"]).dt.total_days() // 365.25).cast(pl.Int64)\n",
    ")"
   ]
  },
  {
   "cell_type": "code",
   "execution_count": null,
   "metadata": {},
   "outputs": [],
   "source": [
    "# Solution energy-it\n",
    "el_source = pl.read_csv(\"data/our_world_in_data/electricity-source.csv\", infer_schema_length=5000)\n",
    "el_source_italy = el_source.filter(country=\"Italy\")\n",
    "el_source_italy"
   ]
  },
  {
   "cell_type": "code",
   "execution_count": null,
   "metadata": {},
   "outputs": [],
   "source": [
    "# Solution energy-it (1)\n",
    "el_source_italy.plot.area(x=\"year\", y=[\"nuclear\", \"hydro\", \"fossil\", \"renewables\"], stacked=True)"
   ]
  },
  {
   "cell_type": "code",
   "execution_count": null,
   "metadata": {},
   "outputs": [],
   "source": [
    "# Solution energy-it (2)\n",
    "el_source_italy.plot(x=\"year\", y=[\"nuclear\", \"hydro\", \"fossil\", \"renewables\"])"
   ]
  },
  {
   "cell_type": "code",
   "execution_count": null,
   "metadata": {},
   "outputs": [],
   "source": [
    "# Solution founding-members\n",
    "first_date = un[\"admission_date\"].min()\n",
    "founding_members =  un.filter(admission_date = first_date)\n",
    "founding_members"
   ]
  },
  {
   "cell_type": "code",
   "execution_count": null,
   "metadata": {},
   "outputs": [],
   "source": [
    "# Solution forest-change\n",
    "forest_area.group_by(\"Entity\").agg(\n",
    "    area_first=pl.col(\"Forest area\").first().alias(\"area_first\"),\n",
    "    area_last=pl.col(\"Forest area\").last(),\n",
    "    area_diff=pl.col(\"Forest area\").last() - pl.col(\"Forest area\").first()\n",
    ").with_columns(\n",
    "    rel_diff=pl.col(\"area_diff\") / pl.col(\"area_first\")\n",
    ").filter(pl.col(\"rel_diff\").is_finite()).sort(\"rel_diff\").drop_nulls()"
   ]
  },
  {
   "cell_type": "code",
   "execution_count": null,
   "metadata": {},
   "outputs": [],
   "source": [
    "# Solution forest-change\n",
    "first_and_last_forest_area = forest_area.group_by(\"Entity\").agg(\n",
    "    area_first=pl.col(\"Forest area\").first(),\n",
    "    area_last=pl.col(\"Forest area\").last(),\n",
    ")\n",
    "relative_change = first_and_last_forest_area.select(\n",
    "    \"Entity\",\n",
    "    rel_diff=(pl.col(\"area_last\") - pl.col(\"area_first\")) / pl.col(\"area_first\")\n",
    ").filter(pl.col(\"rel_diff\").is_finite())\n",
    "relative_change.sort(\"rel_diff\")"
   ]
  },
  {
   "cell_type": "code",
   "execution_count": null,
   "metadata": {},
   "outputs": [],
   "source": [
    "# Solution hottest-night\n",
    "recent_weather = weather.filter(pl.col(\"time\") > datetime(2014, 1, 1))\n",
    "min_daily_temperatures = recent_weather.set_sorted(\"time\").group_by_dynamic(\"time\", every=\"1d\").agg(min_temp=pl.col(\"temp\").drop_nans().min()).drop_nulls()\n",
    "top_nights = min_daily_temperatures.sort(\"min_temp\", descending=True).head(10)\n",
    "top_nights"
   ]
  },
  {
   "cell_type": "code",
   "execution_count": null,
   "metadata": {},
   "outputs": [],
   "source": [
    "# Solution million-cities\n",
    "million_cities = cities.filter(pl.col(\"population\") > 1e6)\n",
    "million_cities_with_country = million_cities.join(un, on=\"iso3\", how=\"inner\")\n",
    "million_cities_per_region = (\n",
    "    million_cities_with_country.group_by(\"region\", \"subregion\")\n",
    "    .len()\n",
    "    .rename({\"len\": \"count\"})\n",
    "    .sort(\"count\", descending=True)\n",
    ")\n",
    "million_cities_per_region\n"
   ]
  },
  {
   "cell_type": "code",
   "execution_count": null,
   "metadata": {},
   "outputs": [],
   "source": [
    "# Solution million-cities (bonus)\n",
    "million_cities = cities.filter(pl.col(\"population\") > 1e6).sort(\"population\", descending=True)\n",
    "million_cities_with_country = million_cities.join(un, on=\"iso3\", how=\"inner\")\n",
    "million_cities_per_region = (\n",
    "    million_cities_with_country.group_by(\"region\", \"subregion\")\n",
    "    .agg(\n",
    "        pl.col(\"population\").count().alias(\"count\"),\n",
    "        pl.col(\"city\").first(),\n",
    "        pl.col(\"population\").first(),\n",
    "    )\n",
    "    .sort(\"count\", descending=True)\n",
    ")\n",
    "million_cities_per_region\n"
   ]
  },
  {
   "cell_type": "code",
   "execution_count": null,
   "metadata": {},
   "outputs": [],
   "source": [
    "# Solution forest-region\n",
    "forest_area_by_region = forest_area.join(un, left_on=\"Code\", right_on=\"iso3\", how=\"inner\").pivot(\n",
    "    values=\"Forest area\", index=\"Year\", columns=\"region\", aggregate_function=\"sum\"\n",
    ")\n",
    "forest_area_by_region.plot.area(stacked=True, x=\"Year\")"
   ]
  }
 ],
 "metadata": {
  "kernelspec": {
   "display_name": ".venv",
   "language": "python",
   "name": "python3"
  },
  "language_info": {
   "codemirror_mode": {
    "name": "ipython",
    "version": 3
   },
   "file_extension": ".py",
   "mimetype": "text/x-python",
   "name": "python",
   "nbconvert_exporter": "python",
   "pygments_lexer": "ipython3",
   "version": "3.11.5"
  }
 },
 "nbformat": 4,
 "nbformat_minor": 2
}
