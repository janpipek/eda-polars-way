{
 "cells": [
  {
   "cell_type": "code",
   "execution_count": null,
   "metadata": {},
   "outputs": [],
   "source": [
    "import polars as pl\n",
    "import hvplot.polars\n",
    "from datetime import datetime, date"
   ]
  },
  {
   "cell_type": "code",
   "execution_count": null,
   "metadata": {},
   "outputs": [],
   "source": [
    "# Load datasets\n",
    "un = pl.read_csv(\"data/un_basic.csv\", try_parse_dates=True)\n",
    "forest_area = pl.read_csv(\"data/our_world_in_data/forest-area-km.csv\")\n",
    "weather = pl.read_parquet(\"data/vienna-meteostat.parquet\")"
   ]
  },
  {
   "cell_type": "code",
   "execution_count": null,
   "metadata": {},
   "outputs": [],
   "source": [
    "# Solution load-cities\n",
    "cities = pl.read_parquet(\"data/worldcities.parquet\")\n",
    "cities"
   ]
  },
  {
   "cell_type": "code",
   "execution_count": null,
   "metadata": {},
   "outputs": [],
   "source": [
    "# Solution world-map\n",
    "cities.hvplot.scatter(\n",
    "    x=\"lng\",\n",
    "    y=\"lat\",\n",
    "    # The following arguments are optional\n",
    "    hover_cols=[\"city\"],\n",
    "    color=\"country\",\n",
    "    title=\"Cities of the World\",\n",
    "    height=500,\n",
    "    width=1000,\n",
    "    legend=False,\n",
    "    grid=True\n",
    ")"
   ]
  },
  {
   "cell_type": "code",
   "execution_count": null,
   "metadata": {},
   "outputs": [],
   "source": [
    "# Solution ten-smallest\n",
    "sorted_population = un.sort(\"population\")\n",
    "ten_smallest = sorted_population.head(10)\n",
    "ten_smallest.hvplot.bar(x=\"iso3\", y=\"population\", color=\"region\", hover_cols=[\"country\"])"
   ]
  },
  {
   "cell_type": "code",
   "execution_count": null,
   "metadata": {},
   "outputs": [],
   "source": [
    "# Solution membership-years\n",
    "un.with_columns(\n",
    "    membership_in_years = (\n",
    "        (date.today() - un[\"admission_date\"]).dt.total_days() // 365.25).cast(pl.Int64)\n",
    ")"
   ]
  },
  {
   "cell_type": "code",
   "execution_count": null,
   "metadata": {},
   "outputs": [],
   "source": [
    "# Solution energy-at\n",
    "el_source = pl.read_csv(\"data/our_world_in_data/electricity-source.csv\", infer_schema_length=5000)\n",
    "el_source_austria = el_source.filter(country=\"Austria\")\n",
    "el_source_austria"
   ]
  },
  {
   "cell_type": "code",
   "execution_count": null,
   "metadata": {},
   "outputs": [],
   "source": [
    "# Solution energy-at (1)\n",
    "el_source_austria.hvplot.area(x=\"year\", y=[\"nuclear\", \"hydro\", \"fossil\", \"renewables\"], stacked=True)"
   ]
  },
  {
   "cell_type": "code",
   "execution_count": null,
   "metadata": {},
   "outputs": [],
   "source": [
    "# Solution energy-at (2)\n",
    "el_source_austria.hvplot.line(x=\"year\", y=[\"nuclear\", \"hydro\", \"fossil\", \"renewables\"])"
   ]
  },
  {
   "cell_type": "code",
   "execution_count": null,
   "metadata": {},
   "outputs": [],
   "source": [
    "# Solution founding-members\n",
    "first_date = un[\"admission_date\"].min()\n",
    "founding_members =  un.filter(admission_date = first_date)\n",
    "founding_members"
   ]
  },
  {
   "cell_type": "code",
   "execution_count": null,
   "metadata": {},
   "outputs": [],
   "source": [
    "# Solution forest-change\n",
    "forest_area.group_by(\"Entity\").agg(\n",
    "    area_first=pl.col(\"Forest area\").first().alias(\"area_first\"),\n",
    "    area_last=pl.col(\"Forest area\").last(),\n",
    "    area_diff=pl.col(\"Forest area\").last() - pl.col(\"Forest area\").first()\n",
    ").with_columns(\n",
    "    rel_diff=pl.col(\"area_diff\") / pl.col(\"area_first\")\n",
    ").filter(pl.col(\"rel_diff\").is_finite()).sort(\"rel_diff\").drop_nulls()"
   ]
  },
  {
   "cell_type": "code",
   "execution_count": null,
   "metadata": {},
   "outputs": [],
   "source": [
    "# Solution forest-change\n",
    "first_and_last_forest_area = forest_area.group_by(\"Entity\").agg(\n",
    "    area_first=pl.col(\"Forest area\").first(),\n",
    "    area_last=pl.col(\"Forest area\").last(),\n",
    ")\n",
    "relative_change = first_and_last_forest_area.select(\n",
    "    \"Entity\",\n",
    "    rel_diff=(pl.col(\"area_last\") - pl.col(\"area_first\")) / pl.col(\"area_first\")\n",
    ").filter(pl.col(\"rel_diff\").is_finite())\n",
    "relative_change.sort(\"rel_diff\")"
   ]
  },
  {
   "cell_type": "code",
   "execution_count": null,
   "metadata": {},
   "outputs": [],
   "source": [
    "# Solution hottest-night\n",
    "recent_weather = weather.filter(pl.col(\"time\") > datetime(1980, 1, 1))\n",
    "min_daily_temperatures = recent_weather.group_by_dynamic(\"time\", every=\"1d\").agg(min_temp=pl.col(\"temp\").drop_nans().min())\n",
    "top_nights = min_daily_temperatures.sort(\"min_temp\", descending=True).head(10)\n",
    "top_nights"
   ]
  },
  {
   "cell_type": "code",
   "execution_count": null,
   "metadata": {},
   "outputs": [],
   "source": [
    "# Exercise highest-rainfall\n",
    "weather.rolling(\"time\", period=\"48h\").agg(pl.col(\"prcp\").sum()).top_k(10, by=\"prcp\")"
   ]
  },
  {
   "cell_type": "code",
   "execution_count": null,
   "metadata": {},
   "outputs": [],
   "source": [
    "# Solution million-cities\n",
    "million_cities = cities.filter(pl.col(\"population\") > 1e6)\n",
    "million_cities_with_country = million_cities.join(un, on=\"iso3\", how=\"inner\")\n",
    "million_cities_per_region = (\n",
    "    million_cities_with_country.group_by(\"region\", \"subregion\")\n",
    "    .len()\n",
    "    .rename({\"len\": \"count\"})\n",
    "    .sort(\"count\", descending=True)\n",
    ")\n",
    "million_cities_per_region\n"
   ]
  },
  {
   "cell_type": "code",
   "execution_count": null,
   "metadata": {},
   "outputs": [],
   "source": [
    "# Solution million-cities (bonus)\n",
    "million_cities = cities.filter(pl.col(\"population\") > 1e6).sort(\"population\", descending=True)\n",
    "million_cities_with_country = million_cities.join(un, on=\"iso3\", how=\"inner\")\n",
    "million_cities_per_region = (\n",
    "    million_cities_with_country.group_by(\"region\", \"subregion\")\n",
    "    .agg(\n",
    "        pl.col(\"population\").count().alias(\"count\"),\n",
    "        pl.col(\"city\").first(),\n",
    "        pl.col(\"population\").first(),\n",
    "    )\n",
    "    .sort(\"count\", descending=True)\n",
    ")\n",
    "million_cities_per_region\n"
   ]
  },
  {
   "cell_type": "code",
   "execution_count": null,
   "metadata": {},
   "outputs": [],
   "source": [
    "# Solution forest-region\n",
    "forest_area_by_region = forest_area.join(un, left_on=\"Code\", right_on=\"iso3\", how=\"inner\").pivot(\n",
    "    on=\"region\", values=\"Forest area\", index=\"Year\", aggregate_function=\"sum\"\n",
    ")\n",
    "forest_area_by_region.hvplot.area(stacked=True, x=\"Year\")"
   ]
  }
 ],
 "metadata": {
  "kernelspec": {
   "display_name": "Python 3 (ipykernel)",
   "language": "python",
   "name": "python3"
  },
  "language_info": {
   "codemirror_mode": {
    "name": "ipython",
    "version": 3
   },
   "file_extension": ".py",
   "mimetype": "text/x-python",
   "name": "python",
   "nbconvert_exporter": "python",
   "pygments_lexer": "ipython3",
   "version": "3.13.1"
  }
 },
 "nbformat": 4,
 "nbformat_minor": 4
}
