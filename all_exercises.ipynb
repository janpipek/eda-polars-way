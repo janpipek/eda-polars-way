{
 "cells": [
  {
   "cell_type": "markdown",
   "metadata": {},
   "source": [
    "# EDA, the Polars Way"
   ]
  },
  {
   "cell_type": "markdown",
   "metadata": {},
   "source": [
    "What is [polars](https://docs.pola.rs/)?\n",
    "\n",
    "- Library for manipulation with tabular data*, based on arrow\n",
    "- Contender to [pandas](https://pandas.pydata.org/) (and many more similar tools)\n",
    "- Since 2020, started by Ritchie Vink"
   ]
  },
  {
   "cell_type": "markdown",
   "metadata": {},
   "source": [
    "### Why polars?\n",
    "\n",
    "- Performance (rust)\n",
    "- Clean(er) API\n",
    "- Lazy evaluation & query optimization\n",
    "- Cool kid on the block"
   ]
  },
  {
   "cell_type": "markdown",
   "metadata": {},
   "source": [
    "### Why not polars?\n",
    "\n",
    "- Less stable\n",
    "- Less functionality\n",
    "- Less known\n",
    "- Sometimes lengthy code"
   ]
  },
  {
   "cell_type": "markdown",
   "metadata": {},
   "source": [
    "## Let's start"
   ]
  },
  {
   "cell_type": "markdown",
   "metadata": {},
   "source": [
    "```shell\n",
    "jupyter lab\n",
    "```\n",
    "\n",
    "TODO: Open \"exercises/10-exploration.ipynb\""
   ]
  },
  {
   "cell_type": "code",
   "execution_count": null,
   "metadata": {},
   "outputs": [],
   "source": [
    "import polars as pl\n",
    "import polars.selectors as cs"
   ]
  },
  {
   "cell_type": "markdown",
   "metadata": {},
   "source": [
    "## Basic types\n",
    "\n",
    "See https://docs.pola.rs/user-guide/concepts/data-structures/"
   ]
  },
  {
   "cell_type": "code",
   "execution_count": null,
   "metadata": {},
   "outputs": [],
   "source": [
    "# Other useful imports\n",
    "from datetime import date, datetime"
   ]
  },
  {
   "cell_type": "markdown",
   "metadata": {},
   "source": [
    "### DataFrame\n",
    "\n",
    "- a \"table\"?\n",
    "- a \"spreadsheet\" table?\n",
    "- a \"dict of columns\"?"
   ]
  },
  {
   "cell_type": "code",
   "execution_count": null,
   "metadata": {},
   "outputs": [],
   "source": [
    "# Load some data\n",
    "un = pl.read_csv(\"data/un_basic.csv\", try_parse_dates=True)\n",
    "un"
   ]
  },
  {
   "cell_type": "code",
   "execution_count": null,
   "metadata": {},
   "outputs": [],
   "source": [
    "# What is it?\n",
    "type(un)"
   ]
  },
  {
   "cell_type": "markdown",
   "metadata": {},
   "source": [
    "### Series\n",
    "\n",
    "- a \"list\"?\n",
    "- a \"column\"?\n",
    "- an \"array of X\"?\n",
    "\n",
    "A bit of everything..."
   ]
  },
  {
   "cell_type": "code",
   "execution_count": null,
   "metadata": {},
   "outputs": [],
   "source": [
    "# Select one column for a DataFrame\n",
    "un[\"country\"]"
   ]
  },
  {
   "cell_type": "code",
   "execution_count": null,
   "metadata": {},
   "outputs": [],
   "source": [
    "type(un[\"country\"])"
   ]
  },
  {
   "cell_type": "code",
   "execution_count": null,
   "metadata": {},
   "outputs": [],
   "source": [
    "un.shape"
   ]
  },
  {
   "cell_type": "code",
   "execution_count": null,
   "metadata": {},
   "outputs": [],
   "source": [
    "un.columns"
   ]
  },
  {
   "cell_type": "code",
   "execution_count": null,
   "metadata": {},
   "outputs": [],
   "source": [
    "un.sample(10)"
   ]
  },
  {
   "cell_type": "code",
   "execution_count": null,
   "metadata": {},
   "outputs": [],
   "source": [
    "un.describe()"
   ]
  },
  {
   "cell_type": "markdown",
   "metadata": {},
   "source": [
    "### D(ata) types\n",
    "\n",
    "- each column hold object of the same type (unlike Python collections!)\n",
    "- distinct from (but convertible to/from) Python classes\n",
    "- the types are nullable => each value can be missing"
   ]
  },
  {
   "cell_type": "code",
   "execution_count": null,
   "metadata": {},
   "outputs": [],
   "source": [
    "# List of all data types in a DataFrame\n",
    "un.dtypes"
   ]
  },
  {
   "cell_type": "markdown",
   "metadata": {},
   "source": [
    "#### Common types\n",
    "\n",
    "- Int8, Int16, Int32, Int64, UInt8, UInt16, UInt32, UInt64\n",
    "- Float32, Float64\n",
    "- Decimal\n",
    "- Date, Datetime, Time\n",
    "- String, Categorical, Enum\n",
    "- Array, List, Struct\n",
    "- Boolean\n",
    "- Object, Null, Binary, Unknown\n",
    "\n",
    "See https://docs.pola.rs/user-guide/concepts/data-types/overview/"
   ]
  },
  {
   "cell_type": "code",
   "execution_count": null,
   "metadata": {},
   "outputs": [],
   "source": [
    "# More useful (dict)\n",
    "{col: un[col].dtype for col in un.columns}"
   ]
  },
  {
   "cell_type": "code",
   "execution_count": null,
   "metadata": {},
   "outputs": [],
   "source": [
    "# Construct a Series from an object\n",
    "pl.Series(\"city\", [\"Firenze\", \"Berlin\", \"Pittsburgh\", \"Prague\"], dtype=pl.String)"
   ]
  },
  {
   "cell_type": "code",
   "execution_count": null,
   "metadata": {},
   "outputs": [],
   "source": [
    "# Construct a DataFrame\n",
    "pl.DataFrame({\n",
    "    \"event\": [\"PyCon Italia\", \"PyCon.DE & PyData Berlin\", \"PyCon US\", \"EuroPython\"],\n",
    "    \"city\": [\"Firenze\", \"Berlin\", \"Pittsburgh\", \"Prague\"],\n",
    "    \"country\": [\"Italy\", \"Germany\", \"United States of America\", \"Czechia\"],\n",
    "    \"start_date\": [date(2024, 5, 22), date(2024, 4, 22), date(2024, 5, 15), date(2024, 7, 8)]\n",
    "})"
   ]
  },
  {
   "cell_type": "code",
   "execution_count": null,
   "metadata": {},
   "outputs": [],
   "source": [
    "## Pandas window\n",
    "\n",
    "import pandas as pd\n",
    "pandas_series = pd.DataFrame({\n",
    "    \"a\": [1, 2, 3, 4, 5],\n",
    "    \"b\": pd.Series([1, 2, 3, 4, 5], dtype=\"float64\")\n",
    "})\n",
    "pl.DataFrame(pandas_series)"
   ]
  },
  {
   "cell_type": "markdown",
   "metadata": {},
   "source": [
    "## Basic plotting\n",
    "\n",
    "Choose any library you want:\n",
    "\n",
    "- [plotly](https://plotly.com/python/)\n",
    "- [matplotlib](https://matplotlib.org/)\n",
    "- [seaborn](https://seaborn.pydata.org/)\n",
    "- [hvplot](https://hvplot.holoviz.org/)\n",
    "- ..."
   ]
  },
  {
   "cell_type": "markdown",
   "metadata": {},
   "source": [
    "### \"Built-in\" hvplot support\n",
    "\n",
    "Note: hvplot must be installed\n",
    "\n",
    "```python\n",
    "df.plot()\n",
    "df.plot.bar()\n",
    "df.plot.scatter()\n",
    "```\n"
   ]
  },
  {
   "cell_type": "code",
   "execution_count": null,
   "metadata": {},
   "outputs": [],
   "source": [
    "un.plot.scatter(x=\"area\", y=\"population\", logx=True, logy=True, color=\"region\", title=\"Countries of the World\", hover_cols=[\"country\"])"
   ]
  },
  {
   "cell_type": "markdown",
   "metadata": {},
   "source": [
    "**Excercise**: Load the list of cities and draw the \"poor man's map of the world\", based on the \"lat\" and \"lng\" columns of the table."
   ]
  },
  {
   "cell_type": "code",
   "execution_count": null,
   "metadata": {},
   "outputs": [],
   "source": [
    "cities = pl.read_parquet(\"data/simple_maps/worldcities.parquet\")\n",
    "cities"
   ]
  },
  {
   "cell_type": "code",
   "execution_count": null,
   "metadata": {},
   "outputs": [],
   "source": [
    "cities.plot.scatter(\n",
    "    x=\"lng\",\n",
    "    y=\"lat\",\n",
    "    hover_cols=[\"city\"],\n",
    "    color=\"country\",\n",
    "    title=\"Cities of the World\",\n",
    "    height=500,\n",
    "    width=1000,\n",
    "    legend=False,\n",
    "    grid=True\n",
    ")"
   ]
  },
  {
   "cell_type": "markdown",
   "metadata": {},
   "source": [
    "## Sorting\n",
    "\n",
    "[polars.DataFrame.sort](https://docs.pola.rs/py-polars/html/reference/dataframe/api/polars.DataFrame.sort.html)"
   ]
  },
  {
   "cell_type": "code",
   "execution_count": null,
   "metadata": {},
   "outputs": [],
   "source": [
    "un.sort(\"admission_date\")"
   ]
  },
  {
   "cell_type": "code",
   "execution_count": null,
   "metadata": {},
   "outputs": [],
   "source": [
    "un.sort(\"population\", descending=True)"
   ]
  },
  {
   "cell_type": "code",
   "execution_count": null,
   "metadata": {},
   "outputs": [],
   "source": [
    "un.sort(\"region\", \"subregion\")"
   ]
  },
  {
   "cell_type": "markdown",
   "metadata": {},
   "source": [
    "**Exercise** Create a bar plot of 10 countries with the lowest population.\n",
    "\n",
    "Hints:\n",
    "- `.sort`\n",
    "- [`.head`](https://docs.pola.rs/py-polars/html/reference/dataframe/api/polars.DataFrame.head.html) \n",
    "- [`.plot.bar`](https://hvplot.holoviz.org/reference/tabular/bar.html) - docs from the hvplot pages\n",
    "- Use `hover_cols` and `x` args to describe the plot properly"
   ]
  },
  {
   "cell_type": "code",
   "execution_count": null,
   "metadata": {},
   "outputs": [],
   "source": [
    "# Exercise"
   ]
  },
  {
   "cell_type": "markdown",
   "metadata": {},
   "source": [
    "## Expressions & selection"
   ]
  },
  {
   "cell_type": "markdown",
   "metadata": {},
   "source": [
    "Expression, representing column(s) in a dataframe:"
   ]
  },
  {
   "cell_type": "code",
   "execution_count": null,
   "metadata": {},
   "outputs": [],
   "source": [
    "pl.col(\"country\")"
   ]
  },
  {
   "cell_type": "code",
   "execution_count": null,
   "metadata": {},
   "outputs": [],
   "source": [
    "un.select(\"country\")"
   ]
  },
  {
   "cell_type": "code",
   "execution_count": null,
   "metadata": {},
   "outputs": [],
   "source": [
    "# Select a column\n",
    "un.select(pl.col(\"country\"))"
   ]
  },
  {
   "cell_type": "code",
   "execution_count": null,
   "metadata": {},
   "outputs": [],
   "source": [
    "# Literal value\n",
    "un.select(pl.lit(\"country\"))"
   ]
  },
  {
   "cell_type": "markdown",
   "metadata": {},
   "source": [
    "## Filtering"
   ]
  },
  {
   "cell_type": "markdown",
   "metadata": {},
   "source": [
    "When you want to select rows based on some criteria... Well, a short detour:"
   ]
  },
  {
   "cell_type": "markdown",
   "metadata": {},
   "source": [
    "### Contexts"
   ]
  },
  {
   "cell_type": "markdown",
   "metadata": {},
   "source": [
    "Every expression can only be executed within one of the following contexts:\n",
    "\n",
    "1. Selection (`.select`, `.with_columns`) - we already saw this\n",
    "2. Filtering (`.filter`)\n",
    "3. Aggregation\n",
    "\n",
    "See https://docs.pola.rs/user-guide/concepts/contexts/.\n"
   ]
  },
  {
   "cell_type": "markdown",
   "metadata": {},
   "source": [
    "Pass any boolean expression to the [`.filter`]() method"
   ]
  },
  {
   "cell_type": "code",
   "execution_count": null,
   "metadata": {},
   "outputs": [],
   "source": [
    "un.filter(country=\"Italy\")"
   ]
  },
  {
   "cell_type": "code",
   "execution_count": null,
   "metadata": {},
   "outputs": [],
   "source": [
    "un.filter(pl.col(\"population\") > 1e9)"
   ]
  },
  {
   "cell_type": "markdown",
   "metadata": {},
   "source": [
    "**Exercise:** Show how the share of electricity coming from different sources evolved over time in Italy, or from some other country."
   ]
  },
  {
   "cell_type": "code",
   "execution_count": null,
   "metadata": {},
   "outputs": [],
   "source": [
    "el_source = pl.read_csv(\"data/our_world_in_data/electricity-source.csv\", infer_schema_length=5000)\n",
    "# Exercise"
   ]
  },
  {
   "cell_type": "markdown",
   "metadata": {},
   "source": [
    "**Exercise:** Create a line plot of the fractions\n",
    "\n",
    "Hints:\n",
    "- `plot()` called directly is a line plot\n",
    "- you can supply multiple column names in the `y` argument"
   ]
  },
  {
   "cell_type": "code",
   "execution_count": null,
   "metadata": {},
   "outputs": [],
   "source": [
    "el_source_italy.plot(x=\"year\", y=[\"nuclear\", \"hydro\", \"fossil\", \"renewables\"])"
   ]
  },
  {
   "cell_type": "markdown",
   "metadata": {},
   "source": [
    "**Exercise** Find all founding members of the U.N. "
   ]
  },
  {
   "cell_type": "code",
   "execution_count": null,
   "metadata": {},
   "outputs": [],
   "source": [
    "# Exercise"
   ]
  },
  {
   "cell_type": "code",
   "execution_count": null,
   "metadata": {},
   "outputs": [],
   "source": [
    "el_source.describe()"
   ]
  },
  {
   "cell_type": "markdown",
   "metadata": {},
   "source": [
    "## Operations"
   ]
  },
  {
   "cell_type": "code",
   "execution_count": null,
   "metadata": {},
   "outputs": [],
   "source": [
    "un[\"population\"] / un[\"area\"]"
   ]
  },
  {
   "cell_type": "code",
   "execution_count": null,
   "metadata": {},
   "outputs": [],
   "source": [
    "date.today() - un[\"admission_date\"]"
   ]
  },
  {
   "cell_type": "code",
   "execution_count": null,
   "metadata": {},
   "outputs": [],
   "source": [
    "type(pl.col(\"population\") / pl.col(\"area\"))"
   ]
  },
  {
   "cell_type": "code",
   "execution_count": null,
   "metadata": {},
   "outputs": [],
   "source": [
    "un.select(\n",
    "    \"country\",\n",
    "    \"population\",\n",
    "    \"area\",\n",
    "    (pl.col(\"population\") / pl.col(\"area\")).alias(\"density\")\n",
    ").sort(\"density\", descending=True)"
   ]
  },
  {
   "cell_type": "code",
   "execution_count": null,
   "metadata": {},
   "outputs": [],
   "source": [
    "un.with_columns(\n",
    "    density=pl.col(\"population\") / pl.col(\"area\"),\n",
    ")"
   ]
  },
  {
   "cell_type": "markdown",
   "metadata": {},
   "source": [
    "## Aggregations (groupby)"
   ]
  },
  {
   "cell_type": "code",
   "execution_count": null,
   "metadata": {},
   "outputs": [],
   "source": [
    "un.group_by(\"region\").len()"
   ]
  },
  {
   "cell_type": "code",
   "execution_count": null,
   "metadata": {},
   "outputs": [],
   "source": [
    "un.group_by(\"subregion\").len()"
   ]
  },
  {
   "cell_type": "code",
   "execution_count": null,
   "metadata": {},
   "outputs": [],
   "source": [
    "un.group_by(\"region\", \"subregion\").len().sort(\"region\", \"subregion\")"
   ]
  },
  {
   "cell_type": "code",
   "execution_count": null,
   "metadata": {},
   "outputs": [],
   "source": [
    "un.group_by(\"subregion\").sum()"
   ]
  },
  {
   "cell_type": "code",
   "execution_count": null,
   "metadata": {},
   "outputs": [],
   "source": [
    "un.group_by(\"region\", \"subregion\").agg(\n",
    "    pl.col(\"population\").sum().alias(\"total_population\"),\n",
    "    pl.col(\"area\").sum().alias(\"total_area\"),\n",
    "    pl.col(\"area\").count().alias(\"num_countries\"),\n",
    ").sort(\"region\", \"subregion\")"
   ]
  },
  {
   "cell_type": "code",
   "execution_count": null,
   "metadata": {},
   "outputs": [],
   "source": [
    "forest_area = pl.read_csv(\"data/our_world_in_data/forest-area-km.csv\")\n",
    "forest_area"
   ]
  },
  {
   "cell_type": "markdown",
   "metadata": {},
   "source": [
    "**Exercise** Find the relative change of forestation for each country on the year range."
   ]
  },
  {
   "cell_type": "code",
   "execution_count": null,
   "metadata": {},
   "outputs": [],
   "source": [
    "# Exercise"
   ]
  },
  {
   "cell_type": "markdown",
   "metadata": {},
   "source": [
    "### Time aggregations"
   ]
  },
  {
   "cell_type": "code",
   "execution_count": null,
   "metadata": {},
   "outputs": [],
   "source": [
    "weather = pl.read_parquet(\"data/florence-meteostat.parquet\")\n",
    "weather"
   ]
  },
  {
   "cell_type": "markdown",
   "metadata": {},
   "source": [
    "What about timezones? Let's forget about them for now... but it would deserve its own workshop. See https://docs.pola.rs/user-guide/transformations/time-series/timezones/"
   ]
  },
  {
   "cell_type": "code",
   "execution_count": null,
   "metadata": {},
   "outputs": [],
   "source": [
    "weather.plot(y=\"temp\")"
   ]
  },
  {
   "cell_type": "code",
   "execution_count": null,
   "metadata": {},
   "outputs": [],
   "source": [
    "weather.plot(x=\"time\", y=\"temp\")"
   ]
  },
  {
   "cell_type": "code",
   "execution_count": null,
   "metadata": {},
   "outputs": [],
   "source": [
    "# We can use the year column\n",
    "yearly_mean = weather.group_by(\n",
    "    pl.col(\"time\").dt.year().alias(\"year\"), maintain_order=True\n",
    ").agg(avg_temp=pl.col(\"temp\").drop_nans().mean())\n",
    "yearly_mean\n"
   ]
  },
  {
   "cell_type": "code",
   "execution_count": null,
   "metadata": {},
   "outputs": [],
   "source": [
    "yearly_mean.plot(x=\"year\", y=\"avg_temp\")"
   ]
  },
  {
   "cell_type": "code",
   "execution_count": null,
   "metadata": {},
   "outputs": [],
   "source": [
    "# But grouping by month?\n",
    "monthly = weather.set_sorted(\"time\").group_by_dynamic(\"time\", every=\"1mo\").agg(avg_temp=pl.col(\"temp\").drop_nans().mean())\n",
    "monthly.plot(x=\"time\", y=\"avg_temp\")"
   ]
  },
  {
   "cell_type": "markdown",
   "metadata": {},
   "source": [
    "**Exercise:** What was the day with highest lowest temperature (probably meaning the hottest night) in Florence since the beginning of the measurement? "
   ]
  },
  {
   "cell_type": "code",
   "execution_count": null,
   "metadata": {},
   "outputs": [],
   "source": [
    "# Exercise"
   ]
  },
  {
   "cell_type": "markdown",
   "metadata": {},
   "source": [
    "## Joining"
   ]
  },
  {
   "cell_type": "code",
   "execution_count": null,
   "metadata": {},
   "outputs": [],
   "source": [
    "forest_area.group_by(\"Code\").last()"
   ]
  },
  {
   "cell_type": "markdown",
   "metadata": {},
   "source": [
    "**Exercise:** Find the total forest area per region. (Bonus: find also the percentage)"
   ]
  },
  {
   "cell_type": "code",
   "execution_count": null,
   "metadata": {},
   "outputs": [],
   "source": [
    "# Exercise"
   ]
  },
  {
   "cell_type": "markdown",
   "metadata": {},
   "source": [
    "**Exercise** Find the number of cities over 1 million inhabitants per region / subregion."
   ]
  },
  {
   "cell_type": "code",
   "execution_count": null,
   "metadata": {},
   "outputs": [],
   "source": [
    "# Exercise"
   ]
  },
  {
   "cell_type": "markdown",
   "metadata": {},
   "source": [
    "## Wide / long table format"
   ]
  },
  {
   "cell_type": "code",
   "execution_count": null,
   "metadata": {},
   "outputs": [],
   "source": [
    "wb_pop_wide = pl.read_csv(\"data/world_bank-population.csv\")\n",
    "wb_pop_wide"
   ]
  },
  {
   "cell_type": "code",
   "execution_count": null,
   "metadata": {},
   "outputs": [],
   "source": [
    "wb_pop = wb_pop_wide.melt(\n",
    "    id_vars=[\"Country Code\", \"Country Name\"],\n",
    "    variable_name=\"year\",\n",
    "    value_vars=cs.numeric(),\n",
    "    value_name=\"population\"\n",
    ").cast(\n",
    "    {\"year\": pl.Int64}\n",
    ").rename(\n",
    "    {\"Country Code\": \"iso3\", \"Country Name\": \"country\"}\n",
    ")\n",
    "wb_pop"
   ]
  },
  {
   "cell_type": "code",
   "execution_count": null,
   "metadata": {},
   "outputs": [],
   "source": [
    "world_pop = wb_pop.filter(iso3=\"WLD\").drop(\"iso3\", \"country\")   #.plot(x=\"year\", y=\"population\")\n",
    "world_pop"
   ]
  },
  {
   "cell_type": "markdown",
   "metadata": {},
   "source": [
    "**Exercise:** Plot the daily pattern of temperatures in Florence for each month of the year (since 2020)."
   ]
  },
  {
   "cell_type": "code",
   "execution_count": null,
   "metadata": {},
   "outputs": [],
   "source": [
    "# Exercise"
   ]
  },
  {
   "cell_type": "code",
   "execution_count": null,
   "metadata": {},
   "outputs": [],
   "source": [
    "month_day_table = month_day_data.pivot(\n",
    "    values=\"temp\",\n",
    "    index=\"hour\",\n",
    "    columns=\"month_name\",\n",
    "    aggregate_function=\"mean\",\n",
    ")\n",
    "month_day_table"
   ]
  },
  {
   "cell_type": "code",
   "execution_count": null,
   "metadata": {},
   "outputs": [],
   "source": [
    "month_day_table.plot(x=\"hour\")"
   ]
  },
  {
   "cell_type": "markdown",
   "metadata": {},
   "source": [
    "## Lazy operations"
   ]
  },
  {
   "cell_type": "code",
   "execution_count": null,
   "metadata": {},
   "outputs": [],
   "source": [
    "cities.lazy()"
   ]
  },
  {
   "cell_type": "code",
   "execution_count": null,
   "metadata": {},
   "outputs": [],
   "source": [
    "print(cities.lazy().filter(pl.col(\"population\") > 1e6).group_by(\"country\").agg(pl.col(\"population\").mean().alias(\"mean_population\")).sort(\"mean_population\", descending=True).explain(optimized=True))"
   ]
  },
  {
   "cell_type": "code",
   "execution_count": null,
   "metadata": {},
   "outputs": [],
   "source": [
    "pl.scan_csv(\"data/simple_maps/worldcities.csv\", infer_schema_length=100000, null_values=\"\").cast({\"population\": pl.Int64}).collect()"
   ]
  },
  {
   "cell_type": "markdown",
   "metadata": {},
   "source": [
    "## TODO\n",
    "\n",
    "- The joins!!!\n",
    "- Handling missing values\n",
    "- Interoperability with pandas"
   ]
  },
  {
   "cell_type": "markdown",
   "metadata": {},
   "source": []
  }
 ],
 "metadata": {
  "kernelspec": {
   "display_name": "Python 3 (ipykernel)",
   "language": "python",
   "name": "python3"
  },
  "language_info": {
   "codemirror_mode": {
    "name": "ipython",
    "version": 3
   },
   "file_extension": ".py",
   "mimetype": "text/x-python",
   "name": "python",
   "nbconvert_exporter": "python",
   "pygments_lexer": "ipython3",
   "version": "3.11.5"
  }
 },
 "nbformat": 4,
 "nbformat_minor": 4
}
