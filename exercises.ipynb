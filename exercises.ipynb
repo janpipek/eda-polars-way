{
 "cells": [
  {
   "cell_type": "markdown",
   "metadata": {},
   "source": [
    "# EDA, the Polars Way"
   ]
  },
  {
   "cell_type": "markdown",
   "metadata": {},
   "source": [
    "What is [polars](https://docs.pola.rs/)?\n",
    "\n",
    "- Library for manipulation with tabular data*, based on arrow\n",
    "- Contender to [pandas](https://pandas.pydata.org/) (and many more similar tools)\n",
    "- Since 2020, started by Ritchie Vink"
   ]
  },
  {
   "cell_type": "markdown",
   "metadata": {},
   "source": [
    "### Why polars?\n",
    "\n",
    "- Performance (rust)\n",
    "- Clean(er) API\n",
    "- Lazy evaluation & query optimization\n",
    "- Cool kid on the block"
   ]
  },
  {
   "cell_type": "markdown",
   "metadata": {},
   "source": [
    "### Why not polars?\n",
    "\n",
    "- Less stable\n",
    "- Less functionality\n",
    "- Less known\n",
    "- Sometimes lengthy code\n",
    "- Copilot tends to suggest pandas code ;-)"
   ]
  },
  {
   "cell_type": "markdown",
   "metadata": {},
   "source": [
    "## Let's start"
   ]
  },
  {
   "cell_type": "markdown",
   "metadata": {},
   "source": [
    "```shell\n",
    "jupyter lab\n",
    "```\n",
    "\n",
    "or Visual Studio Code or PyCharm if you prefer those.\n",
    "\n",
    "Open \"exercises.ipynb\""
   ]
  },
  {
   "cell_type": "code",
   "execution_count": 1,
   "metadata": {},
   "outputs": [],
   "source": [
    "# Most basic import\n",
    "import polars as pl\n",
    "\n",
    "# Other useful imports\n",
    "from datetime import date, datetime\n",
    "import polars.selectors as cs\n"
   ]
  },
  {
   "cell_type": "markdown",
   "metadata": {},
   "source": [
    "## Fundamental data structures\n",
    "\n",
    "See https://docs.pola.rs/user-guide/concepts/data-structures/"
   ]
  },
  {
   "cell_type": "markdown",
   "metadata": {},
   "source": [
    "### DataFrame\n",
    "\n",
    "- a \"table\"?\n",
    "- a \"spreadsheet\" table?\n",
    "- a \"dict of columns\"?"
   ]
  },
  {
   "cell_type": "code",
   "execution_count": 3,
   "metadata": {},
   "outputs": [
    {
     "data": {
      "text/html": [
       "<div><style>\n",
       ".dataframe > thead > tr,\n",
       ".dataframe > tbody > tr {\n",
       "  text-align: right;\n",
       "  white-space: pre-wrap;\n",
       "}\n",
       "</style>\n",
       "<small>shape: (193, 7)</small><table border=\"1\" class=\"dataframe\"><thead><tr><th>iso3</th><th>country</th><th>population</th><th>area</th><th>admission_date</th><th>region</th><th>subregion</th></tr><tr><td>str</td><td>str</td><td>i64</td><td>f64</td><td>date</td><td>str</td><td>str</td></tr></thead><tbody><tr><td>&quot;AFG&quot;</td><td>&quot;Afghanistan&quot;</td><td>41128771</td><td>652860.0</td><td>1946-11-19</td><td>&quot;Asia&quot;</td><td>&quot;Southern Asia&quot;</td></tr><tr><td>&quot;ALB&quot;</td><td>&quot;Albania&quot;</td><td>2777689</td><td>28750.0</td><td>1955-12-14</td><td>&quot;Europe&quot;</td><td>&quot;Southern Europ…</td></tr><tr><td>&quot;DZA&quot;</td><td>&quot;Algeria&quot;</td><td>44903225</td><td>2.381741e6</td><td>1962-10-08</td><td>&quot;Africa&quot;</td><td>&quot;Northern Afric…</td></tr><tr><td>&quot;AND&quot;</td><td>&quot;Andorra&quot;</td><td>79824</td><td>470.0</td><td>1993-07-28</td><td>&quot;Europe&quot;</td><td>&quot;Southern Europ…</td></tr><tr><td>&quot;AGO&quot;</td><td>&quot;Angola&quot;</td><td>35588987</td><td>1.2467e6</td><td>1976-12-01</td><td>&quot;Africa&quot;</td><td>&quot;Sub-Saharan Af…</td></tr><tr><td>&quot;ATG&quot;</td><td>&quot;Antigua and Ba…</td><td>93763</td><td>440.0</td><td>1981-11-11</td><td>&quot;Americas&quot;</td><td>&quot;Latin America …</td></tr><tr><td>&quot;ARG&quot;</td><td>&quot;Argentina&quot;</td><td>46234830</td><td>2.7804e6</td><td>1945-10-24</td><td>&quot;Americas&quot;</td><td>&quot;Latin America …</td></tr><tr><td>&quot;ARM&quot;</td><td>&quot;Armenia&quot;</td><td>2780469</td><td>29740.0</td><td>1992-03-02</td><td>&quot;Asia&quot;</td><td>&quot;Western Asia&quot;</td></tr><tr><td>&quot;AUS&quot;</td><td>&quot;Australia&quot;</td><td>26005540</td><td>7.74122e6</td><td>1945-11-01</td><td>&quot;Oceania&quot;</td><td>&quot;Australia and …</td></tr><tr><td>&quot;AUT&quot;</td><td>&quot;Austria&quot;</td><td>9041851</td><td>83879.0</td><td>1955-12-14</td><td>&quot;Europe&quot;</td><td>&quot;Western Europe…</td></tr><tr><td>&quot;AZE&quot;</td><td>&quot;Azerbaijan&quot;</td><td>10141756</td><td>86600.0</td><td>1992-03-02</td><td>&quot;Asia&quot;</td><td>&quot;Western Asia&quot;</td></tr><tr><td>&quot;BHS&quot;</td><td>&quot;Bahamas&quot;</td><td>409984</td><td>13880.0</td><td>1973-09-18</td><td>&quot;Americas&quot;</td><td>&quot;Latin America …</td></tr><tr><td>&hellip;</td><td>&hellip;</td><td>&hellip;</td><td>&hellip;</td><td>&hellip;</td><td>&hellip;</td><td>&hellip;</td></tr><tr><td>&quot;UKR&quot;</td><td>&quot;Ukraine&quot;</td><td>38000000</td><td>603550.0</td><td>1945-10-24</td><td>&quot;Europe&quot;</td><td>&quot;Eastern Europe…</td></tr><tr><td>&quot;ARE&quot;</td><td>&quot;United Arab Em…</td><td>9441129</td><td>98647.9</td><td>1971-12-09</td><td>&quot;Asia&quot;</td><td>&quot;Western Asia&quot;</td></tr><tr><td>&quot;GBR&quot;</td><td>&quot;United Kingdom…</td><td>66971395</td><td>243610.0</td><td>1945-10-24</td><td>&quot;Europe&quot;</td><td>&quot;Northern Europ…</td></tr><tr><td>&quot;USA&quot;</td><td>&quot;United States …</td><td>333287557</td><td>9.525067e6</td><td>1945-10-24</td><td>&quot;Americas&quot;</td><td>&quot;Northern Ameri…</td></tr><tr><td>&quot;URY&quot;</td><td>&quot;Uruguay&quot;</td><td>3422794</td><td>176220.0</td><td>1945-12-18</td><td>&quot;Americas&quot;</td><td>&quot;Latin America …</td></tr><tr><td>&quot;UZB&quot;</td><td>&quot;Uzbekistan&quot;</td><td>35648100</td><td>448924.0</td><td>1992-03-02</td><td>&quot;Asia&quot;</td><td>&quot;Central Asia&quot;</td></tr><tr><td>&quot;VUT&quot;</td><td>&quot;Vanuatu&quot;</td><td>326740</td><td>12190.0</td><td>1981-09-15</td><td>&quot;Oceania&quot;</td><td>&quot;Melanesia&quot;</td></tr><tr><td>&quot;VEN&quot;</td><td>&quot;Venezuela&quot;</td><td>28301696</td><td>912050.0</td><td>1945-11-15</td><td>&quot;Americas&quot;</td><td>&quot;Latin America …</td></tr><tr><td>&quot;VNM&quot;</td><td>&quot;Vietnam&quot;</td><td>98186856</td><td>331340.0</td><td>1977-09-20</td><td>&quot;Asia&quot;</td><td>&quot;South-eastern …</td></tr><tr><td>&quot;YEM&quot;</td><td>&quot;Yemen&quot;</td><td>33696614</td><td>527970.0</td><td>1947-09-30</td><td>&quot;Asia&quot;</td><td>&quot;Western Asia&quot;</td></tr><tr><td>&quot;ZMB&quot;</td><td>&quot;Zambia&quot;</td><td>20017675</td><td>752610.0</td><td>1964-12-01</td><td>&quot;Africa&quot;</td><td>&quot;Sub-Saharan Af…</td></tr><tr><td>&quot;ZWE&quot;</td><td>&quot;Zimbabwe&quot;</td><td>16320537</td><td>390760.0</td><td>1980-08-25</td><td>&quot;Africa&quot;</td><td>&quot;Sub-Saharan Af…</td></tr></tbody></table></div>"
      ],
      "text/plain": [
       "shape: (193, 7)\n",
       "┌──────┬─────────────┬────────────┬────────────┬────────────────┬────────┬────────────────────┐\n",
       "│ iso3 ┆ country     ┆ population ┆ area       ┆ admission_date ┆ region ┆ subregion          │\n",
       "│ ---  ┆ ---         ┆ ---        ┆ ---        ┆ ---            ┆ ---    ┆ ---                │\n",
       "│ str  ┆ str         ┆ i64        ┆ f64        ┆ date           ┆ str    ┆ str                │\n",
       "╞══════╪═════════════╪════════════╪════════════╪════════════════╪════════╪════════════════════╡\n",
       "│ AFG  ┆ Afghanistan ┆ 41128771   ┆ 652860.0   ┆ 1946-11-19     ┆ Asia   ┆ Southern Asia      │\n",
       "│ ALB  ┆ Albania     ┆ 2777689    ┆ 28750.0    ┆ 1955-12-14     ┆ Europe ┆ Southern Europe    │\n",
       "│ DZA  ┆ Algeria     ┆ 44903225   ┆ 2.381741e6 ┆ 1962-10-08     ┆ Africa ┆ Northern Africa    │\n",
       "│ AND  ┆ Andorra     ┆ 79824      ┆ 470.0      ┆ 1993-07-28     ┆ Europe ┆ Southern Europe    │\n",
       "│ …    ┆ …           ┆ …          ┆ …          ┆ …              ┆ …      ┆ …                  │\n",
       "│ VNM  ┆ Vietnam     ┆ 98186856   ┆ 331340.0   ┆ 1977-09-20     ┆ Asia   ┆ South-eastern Asia │\n",
       "│ YEM  ┆ Yemen       ┆ 33696614   ┆ 527970.0   ┆ 1947-09-30     ┆ Asia   ┆ Western Asia       │\n",
       "│ ZMB  ┆ Zambia      ┆ 20017675   ┆ 752610.0   ┆ 1964-12-01     ┆ Africa ┆ Sub-Saharan Africa │\n",
       "│ ZWE  ┆ Zimbabwe    ┆ 16320537   ┆ 390760.0   ┆ 1980-08-25     ┆ Africa ┆ Sub-Saharan Africa │\n",
       "└──────┴─────────────┴────────────┴────────────┴────────────────┴────────┴────────────────────┘"
      ]
     },
     "execution_count": 3,
     "metadata": {},
     "output_type": "execute_result"
    }
   ],
   "source": [
    "# Load some data\n",
    "un = pl.read_csv(\"data/un_basic.csv\", try_parse_dates=True)\n",
    "un\n"
   ]
  },
  {
   "cell_type": "code",
   "execution_count": null,
   "metadata": {},
   "outputs": [],
   "source": [
    "# What is it?\n",
    "type(un)\n"
   ]
  },
  {
   "cell_type": "markdown",
   "metadata": {},
   "source": [
    "### Series\n",
    "\n",
    "- a \"list\"?\n",
    "- a \"column\"?\n",
    "- an \"array of X\"?\n",
    "\n",
    "A bit of everything..."
   ]
  },
  {
   "cell_type": "code",
   "execution_count": null,
   "metadata": {},
   "outputs": [],
   "source": [
    "# Select one column for a DataFrame\n",
    "un[\"country\"]\n"
   ]
  },
  {
   "cell_type": "code",
   "execution_count": null,
   "metadata": {},
   "outputs": [],
   "source": [
    "type(un[\"country\"])"
   ]
  },
  {
   "cell_type": "markdown",
   "metadata": {},
   "source": [
    "### Closer look at the table"
   ]
  },
  {
   "cell_type": "code",
   "execution_count": null,
   "metadata": {},
   "outputs": [],
   "source": [
    "un.shape"
   ]
  },
  {
   "cell_type": "code",
   "execution_count": null,
   "metadata": {},
   "outputs": [],
   "source": [
    "un.columns"
   ]
  },
  {
   "cell_type": "markdown",
   "metadata": {},
   "source": [
    "A random selection of rows using [`.sample`](https://docs.pola.rs/py-polars/html/reference/dataframe/api/polars.DataFrame.sample.html#polars.DataFrame.sample)"
   ]
  },
  {
   "cell_type": "code",
   "execution_count": null,
   "metadata": {},
   "outputs": [],
   "source": [
    "un.sample(10)"
   ]
  },
  {
   "cell_type": "markdown",
   "metadata": {},
   "source": [
    "Look at basic statistical properties using [`.describe`](https://docs.pola.rs/py-polars/html/reference/dataframe/api/polars.DataFrame.describe.html#polars.DataFrame.describe):"
   ]
  },
  {
   "cell_type": "code",
   "execution_count": null,
   "metadata": {},
   "outputs": [],
   "source": [
    "un.describe()"
   ]
  },
  {
   "cell_type": "markdown",
   "metadata": {},
   "source": [
    "Other useful methods to obtain a selection of rows:\n",
    "- [`.head`](https://docs.pola.rs/py-polars/html/reference/dataframe/api/polars.DataFrame.head.html)\n",
    "- [`.tail`](https://docs.pola.rs/py-polars/html/reference/dataframe/api/polars.DataFrame.tail.html)"
   ]
  },
  {
   "cell_type": "markdown",
   "metadata": {},
   "source": [
    "### D(ata) types\n",
    "\n",
    "- each column holds objects of the same type (unlike Python collections!)\n",
    "- distinct from (but convertible to/from) Python classes\n",
    "- the types are nullable => each value can be missing"
   ]
  },
  {
   "cell_type": "code",
   "execution_count": null,
   "metadata": {},
   "outputs": [],
   "source": [
    "# List of all data types in a DataFrame\n",
    "un.dtypes\n"
   ]
  },
  {
   "cell_type": "code",
   "execution_count": null,
   "metadata": {},
   "outputs": [],
   "source": [
    "# More useful (dict)\n",
    "{col: un[col].dtype for col in un.columns}\n"
   ]
  },
  {
   "cell_type": "markdown",
   "metadata": {},
   "source": [
    "#### Common types\n",
    "\n",
    "- Int8, Int16, Int32, Int64, UInt8, UInt16, UInt32, UInt64\n",
    "- Float32, Float64\n",
    "- Decimal\n",
    "- Date, Datetime, Time\n",
    "- String, Categorical, Enum\n",
    "- Array, List, Struct\n",
    "- Boolean\n",
    "- Object, Null, Binary, Unknown\n",
    "\n",
    "See https://docs.pola.rs/user-guide/concepts/data-types/overview/"
   ]
  },
  {
   "cell_type": "code",
   "execution_count": null,
   "metadata": {},
   "outputs": [],
   "source": [
    "# Construct a Series from an object\n",
    "pl.Series(\"city\", [\"Firenze\", \"Berlin\", \"Pittsburgh\", \"Prague\"], dtype=pl.String)\n"
   ]
  },
  {
   "cell_type": "code",
   "execution_count": null,
   "metadata": {},
   "outputs": [],
   "source": [
    "# Construct a DataFrame from dictionary of lists.\n",
    "\n",
    "pl.DataFrame(\n",
    "    {\n",
    "        \"event\": [\"PyCon Italia\", \"PyCon.DE & PyData Berlin\", \"PyCon US\", \"EuroPython\"],\n",
    "        \"city\": [\"Firenze\", \"Berlin\", \"Pittsburgh\", \"Prague\"],\n",
    "        \"country\": [\"Italy\", \"Germany\", \"United States of America\", \"Czechia\"],\n",
    "        \"start_date\": [\n",
    "            date(2024, 5, 22),\n",
    "            date(2024, 4, 22),\n",
    "            date(2024, 5, 15),\n",
    "            date(2024, 7, 8),\n",
    "        ],\n",
    "    }\n",
    ")\n"
   ]
  },
  {
   "cell_type": "code",
   "execution_count": null,
   "metadata": {},
   "outputs": [],
   "source": [
    "## Pandas window\n",
    "\n",
    "import pandas as pd\n",
    "\n",
    "pandas_series = pd.DataFrame(\n",
    "    {\"a\": [1, 2, 3, 4, 5], \"b\": pd.Series([1, 2, 3, 4, 5], dtype=\"float64\")}\n",
    ")\n",
    "pl.DataFrame(pandas_series)\n"
   ]
  },
  {
   "cell_type": "markdown",
   "metadata": {},
   "source": [
    "### Indices\n",
    "\n",
    "Polars, unlike pandas, does not have indices.\n",
    "End of story."
   ]
  },
  {
   "cell_type": "markdown",
   "metadata": {},
   "source": [
    "## Basic plotting\n",
    "\n",
    "Choose any library you want:\n",
    "\n",
    "- [plotly](https://plotly.com/python/)\n",
    "- [matplotlib](https://matplotlib.org/)\n",
    "- [seaborn](https://seaborn.pydata.org/)\n",
    "- [hvplot](https://hvplot.holoviz.org/)\n",
    "- ..."
   ]
  },
  {
   "cell_type": "markdown",
   "metadata": {},
   "source": [
    "### \"Built-in\" hvplot support\n",
    "\n",
    "Note: hvplot must be installed\n",
    "\n",
    "```python\n",
    "df.plot()\n",
    "df.plot.bar()\n",
    "df.plot.scatter()\n",
    "...\n",
    "```\n"
   ]
  },
  {
   "cell_type": "code",
   "execution_count": null,
   "metadata": {},
   "outputs": [],
   "source": [
    "un.plot.scatter(\n",
    "    x=\"area\",\n",
    "    y=\"population\",\n",
    "    # logx=True,\n",
    "    # logy=True,\n",
    "    # color=\"region\",\n",
    "    # title=\"Countries of the World\",\n",
    "    # hover_cols=[\"country\"],\n",
    ")\n"
   ]
  },
  {
   "cell_type": "markdown",
   "metadata": {},
   "source": [
    "Slightly more info here:\n",
    "- https://docs.pola.rs/py-polars/html/reference/dataframe/plot.html\n",
    "- https://docs.pola.rs/user-guide/misc/visualization/ \n",
    "- https://hvplot.holoviz.org/user_guide/Pandas_API.html - pandas API for hvplot. It works almost the same with polars"
   ]
  },
  {
   "cell_type": "markdown",
   "metadata": {},
   "source": [
    "**Exercise**: \n",
    "1. Load the list of cities from an external file.\n",
    "2. Draw the \"poor man's map of the world\", based on the \"lat\" and \"lng\" columns of the table.\n",
    "Optionally: You can embellish it with any aesthetics you want."
   ]
  },
  {
   "cell_type": "code",
   "execution_count": null,
   "metadata": {},
   "outputs": [],
   "source": [
    "# Exercise load-cities\n",
    "# Load the data:\n",
    "# - the file is called \"data/worldcities.parquet\"\n",
    "# - find the appropriate loading method from https://docs.pola.rs/user-guide/io/\n",
    "cities = ...\n",
    "cities\n"
   ]
  },
  {
   "cell_type": "code",
   "execution_count": null,
   "metadata": {},
   "outputs": [],
   "source": [
    "# Exercise world-map\n",
    "# Plot ihe cities\n",
    "# - find the appropriate plotting method\n",
    "# - use proper arguments for the call\n",
    "cities.plot....(\n",
    "    x=...,\n",
    "    y=...,\n",
    ")"
   ]
  },
  {
   "cell_type": "markdown",
   "metadata": {},
   "source": [
    "## Sorting\n",
    "\n",
    "- [.sort](https://docs.pola.rs/py-polars/html/reference/dataframe/api/polars.DataFrame.sort.html)"
   ]
  },
  {
   "cell_type": "code",
   "execution_count": null,
   "metadata": {},
   "outputs": [],
   "source": [
    "un.sort(\"admission_date\")"
   ]
  },
  {
   "cell_type": "markdown",
   "metadata": {},
   "source": [
    "Note: We receive a new DataFrame, as with all other manipulations. There is no \"inplace\" in polars. (unlike pandas, where this is only discouraged)"
   ]
  },
  {
   "cell_type": "code",
   "execution_count": null,
   "metadata": {},
   "outputs": [],
   "source": [
    "un.sort(\"population\", descending=True)"
   ]
  },
  {
   "cell_type": "code",
   "execution_count": null,
   "metadata": {},
   "outputs": [],
   "source": [
    "un.sort(\"region\", \"subregion\")"
   ]
  },
  {
   "cell_type": "markdown",
   "metadata": {},
   "source": [
    "**Exercise** Create a bar plot of 10 countries with the lowest population.\n",
    "\n",
    "Hints:\n",
    "- [`.sort`]()\n",
    "- [`.head`](https://docs.pola.rs/py-polars/html/reference/dataframe/api/polars.DataFrame.head.html) \n",
    "- [`.plot.bar`](https://hvplot.holoviz.org/reference/tabular/bar.html) - docs from the hvplot pages\n",
    "- Use `hover_cols` and `x` args to describe the plot properly (optional)"
   ]
  },
  {
   "cell_type": "code",
   "execution_count": null,
   "metadata": {},
   "outputs": [],
   "source": [
    "# Exercise ten-smallest\n",
    "sorted_population = ...\n",
    "ten_smallest = ...\n",
    "\n",
    "# Plot it\n",
    "ten_smallest.plot...."
   ]
  },
  {
   "cell_type": "markdown",
   "metadata": {},
   "source": [
    "## Expressions & selection"
   ]
  },
  {
   "cell_type": "markdown",
   "metadata": {},
   "source": []
  },
  {
   "cell_type": "code",
   "execution_count": null,
   "metadata": {},
   "outputs": [],
   "source": [
    "un[\"country\"]"
   ]
  },
  {
   "cell_type": "code",
   "execution_count": null,
   "metadata": {},
   "outputs": [],
   "source": [
    "# Find the difference\n",
    "un.select(\"country\")\n"
   ]
  },
  {
   "cell_type": "markdown",
   "metadata": {},
   "source": [
    "Expression, representing column(s) in a dataframe:"
   ]
  },
  {
   "cell_type": "code",
   "execution_count": null,
   "metadata": {},
   "outputs": [],
   "source": [
    "pl.col(\"country\")"
   ]
  },
  {
   "cell_type": "code",
   "execution_count": null,
   "metadata": {},
   "outputs": [],
   "source": [
    "pl.lit(\"country\")"
   ]
  },
  {
   "cell_type": "code",
   "execution_count": null,
   "metadata": {},
   "outputs": [],
   "source": [
    "# Select a column\n",
    "un.select(pl.col(\"country\"))  # Or pl.col.country\n"
   ]
  },
  {
   "cell_type": "code",
   "execution_count": null,
   "metadata": {},
   "outputs": [],
   "source": [
    "# Literal value\n",
    "un.select(pl.lit(\"country\"))\n"
   ]
  },
  {
   "cell_type": "code",
   "execution_count": null,
   "metadata": {},
   "outputs": [],
   "source": [
    ".drop"
   ]
  },
  {
   "cell_type": "markdown",
   "metadata": {},
   "source": [
    "Note: You can pass an expression to `.sort` too."
   ]
  },
  {
   "cell_type": "markdown",
   "metadata": {},
   "source": [
    "## Filtering"
   ]
  },
  {
   "cell_type": "markdown",
   "metadata": {},
   "source": [
    "When you want to select rows based on some criteria... Well, a short detour:"
   ]
  },
  {
   "cell_type": "markdown",
   "metadata": {},
   "source": [
    "### Contexts"
   ]
  },
  {
   "cell_type": "markdown",
   "metadata": {},
   "source": [
    "Every expression can only be executed within one of the following contexts:\n",
    "\n",
    "1. Selection (`.select`, `.with_columns`) - we already saw this\n",
    "2. Filtering (`.filter`)\n",
    "3. Aggregation\n",
    "\n",
    "See https://docs.pola.rs/user-guide/concepts/contexts/.\n"
   ]
  },
  {
   "cell_type": "markdown",
   "metadata": {},
   "source": [
    "Pass any boolean expression to the [`.filter`]() method"
   ]
  },
  {
   "cell_type": "code",
   "execution_count": null,
   "metadata": {},
   "outputs": [],
   "source": [
    "un.filter(country=\"Italy\")"
   ]
  },
  {
   "cell_type": "code",
   "execution_count": null,
   "metadata": {},
   "outputs": [],
   "source": [
    "un.filter(pl.col(\"population\") > 1e9)"
   ]
  },
  {
   "cell_type": "markdown",
   "metadata": {},
   "source": [
    "**Exercise:** Show how the share of electricity coming from different sources evolved over time in Italy (or from some other country)."
   ]
  },
  {
   "cell_type": "code",
   "execution_count": null,
   "metadata": {},
   "outputs": [],
   "source": [
    "# Exercise energy-it\n",
    "el_source = pl.read_csv(\n",
    "    \"data/our_world_in_data/electricity-source.csv\", infer_schema_length=5000\n",
    ")  # Note the infer_schema_length\n",
    "el_source_italy = ...\n",
    "el_source_italy\n"
   ]
  },
  {
   "cell_type": "markdown",
   "metadata": {},
   "source": [
    "**Exercise:** Create a linear (or stacked area) plot of the fractions\n",
    "\n",
    "Hints:\n",
    "- `.plot.area` is your friend\n",
    "- you can supply multiple column names in the `y` argument\n",
    "- An example is here: https://hvplot.holoviz.org/user_guide/Pandas_API.html#area-plot"
   ]
  },
  {
   "cell_type": "code",
   "execution_count": null,
   "metadata": {},
   "outputs": [],
   "source": [
    "# Exercise energy-it\n",
    "el_source_italy.plot(..., ...)\n"
   ]
  },
  {
   "cell_type": "markdown",
   "metadata": {},
   "source": [
    "**Exercise** Find all founding members of the U.N. \n",
    "\n",
    "Hints:\n",
    "- find the admission date of the first member first\n",
    "- you might want to find the proper minimizing function (min)"
   ]
  },
  {
   "cell_type": "code",
   "execution_count": null,
   "metadata": {},
   "outputs": [],
   "source": [
    "# Exercise founding-members\n",
    "first_date = ...\n",
    "founding_members = ...\n",
    "founding_members\n"
   ]
  },
  {
   "cell_type": "markdown",
   "metadata": {},
   "source": [
    "## Operations"
   ]
  },
  {
   "cell_type": "code",
   "execution_count": null,
   "metadata": {},
   "outputs": [],
   "source": [
    "un[\"population\"] / un[\"area\"]"
   ]
  },
  {
   "cell_type": "code",
   "execution_count": null,
   "metadata": {},
   "outputs": [],
   "source": [
    "date.today() - un[\"admission_date\"]"
   ]
  },
  {
   "cell_type": "code",
   "execution_count": null,
   "metadata": {},
   "outputs": [],
   "source": [
    "type(pl.col(\"population\") / pl.col(\"area\"))"
   ]
  },
  {
   "cell_type": "code",
   "execution_count": null,
   "metadata": {},
   "outputs": [],
   "source": [
    "un.select(\n",
    "    \"country\",\n",
    "    \"population\",\n",
    "    \"area\",\n",
    "    (pl.col(\"population\") / pl.col(\"area\")).alias(\"density\"),\n",
    ").sort(\"density\", descending=True)\n"
   ]
  },
  {
   "cell_type": "code",
   "execution_count": null,
   "metadata": {},
   "outputs": [],
   "source": [
    "un.with_columns(\n",
    "    density=pl.col(\"population\") / pl.col(\"area\"),\n",
    ")\n"
   ]
  },
  {
   "cell_type": "markdown",
   "metadata": {},
   "source": [
    "## Aggregations (group_by)"
   ]
  },
  {
   "cell_type": "code",
   "execution_count": null,
   "metadata": {},
   "outputs": [],
   "source": [
    "un.group_by(\"region\").len()"
   ]
  },
  {
   "cell_type": "code",
   "execution_count": null,
   "metadata": {},
   "outputs": [],
   "source": [
    "un.group_by(\"subregion\").len()"
   ]
  },
  {
   "cell_type": "code",
   "execution_count": null,
   "metadata": {},
   "outputs": [],
   "source": [
    "un.group_by(\"region\", \"subregion\").len().sort(\"region\", \"subregion\")"
   ]
  },
  {
   "cell_type": "code",
   "execution_count": null,
   "metadata": {},
   "outputs": [],
   "source": [
    "un.group_by(\"subregion\").sum()"
   ]
  },
  {
   "cell_type": "code",
   "execution_count": null,
   "metadata": {},
   "outputs": [],
   "source": [
    "un.group_by(\"region\", \"subregion\").agg(\n",
    "    pl.col(\"population\").sum().alias(\"total_population\"),\n",
    "    pl.col(\"area\").sum().alias(\"total_area\"),\n",
    "    pl.col(\"area\").count().alias(\"num_countries\"),\n",
    ").sort(\"region\", \"subregion\")\n"
   ]
  },
  {
   "cell_type": "code",
   "execution_count": null,
   "metadata": {},
   "outputs": [],
   "source": [
    "forest_area = pl.read_csv(\"data/our_world_in_data/forest-area-km.csv\")\n",
    "forest_area\n"
   ]
  },
  {
   "cell_type": "markdown",
   "metadata": {},
   "source": [
    "**Exercise:** Find the relative change of forestation for each country on the year range.\n",
    "\n",
    "- group by an appropriate column\n",
    "- find the proper aggregation functions (https://docs.pola.rs/user-guide/expressions/aggregation)\n",
    "- optionally exclude the infinite and NA values ([`.is_finite`](https://docs.pola.rs/py-polars/html/reference/expressions/api/polars.Expr.is_finite.html)) "
   ]
  },
  {
   "cell_type": "code",
   "execution_count": null,
   "metadata": {},
   "outputs": [],
   "source": [
    "# Exercise forest-change\n",
    "first_and_last_forest_area = forest_area.group_by(...).agg(\n",
    "    ...\n",
    ")\n",
    "relative_change = first_and_last_forest_area....\n",
    "# Filter finite and sort\n",
    "relative_change = relative_change...."
   ]
  },
  {
   "cell_type": "markdown",
   "metadata": {},
   "source": [
    "### Time aggregations"
   ]
  },
  {
   "cell_type": "code",
   "execution_count": null,
   "metadata": {},
   "outputs": [],
   "source": [
    "weather = pl.read_parquet(\"data/florence-meteostat.parquet\")\n",
    "weather\n"
   ]
  },
  {
   "cell_type": "markdown",
   "metadata": {},
   "source": [
    "What about timezones? Let's forget about them for now... but it would deserve its own workshop. See https://docs.pola.rs/user-guide/transformations/time-series/timezones/"
   ]
  },
  {
   "cell_type": "code",
   "execution_count": null,
   "metadata": {},
   "outputs": [],
   "source": [
    "weather.plot(y=\"temp\")"
   ]
  },
  {
   "cell_type": "code",
   "execution_count": null,
   "metadata": {},
   "outputs": [],
   "source": [
    "weather.plot(x=\"time\", y=\"temp\")"
   ]
  },
  {
   "cell_type": "code",
   "execution_count": null,
   "metadata": {},
   "outputs": [],
   "source": [
    "# We can use the year column\n",
    "yearly_mean = weather.group_by(\n",
    "    pl.col(\"time\").dt.year().alias(\"year\"), maintain_order=True\n",
    ").agg(avg_temp=pl.col(\"temp\").drop_nans().mean())\n",
    "yearly_mean\n"
   ]
  },
  {
   "cell_type": "code",
   "execution_count": null,
   "metadata": {},
   "outputs": [],
   "source": [
    "yearly_mean.plot(x=\"year\", y=\"avg_temp\")"
   ]
  },
  {
   "cell_type": "code",
   "execution_count": null,
   "metadata": {},
   "outputs": [],
   "source": [
    "# But grouping by month?\n",
    "monthly = (\n",
    "    weather.set_sorted(\"time\")\n",
    "    .group_by_dynamic(\"time\", every=\"1mo\")\n",
    "    .agg(avg_temp=pl.col(\"temp\").drop_nans().mean())\n",
    ")\n",
    "monthly.plot(x=\"time\", y=\"avg_temp\")\n"
   ]
  },
  {
   "cell_type": "markdown",
   "metadata": {},
   "source": [
    "**Exercise:** What was the day with highest lowest temperature (probably meaning the hottest night) in Florence in the last 10 years? \n",
    "\n",
    "Hints:\n",
    "- Filter the new values only\n",
    "- Group by an appropriate time period\n",
    "- Find the minimum\n",
    "- You might need to `.drop_nans` and `.drop_nulls` to work with reasonable values (at appropriate moment)\n",
    "- Work with the minima to find the top value (or a few of them)"
   ]
  },
  {
   "cell_type": "code",
   "execution_count": null,
   "metadata": {},
   "outputs": [],
   "source": [
    "# Exercise hottest-night\n",
    "recent_weather = weather....\n",
    "min_daily_temperatures = recent_weather.set_sorted(\"time\").group_by_dynamic(...).agg(...)\n",
    "top_nights = min_daily_temperatures....\n",
    "top_nights"
   ]
  },
  {
   "cell_type": "markdown",
   "metadata": {},
   "source": [
    "## Joining"
   ]
  },
  {
   "cell_type": "markdown",
   "metadata": {},
   "source": [
    "Data coming from two (or more) tables."
   ]
  },
  {
   "cell_type": "code",
   "execution_count": 48,
   "metadata": {},
   "outputs": [
    {
     "data": {
      "text/html": [
       "<div><style>\n",
       ".dataframe > thead > tr,\n",
       ".dataframe > tbody > tr {\n",
       "  text-align: right;\n",
       "  white-space: pre-wrap;\n",
       "}\n",
       "</style>\n",
       "<small>shape: (226, 4)</small><table border=\"1\" class=\"dataframe\"><thead><tr><th>Code</th><th>Entity</th><th>Year</th><th>Forest area</th></tr><tr><td>str</td><td>str</td><td>i64</td><td>f64</td></tr></thead><tbody><tr><td>&quot;JOR&quot;</td><td>&quot;Jordan&quot;</td><td>2020</td><td>97500.0</td></tr><tr><td>&quot;KEN&quot;</td><td>&quot;Kenya&quot;</td><td>2020</td><td>3.61109e6</td></tr><tr><td>&quot;BTN&quot;</td><td>&quot;Bhutan&quot;</td><td>2020</td><td>2.72508e6</td></tr><tr><td>&quot;LKA&quot;</td><td>&quot;Sri Lanka&quot;</td><td>2020</td><td>2.11302e6</td></tr><tr><td>&quot;ZWE&quot;</td><td>&quot;Zimbabwe&quot;</td><td>2020</td><td>1.744458e7</td></tr><tr><td>&hellip;</td><td>&hellip;</td><td>&hellip;</td><td>&hellip;</td></tr><tr><td>&quot;COM&quot;</td><td>&quot;Comoros&quot;</td><td>2020</td><td>32920.0</td></tr><tr><td>&quot;NPL&quot;</td><td>&quot;Nepal&quot;</td><td>2020</td><td>5.96203e6</td></tr><tr><td>&quot;CAN&quot;</td><td>&quot;Canada&quot;</td><td>2020</td><td>3.469281e8</td></tr><tr><td>&quot;PCN&quot;</td><td>&quot;Pitcairn&quot;</td><td>2020</td><td>3500.0</td></tr><tr><td>&quot;GAB&quot;</td><td>&quot;Gabon&quot;</td><td>2020</td><td>2.35306e7</td></tr></tbody></table></div>"
      ],
      "text/plain": [
       "shape: (226, 4)\n",
       "┌──────┬───────────┬──────┬─────────────┐\n",
       "│ Code ┆ Entity    ┆ Year ┆ Forest area │\n",
       "│ ---  ┆ ---       ┆ ---  ┆ ---         │\n",
       "│ str  ┆ str       ┆ i64  ┆ f64         │\n",
       "╞══════╪═══════════╪══════╪═════════════╡\n",
       "│ JOR  ┆ Jordan    ┆ 2020 ┆ 97500.0     │\n",
       "│ KEN  ┆ Kenya     ┆ 2020 ┆ 3.61109e6   │\n",
       "│ BTN  ┆ Bhutan    ┆ 2020 ┆ 2.72508e6   │\n",
       "│ LKA  ┆ Sri Lanka ┆ 2020 ┆ 2.11302e6   │\n",
       "│ ZWE  ┆ Zimbabwe  ┆ 2020 ┆ 1.744458e7  │\n",
       "│ …    ┆ …         ┆ …    ┆ …           │\n",
       "│ COM  ┆ Comoros   ┆ 2020 ┆ 32920.0     │\n",
       "│ NPL  ┆ Nepal     ┆ 2020 ┆ 5.96203e6   │\n",
       "│ CAN  ┆ Canada    ┆ 2020 ┆ 3.469281e8  │\n",
       "│ PCN  ┆ Pitcairn  ┆ 2020 ┆ 3500.0      │\n",
       "│ GAB  ┆ Gabon     ┆ 2020 ┆ 2.35306e7   │\n",
       "└──────┴───────────┴──────┴─────────────┘"
      ]
     },
     "execution_count": 48,
     "metadata": {},
     "output_type": "execute_result"
    }
   ],
   "source": [
    "forest_area.group_by(\"Code\").last()"
   ]
  },
  {
   "cell_type": "markdown",
   "metadata": {},
   "source": [
    "**Example:** Find the total forest area per region. (Bonus: find also the percentage)"
   ]
  },
  {
   "cell_type": "code",
   "execution_count": null,
   "metadata": {},
   "outputs": [],
   "source": [
    "forest_area.group_by(\"Code\").last().join(\n",
    "    un, left_on=\"Code\", right_on=\"iso3\", how=\"inner\"\n",
    ").sum().select(\"Forest area\", \"area\").with_columns(\n",
    "    forest_area_ratio=pl.col(\"Forest area\") / pl.col(\"area\") / 100 / 0.71\n",
    ")\n"
   ]
  },
  {
   "cell_type": "markdown",
   "metadata": {},
   "source": [
    "**Exercise** Find the number of cities over 1 million inhabitants per region / subregion. (Bonus: include the largest of those cities)\n",
    "\n",
    "Hints:\n",
    "- Join with the \"un\" table on appropriate columns\n",
    "- Aggregate over appropriate columns and use [`.len`](https://docs.pola.rs/py-polars/html/reference/dataframe/api/polars.dataframe.group_by.GroupBy.len.html)"
   ]
  },
  {
   "cell_type": "code",
   "execution_count": 63,
   "metadata": {},
   "outputs": [
    {
     "ename": "SyntaxError",
     "evalue": "invalid syntax (2313246093.py, line 2)",
     "output_type": "error",
     "traceback": [
      "\u001b[1;36m  Cell \u001b[1;32mIn[63], line 2\u001b[1;36m\u001b[0m\n\u001b[1;33m    million_cities = cities....\u001b[0m\n\u001b[1;37m                           ^\u001b[0m\n\u001b[1;31mSyntaxError\u001b[0m\u001b[1;31m:\u001b[0m invalid syntax\n"
     ]
    }
   ],
   "source": [
    "# Exercise million-cities\n",
    "million_cities = cities....\n",
    "million_cities_with_country = million_cities....\n",
    "million_cities_per_region = (\n",
    "    million_cities_with_country.group_by(...)\n",
    "    ...\n",
    ")\n"
   ]
  },
  {
   "cell_type": "markdown",
   "metadata": {},
   "source": [
    "## Wide / long table format"
   ]
  },
  {
   "cell_type": "markdown",
   "metadata": {},
   "source": [
    "### Wide -> long"
   ]
  },
  {
   "cell_type": "code",
   "execution_count": 51,
   "metadata": {},
   "outputs": [
    {
     "data": {
      "text/html": [
       "<div><style>\n",
       ".dataframe > thead > tr,\n",
       ".dataframe > tbody > tr {\n",
       "  text-align: right;\n",
       "  white-space: pre-wrap;\n",
       "}\n",
       "</style>\n",
       "<small>shape: (266, 69)</small><table border=\"1\" class=\"dataframe\"><thead><tr><th>Country Name</th><th>Country Code</th><th>Indicator Name</th><th>Indicator Code</th><th>1960</th><th>1961</th><th>1962</th><th>1963</th><th>1964</th><th>1965</th><th>1966</th><th>1967</th><th>1968</th><th>1969</th><th>1970</th><th>1971</th><th>1972</th><th>1973</th><th>1974</th><th>1975</th><th>1976</th><th>1977</th><th>1978</th><th>1979</th><th>1980</th><th>1981</th><th>1982</th><th>1983</th><th>1984</th><th>1985</th><th>1986</th><th>1987</th><th>1988</th><th>1989</th><th>1990</th><th>1991</th><th>1992</th><th>1993</th><th>1994</th><th>1995</th><th>1996</th><th>1997</th><th>1998</th><th>1999</th><th>2000</th><th>2001</th><th>2002</th><th>2003</th><th>2004</th><th>2005</th><th>2006</th><th>2007</th><th>2008</th><th>2009</th><th>2010</th><th>2011</th><th>2012</th><th>2013</th><th>2014</th><th>2015</th><th>2016</th><th>2017</th><th>2018</th><th>2019</th><th>2020</th><th>2021</th><th>2022</th><th>2023</th><th></th></tr><tr><td>str</td><td>str</td><td>str</td><td>str</td><td>i64</td><td>i64</td><td>i64</td><td>i64</td><td>i64</td><td>i64</td><td>i64</td><td>i64</td><td>i64</td><td>i64</td><td>i64</td><td>i64</td><td>i64</td><td>i64</td><td>i64</td><td>i64</td><td>i64</td><td>i64</td><td>i64</td><td>i64</td><td>i64</td><td>i64</td><td>i64</td><td>i64</td><td>i64</td><td>i64</td><td>i64</td><td>i64</td><td>i64</td><td>i64</td><td>i64</td><td>i64</td><td>i64</td><td>i64</td><td>i64</td><td>i64</td><td>i64</td><td>i64</td><td>i64</td><td>i64</td><td>i64</td><td>i64</td><td>i64</td><td>i64</td><td>i64</td><td>i64</td><td>i64</td><td>i64</td><td>i64</td><td>i64</td><td>i64</td><td>i64</td><td>i64</td><td>i64</td><td>i64</td><td>i64</td><td>i64</td><td>i64</td><td>i64</td><td>i64</td><td>i64</td><td>i64</td><td>i64</td><td>str</td><td>str</td></tr></thead><tbody><tr><td>&quot;Aruba&quot;</td><td>&quot;ABW&quot;</td><td>&quot;Population, total&quot;</td><td>&quot;SP.POP.TOTL&quot;</td><td>54608</td><td>55811</td><td>56682</td><td>57475</td><td>58178</td><td>58782</td><td>59291</td><td>59522</td><td>59471</td><td>59330</td><td>59106</td><td>58816</td><td>58855</td><td>59365</td><td>60028</td><td>60715</td><td>61193</td><td>61465</td><td>61738</td><td>62006</td><td>62267</td><td>62614</td><td>63116</td><td>63683</td><td>64174</td><td>64478</td><td>64553</td><td>64450</td><td>64332</td><td>64596</td><td>65712</td><td>67864</td><td>70192</td><td>72360</td><td>74710</td><td>77050</td><td>79417</td><td>81858</td><td>84355</td><td>86867</td><td>89101</td><td>90691</td><td>91781</td><td>92701</td><td>93540</td><td>94483</td><td>95606</td><td>96787</td><td>97996</td><td>99212</td><td>100341</td><td>101288</td><td>102112</td><td>102880</td><td>103594</td><td>104257</td><td>104874</td><td>105439</td><td>105962</td><td>106442</td><td>106585</td><td>106537</td><td>106445</td><td>&quot;&quot;</td><td>null</td></tr><tr><td>&quot;Africa Eastern and Southern&quot;</td><td>&quot;AFE&quot;</td><td>&quot;Population, total&quot;</td><td>&quot;SP.POP.TOTL&quot;</td><td>130692579</td><td>134169237</td><td>137835590</td><td>141630546</td><td>145605995</td><td>149742351</td><td>153955516</td><td>158313235</td><td>162875171</td><td>167596160</td><td>172475766</td><td>177503186</td><td>182599092</td><td>187901657</td><td>193512956</td><td>199284304</td><td>205202669</td><td>211120911</td><td>217481420</td><td>224315978</td><td>230967858</td><td>237937461</td><td>245386717</td><td>252779730</td><td>260209149</td><td>267938123</td><td>276035920</td><td>284490394</td><td>292795186</td><td>301124880</td><td>309890664</td><td>318544083</td><td>326933522</td><td>335625136</td><td>344418362</td><td>353466601</td><td>362985802</td><td>372352230</td><td>381715600</td><td>391486231</td><td>401600588</td><td>412001885</td><td>422741118</td><td>433807484</td><td>445281555</td><td>457153837</td><td>469508516</td><td>482406426</td><td>495748900</td><td>509410477</td><td>523459657</td><td>537792950</td><td>552530654</td><td>567892149</td><td>583651101</td><td>600008424</td><td>616377605</td><td>632746570</td><td>649757148</td><td>667242986</td><td>685112979</td><td>702977106</td><td>720859132</td><td>&quot;&quot;</td><td>null</td></tr><tr><td>&quot;Afghanistan&quot;</td><td>&quot;AFG&quot;</td><td>&quot;Population, total&quot;</td><td>&quot;SP.POP.TOTL&quot;</td><td>8622466</td><td>8790140</td><td>8969047</td><td>9157465</td><td>9355514</td><td>9565147</td><td>9783147</td><td>10010030</td><td>10247780</td><td>10494489</td><td>10752971</td><td>11015857</td><td>11286753</td><td>11575305</td><td>11869879</td><td>12157386</td><td>12425267</td><td>12687301</td><td>12938862</td><td>12986369</td><td>12486631</td><td>11155195</td><td>10088289</td><td>9951449</td><td>10243686</td><td>10512221</td><td>10448442</td><td>10322758</td><td>10383460</td><td>10673168</td><td>10694796</td><td>10745167</td><td>12057433</td><td>14003760</td><td>15455555</td><td>16418912</td><td>17106595</td><td>17788819</td><td>18493132</td><td>19262847</td><td>19542982</td><td>19688632</td><td>21000256</td><td>22645130</td><td>23553551</td><td>24411191</td><td>25442944</td><td>25903301</td><td>26427199</td><td>27385307</td><td>28189672</td><td>29249157</td><td>30466479</td><td>31541209</td><td>32716210</td><td>33753499</td><td>34636207</td><td>35643418</td><td>36686784</td><td>37769499</td><td>38972230</td><td>40099462</td><td>41128771</td><td>&quot;&quot;</td><td>null</td></tr><tr><td>&quot;Africa Western and Central&quot;</td><td>&quot;AFW&quot;</td><td>&quot;Population, total&quot;</td><td>&quot;SP.POP.TOTL&quot;</td><td>97256290</td><td>99314028</td><td>101445032</td><td>103667517</td><td>105959979</td><td>108336203</td><td>110798486</td><td>113319950</td><td>115921723</td><td>118615741</td><td>121424797</td><td>124336039</td><td>127364044</td><td>130563107</td><td>133953892</td><td>137548613</td><td>141258400</td><td>145122851</td><td>149206663</td><td>153459665</td><td>157825609</td><td>162323313</td><td>167023385</td><td>171566640</td><td>176054495</td><td>180817312</td><td>185720244</td><td>190759952</td><td>195969722</td><td>201392200</td><td>206739024</td><td>212172888</td><td>217966101</td><td>223788766</td><td>229675775</td><td>235861484</td><td>242200260</td><td>248713095</td><td>255482918</td><td>262397030</td><td>269611898</td><td>277160097</td><td>284952322</td><td>292977949</td><td>301265247</td><td>309824829</td><td>318601484</td><td>327612838</td><td>336893835</td><td>346475221</td><td>356337762</td><td>366489204</td><td>376797999</td><td>387204553</td><td>397855507</td><td>408690375</td><td>419778384</td><td>431138704</td><td>442646825</td><td>454306063</td><td>466189102</td><td>478185907</td><td>490330870</td><td>&quot;&quot;</td><td>null</td></tr><tr><td>&quot;Angola&quot;</td><td>&quot;AGO&quot;</td><td>&quot;Population, total&quot;</td><td>&quot;SP.POP.TOTL&quot;</td><td>5357195</td><td>5441333</td><td>5521400</td><td>5599827</td><td>5673199</td><td>5736582</td><td>5787044</td><td>5827503</td><td>5868203</td><td>5928386</td><td>6029700</td><td>6177049</td><td>6364731</td><td>6578230</td><td>6802494</td><td>7032713</td><td>7266780</td><td>7511895</td><td>7771590</td><td>8043218</td><td>8330047</td><td>8631457</td><td>8947152</td><td>9276707</td><td>9617702</td><td>9970621</td><td>10332574</td><td>10694057</td><td>11060261</td><td>11439498</td><td>11828638</td><td>12228691</td><td>12632507</td><td>13038270</td><td>13462031</td><td>13912253</td><td>14383350</td><td>14871146</td><td>15366864</td><td>15870753</td><td>16394062</td><td>16941587</td><td>17516139</td><td>18124342</td><td>18771125</td><td>19450959</td><td>20162340</td><td>20909684</td><td>21691522</td><td>22507674</td><td>23364185</td><td>24259111</td><td>25188292</td><td>26147002</td><td>27128337</td><td>28127721</td><td>29154746</td><td>30208628</td><td>31273533</td><td>32353588</td><td>33428486</td><td>34503774</td><td>35588987</td><td>&quot;&quot;</td><td>null</td></tr><tr><td>&hellip;</td><td>&hellip;</td><td>&hellip;</td><td>&hellip;</td><td>&hellip;</td><td>&hellip;</td><td>&hellip;</td><td>&hellip;</td><td>&hellip;</td><td>&hellip;</td><td>&hellip;</td><td>&hellip;</td><td>&hellip;</td><td>&hellip;</td><td>&hellip;</td><td>&hellip;</td><td>&hellip;</td><td>&hellip;</td><td>&hellip;</td><td>&hellip;</td><td>&hellip;</td><td>&hellip;</td><td>&hellip;</td><td>&hellip;</td><td>&hellip;</td><td>&hellip;</td><td>&hellip;</td><td>&hellip;</td><td>&hellip;</td><td>&hellip;</td><td>&hellip;</td><td>&hellip;</td><td>&hellip;</td><td>&hellip;</td><td>&hellip;</td><td>&hellip;</td><td>&hellip;</td><td>&hellip;</td><td>&hellip;</td><td>&hellip;</td><td>&hellip;</td><td>&hellip;</td><td>&hellip;</td><td>&hellip;</td><td>&hellip;</td><td>&hellip;</td><td>&hellip;</td><td>&hellip;</td><td>&hellip;</td><td>&hellip;</td><td>&hellip;</td><td>&hellip;</td><td>&hellip;</td><td>&hellip;</td><td>&hellip;</td><td>&hellip;</td><td>&hellip;</td><td>&hellip;</td><td>&hellip;</td><td>&hellip;</td><td>&hellip;</td><td>&hellip;</td><td>&hellip;</td><td>&hellip;</td><td>&hellip;</td><td>&hellip;</td><td>&hellip;</td><td>&hellip;</td><td>&hellip;</td></tr><tr><td>&quot;Kosovo&quot;</td><td>&quot;XKX&quot;</td><td>&quot;Population, total&quot;</td><td>&quot;SP.POP.TOTL&quot;</td><td>947000</td><td>966000</td><td>994000</td><td>1022000</td><td>1050000</td><td>1078000</td><td>1106000</td><td>1135000</td><td>1163000</td><td>1191000</td><td>1219000</td><td>1247000</td><td>1278000</td><td>1308000</td><td>1339000</td><td>1369000</td><td>1400000</td><td>1430000</td><td>1460000</td><td>1491000</td><td>1521000</td><td>1552000</td><td>1582000</td><td>1614000</td><td>1647000</td><td>1682000</td><td>1717000</td><td>1753000</td><td>1791000</td><td>1827000</td><td>1862000</td><td>1898000</td><td>1932000</td><td>1965000</td><td>1997000</td><td>2029000</td><td>2059000</td><td>2086000</td><td>1966000</td><td>1762000</td><td>1700000</td><td>1701154</td><td>1702310</td><td>1703466</td><td>1704622</td><td>1705780</td><td>1719536</td><td>1733404</td><td>1747383</td><td>1761474</td><td>1775680</td><td>1791000</td><td>1807106</td><td>1818117</td><td>1812771</td><td>1788196</td><td>1777557</td><td>1791003</td><td>1797085</td><td>1788878</td><td>1790133</td><td>1786038</td><td>1761985</td><td>&quot;&quot;</td><td>null</td></tr><tr><td>&quot;Yemen, Rep.&quot;</td><td>&quot;YEM&quot;</td><td>&quot;Population, total&quot;</td><td>&quot;SP.POP.TOTL&quot;</td><td>5542459</td><td>5646668</td><td>5753386</td><td>5860197</td><td>5973803</td><td>6097298</td><td>6228430</td><td>6368014</td><td>6515904</td><td>6673981</td><td>6843607</td><td>7024196</td><td>7215835</td><td>7417736</td><td>7630190</td><td>7855657</td><td>8094985</td><td>8348182</td><td>8615301</td><td>8899922</td><td>9204938</td><td>9529105</td><td>9872292</td><td>10237391</td><td>10625687</td><td>11036918</td><td>11465444</td><td>11915563</td><td>12387238</td><td>12872362</td><td>13375121</td><td>13895851</td><td>14433771</td><td>14988047</td><td>15553171</td><td>16103339</td><td>16614326</td><td>17108681</td><td>17608133</td><td>18114552</td><td>18628700</td><td>19143457</td><td>19660653</td><td>20188799</td><td>20733406</td><td>21320671</td><td>21966298</td><td>22641538</td><td>23329004</td><td>24029589</td><td>24743946</td><td>25475610</td><td>26223391</td><td>26984002</td><td>27753304</td><td>28516545</td><td>29274002</td><td>30034389</td><td>30790513</td><td>31546691</td><td>32284046</td><td>32981641</td><td>33696614</td><td>&quot;&quot;</td><td>null</td></tr><tr><td>&quot;South Africa&quot;</td><td>&quot;ZAF&quot;</td><td>&quot;Population, total&quot;</td><td>&quot;SP.POP.TOTL&quot;</td><td>16520441</td><td>16989464</td><td>17503133</td><td>18042215</td><td>18603097</td><td>19187194</td><td>19789771</td><td>20410677</td><td>21050540</td><td>21704214</td><td>22368306</td><td>23031441</td><td>23698507</td><td>24382513</td><td>25077016</td><td>25777964</td><td>26480300</td><td>27199838</td><td>27943445</td><td>28697014</td><td>29463549</td><td>30232561</td><td>31022417</td><td>31865176</td><td>32768207</td><td>33752964</td><td>34877834</td><td>36119333</td><td>37393853</td><td>38668684</td><td>39877570</td><td>40910959</td><td>41760755</td><td>42525440</td><td>43267982</td><td>43986084</td><td>44661603</td><td>45285048</td><td>45852166</td><td>46364681</td><td>46813266</td><td>47229714</td><td>47661514</td><td>48104048</td><td>48556071</td><td>49017147</td><td>49491756</td><td>49996094</td><td>50565812</td><td>51170779</td><td>51784921</td><td>52443325</td><td>53145033</td><td>53873616</td><td>54729551</td><td>55876504</td><td>56422274</td><td>56641209</td><td>57339635</td><td>58087055</td><td>58801927</td><td>59392255</td><td>59893885</td><td>&quot;&quot;</td><td>null</td></tr><tr><td>&quot;Zambia&quot;</td><td>&quot;ZMB&quot;</td><td>&quot;Population, total&quot;</td><td>&quot;SP.POP.TOTL&quot;</td><td>3119430</td><td>3219451</td><td>3323427</td><td>3431381</td><td>3542764</td><td>3658024</td><td>3777680</td><td>3901288</td><td>4029173</td><td>4159007</td><td>4281671</td><td>4399919</td><td>4523581</td><td>4653289</td><td>4789038</td><td>4931249</td><td>5079672</td><td>5233292</td><td>5391355</td><td>5553462</td><td>5720438</td><td>5897481</td><td>6090818</td><td>6291070</td><td>6488072</td><td>6686449</td><td>6890967</td><td>7095185</td><td>7294325</td><td>7491275</td><td>7686401</td><td>7880466</td><td>8074337</td><td>8270917</td><td>8474216</td><td>8684135</td><td>8902019</td><td>9133156</td><td>9372430</td><td>9621238</td><td>9891136</td><td>10191964</td><td>10508294</td><td>10837973</td><td>11188040</td><td>11564870</td><td>11971567</td><td>12402073</td><td>12852966</td><td>13318087</td><td>13792086</td><td>14265814</td><td>14744658</td><td>15234976</td><td>15737793</td><td>16248230</td><td>16767761</td><td>17298054</td><td>17835893</td><td>18380477</td><td>18927715</td><td>19473125</td><td>20017675</td><td>&quot;&quot;</td><td>null</td></tr><tr><td>&quot;Zimbabwe&quot;</td><td>&quot;ZWE&quot;</td><td>&quot;Population, total&quot;</td><td>&quot;SP.POP.TOTL&quot;</td><td>3806310</td><td>3925952</td><td>4049778</td><td>4177931</td><td>4310332</td><td>4447149</td><td>4588529</td><td>4734694</td><td>4886347</td><td>5044163</td><td>5202918</td><td>5363423</td><td>5532842</td><td>5712712</td><td>5903530</td><td>6097083</td><td>6288387</td><td>6453044</td><td>6549349</td><td>6655833</td><td>7049926</td><td>7506526</td><td>7803855</td><td>8106356</td><td>8398567</td><td>8690515</td><td>8983044</td><td>9277488</td><td>9568739</td><td>9846346</td><td>10113893</td><td>10377815</td><td>10641501</td><td>10794918</td><td>10858594</td><td>10994041</td><td>11178171</td><td>11362401</td><td>11548364</td><td>11716454</td><td>11834676</td><td>11910978</td><td>11984644</td><td>12075828</td><td>12160881</td><td>12224753</td><td>12330490</td><td>12450568</td><td>12550347</td><td>12679810</td><td>12839771</td><td>13025785</td><td>13265331</td><td>13555422</td><td>13855753</td><td>14154937</td><td>14452704</td><td>14751101</td><td>15052184</td><td>15354608</td><td>15669666</td><td>15993524</td><td>16320537</td><td>&quot;&quot;</td><td>null</td></tr></tbody></table></div>"
      ],
      "text/plain": [
       "shape: (266, 69)\n",
       "┌───────────────┬─────────┬───────────────┬──────────────┬───┬───────────┬───────────┬──────┬──────┐\n",
       "│ Country Name  ┆ Country ┆ Indicator     ┆ Indicator    ┆ … ┆ 2021      ┆ 2022      ┆ 2023 ┆      │\n",
       "│ ---           ┆ Code    ┆ Name          ┆ Code         ┆   ┆ ---       ┆ ---       ┆ ---  ┆ ---  │\n",
       "│ str           ┆ ---     ┆ ---           ┆ ---          ┆   ┆ i64       ┆ i64       ┆ str  ┆ str  │\n",
       "│               ┆ str     ┆ str           ┆ str          ┆   ┆           ┆           ┆      ┆      │\n",
       "╞═══════════════╪═════════╪═══════════════╪══════════════╪═══╪═══════════╪═══════════╪══════╪══════╡\n",
       "│ Aruba         ┆ ABW     ┆ Population,   ┆ SP.POP.TOTL  ┆ … ┆ 106537    ┆ 106445    ┆      ┆ null │\n",
       "│               ┆         ┆ total         ┆              ┆   ┆           ┆           ┆      ┆      │\n",
       "│ Africa        ┆ AFE     ┆ Population,   ┆ SP.POP.TOTL  ┆ … ┆ 702977106 ┆ 720859132 ┆      ┆ null │\n",
       "│ Eastern and   ┆         ┆ total         ┆              ┆   ┆           ┆           ┆      ┆      │\n",
       "│ Southern      ┆         ┆               ┆              ┆   ┆           ┆           ┆      ┆      │\n",
       "│ Afghanistan   ┆ AFG     ┆ Population,   ┆ SP.POP.TOTL  ┆ … ┆ 40099462  ┆ 41128771  ┆      ┆ null │\n",
       "│               ┆         ┆ total         ┆              ┆   ┆           ┆           ┆      ┆      │\n",
       "│ Africa        ┆ AFW     ┆ Population,   ┆ SP.POP.TOTL  ┆ … ┆ 478185907 ┆ 490330870 ┆      ┆ null │\n",
       "│ Western and   ┆         ┆ total         ┆              ┆   ┆           ┆           ┆      ┆      │\n",
       "│ Central       ┆         ┆               ┆              ┆   ┆           ┆           ┆      ┆      │\n",
       "│ Angola        ┆ AGO     ┆ Population,   ┆ SP.POP.TOTL  ┆ … ┆ 34503774  ┆ 35588987  ┆      ┆ null │\n",
       "│               ┆         ┆ total         ┆              ┆   ┆           ┆           ┆      ┆      │\n",
       "│ …             ┆ …       ┆ …             ┆ …            ┆ … ┆ …         ┆ …         ┆ …    ┆ …    │\n",
       "│ Kosovo        ┆ XKX     ┆ Population,   ┆ SP.POP.TOTL  ┆ … ┆ 1786038   ┆ 1761985   ┆      ┆ null │\n",
       "│               ┆         ┆ total         ┆              ┆   ┆           ┆           ┆      ┆      │\n",
       "│ Yemen, Rep.   ┆ YEM     ┆ Population,   ┆ SP.POP.TOTL  ┆ … ┆ 32981641  ┆ 33696614  ┆      ┆ null │\n",
       "│               ┆         ┆ total         ┆              ┆   ┆           ┆           ┆      ┆      │\n",
       "│ South Africa  ┆ ZAF     ┆ Population,   ┆ SP.POP.TOTL  ┆ … ┆ 59392255  ┆ 59893885  ┆      ┆ null │\n",
       "│               ┆         ┆ total         ┆              ┆   ┆           ┆           ┆      ┆      │\n",
       "│ Zambia        ┆ ZMB     ┆ Population,   ┆ SP.POP.TOTL  ┆ … ┆ 19473125  ┆ 20017675  ┆      ┆ null │\n",
       "│               ┆         ┆ total         ┆              ┆   ┆           ┆           ┆      ┆      │\n",
       "│ Zimbabwe      ┆ ZWE     ┆ Population,   ┆ SP.POP.TOTL  ┆ … ┆ 15993524  ┆ 16320537  ┆      ┆ null │\n",
       "│               ┆         ┆ total         ┆              ┆   ┆           ┆           ┆      ┆      │\n",
       "└───────────────┴─────────┴───────────────┴──────────────┴───┴───────────┴───────────┴──────┴──────┘"
      ]
     },
     "execution_count": 51,
     "metadata": {},
     "output_type": "execute_result"
    }
   ],
   "source": [
    "wb_pop_wide = pl.read_csv(\"data/world_bank-population.csv\")\n",
    "wb_pop_wide\n"
   ]
  },
  {
   "cell_type": "markdown",
   "metadata": {},
   "source": [
    "[.melt](https://docs.pola.rs/py-polars/html/reference/dataframe/api/polars.DataFrame.melt.html#polars.DataFrame.melt)"
   ]
  },
  {
   "cell_type": "code",
   "execution_count": 52,
   "metadata": {},
   "outputs": [
    {
     "data": {
      "text/html": [
       "<div><style>\n",
       ".dataframe > thead > tr,\n",
       ".dataframe > tbody > tr {\n",
       "  text-align: right;\n",
       "  white-space: pre-wrap;\n",
       "}\n",
       "</style>\n",
       "<small>shape: (16_758, 4)</small><table border=\"1\" class=\"dataframe\"><thead><tr><th>iso3</th><th>country</th><th>year</th><th>population</th></tr><tr><td>str</td><td>str</td><td>i64</td><td>i64</td></tr></thead><tbody><tr><td>&quot;ABW&quot;</td><td>&quot;Aruba&quot;</td><td>1960</td><td>54608</td></tr><tr><td>&quot;AFE&quot;</td><td>&quot;Africa Eastern and Southern&quot;</td><td>1960</td><td>130692579</td></tr><tr><td>&quot;AFG&quot;</td><td>&quot;Afghanistan&quot;</td><td>1960</td><td>8622466</td></tr><tr><td>&quot;AFW&quot;</td><td>&quot;Africa Western and Central&quot;</td><td>1960</td><td>97256290</td></tr><tr><td>&quot;AGO&quot;</td><td>&quot;Angola&quot;</td><td>1960</td><td>5357195</td></tr><tr><td>&hellip;</td><td>&hellip;</td><td>&hellip;</td><td>&hellip;</td></tr><tr><td>&quot;XKX&quot;</td><td>&quot;Kosovo&quot;</td><td>2022</td><td>1761985</td></tr><tr><td>&quot;YEM&quot;</td><td>&quot;Yemen, Rep.&quot;</td><td>2022</td><td>33696614</td></tr><tr><td>&quot;ZAF&quot;</td><td>&quot;South Africa&quot;</td><td>2022</td><td>59893885</td></tr><tr><td>&quot;ZMB&quot;</td><td>&quot;Zambia&quot;</td><td>2022</td><td>20017675</td></tr><tr><td>&quot;ZWE&quot;</td><td>&quot;Zimbabwe&quot;</td><td>2022</td><td>16320537</td></tr></tbody></table></div>"
      ],
      "text/plain": [
       "shape: (16_758, 4)\n",
       "┌──────┬─────────────────────────────┬──────┬────────────┐\n",
       "│ iso3 ┆ country                     ┆ year ┆ population │\n",
       "│ ---  ┆ ---                         ┆ ---  ┆ ---        │\n",
       "│ str  ┆ str                         ┆ i64  ┆ i64        │\n",
       "╞══════╪═════════════════════════════╪══════╪════════════╡\n",
       "│ ABW  ┆ Aruba                       ┆ 1960 ┆ 54608      │\n",
       "│ AFE  ┆ Africa Eastern and Southern ┆ 1960 ┆ 130692579  │\n",
       "│ AFG  ┆ Afghanistan                 ┆ 1960 ┆ 8622466    │\n",
       "│ AFW  ┆ Africa Western and Central  ┆ 1960 ┆ 97256290   │\n",
       "│ AGO  ┆ Angola                      ┆ 1960 ┆ 5357195    │\n",
       "│ …    ┆ …                           ┆ …    ┆ …          │\n",
       "│ XKX  ┆ Kosovo                      ┆ 2022 ┆ 1761985    │\n",
       "│ YEM  ┆ Yemen, Rep.                 ┆ 2022 ┆ 33696614   │\n",
       "│ ZAF  ┆ South Africa                ┆ 2022 ┆ 59893885   │\n",
       "│ ZMB  ┆ Zambia                      ┆ 2022 ┆ 20017675   │\n",
       "│ ZWE  ┆ Zimbabwe                    ┆ 2022 ┆ 16320537   │\n",
       "└──────┴─────────────────────────────┴──────┴────────────┘"
      ]
     },
     "execution_count": 52,
     "metadata": {},
     "output_type": "execute_result"
    }
   ],
   "source": [
    "wb_pop = (\n",
    "    wb_pop_wide.melt(\n",
    "        id_vars=[\"Country Code\", \"Country Name\"],\n",
    "        variable_name=\"year\",\n",
    "        value_vars=cs.numeric(),\n",
    "        value_name=\"population\",\n",
    "    )\n",
    "    .cast({\"year\": pl.Int64})\n",
    "    .rename({\"Country Code\": \"iso3\", \"Country Name\": \"country\"})\n",
    ")\n",
    "wb_pop\n"
   ]
  },
  {
   "cell_type": "code",
   "execution_count": 53,
   "metadata": {},
   "outputs": [
    {
     "data": {
      "text/html": [
       "<div><style>\n",
       ".dataframe > thead > tr,\n",
       ".dataframe > tbody > tr {\n",
       "  text-align: right;\n",
       "  white-space: pre-wrap;\n",
       "}\n",
       "</style>\n",
       "<small>shape: (63, 2)</small><table border=\"1\" class=\"dataframe\"><thead><tr><th>year</th><th>population</th></tr><tr><td>i64</td><td>i64</td></tr></thead><tbody><tr><td>1960</td><td>3031474234</td></tr><tr><td>1961</td><td>3072421801</td></tr><tr><td>1962</td><td>3126849612</td></tr><tr><td>1963</td><td>3193428894</td></tr><tr><td>1964</td><td>3260441925</td></tr><tr><td>&hellip;</td><td>&hellip;</td></tr><tr><td>2018</td><td>7660371127</td></tr><tr><td>2019</td><td>7741774583</td></tr><tr><td>2020</td><td>7820205606</td></tr><tr><td>2021</td><td>7888305693</td></tr><tr><td>2022</td><td>7950946801</td></tr></tbody></table></div>"
      ],
      "text/plain": [
       "shape: (63, 2)\n",
       "┌──────┬────────────┐\n",
       "│ year ┆ population │\n",
       "│ ---  ┆ ---        │\n",
       "│ i64  ┆ i64        │\n",
       "╞══════╪════════════╡\n",
       "│ 1960 ┆ 3031474234 │\n",
       "│ 1961 ┆ 3072421801 │\n",
       "│ 1962 ┆ 3126849612 │\n",
       "│ 1963 ┆ 3193428894 │\n",
       "│ 1964 ┆ 3260441925 │\n",
       "│ …    ┆ …          │\n",
       "│ 2018 ┆ 7660371127 │\n",
       "│ 2019 ┆ 7741774583 │\n",
       "│ 2020 ┆ 7820205606 │\n",
       "│ 2021 ┆ 7888305693 │\n",
       "│ 2022 ┆ 7950946801 │\n",
       "└──────┴────────────┘"
      ]
     },
     "execution_count": 53,
     "metadata": {},
     "output_type": "execute_result"
    }
   ],
   "source": [
    "world_pop = wb_pop.filter(iso3=\"WLD\").drop(\n",
    "    \"iso3\", \"country\"\n",
    ")  # .plot(x=\"year\", y=\"population\")\n",
    "world_pop\n"
   ]
  },
  {
   "cell_type": "code",
   "execution_count": 56,
   "metadata": {},
   "outputs": [
    {
     "data": {
      "text/html": [
       "<div><style>\n",
       ".dataframe > thead > tr,\n",
       ".dataframe > tbody > tr {\n",
       "  text-align: right;\n",
       "  white-space: pre-wrap;\n",
       "}\n",
       "</style>\n",
       "<small>shape: (63, 2)</small><table border=\"1\" class=\"dataframe\"><thead><tr><th>year</th><th>population</th></tr><tr><td>str</td><td>i64</td></tr></thead><tbody><tr><td>&quot;1960&quot;</td><td>3031474234</td></tr><tr><td>&quot;1961&quot;</td><td>3072421801</td></tr><tr><td>&quot;1962&quot;</td><td>3126849612</td></tr><tr><td>&quot;1963&quot;</td><td>3193428894</td></tr><tr><td>&quot;1964&quot;</td><td>3260441925</td></tr><tr><td>&hellip;</td><td>&hellip;</td></tr><tr><td>&quot;2018&quot;</td><td>7660371127</td></tr><tr><td>&quot;2019&quot;</td><td>7741774583</td></tr><tr><td>&quot;2020&quot;</td><td>7820205606</td></tr><tr><td>&quot;2021&quot;</td><td>7888305693</td></tr><tr><td>&quot;2022&quot;</td><td>7950946801</td></tr></tbody></table></div>"
      ],
      "text/plain": [
       "shape: (63, 2)\n",
       "┌──────┬────────────┐\n",
       "│ year ┆ population │\n",
       "│ ---  ┆ ---        │\n",
       "│ str  ┆ i64        │\n",
       "╞══════╪════════════╡\n",
       "│ 1960 ┆ 3031474234 │\n",
       "│ 1961 ┆ 3072421801 │\n",
       "│ 1962 ┆ 3126849612 │\n",
       "│ 1963 ┆ 3193428894 │\n",
       "│ 1964 ┆ 3260441925 │\n",
       "│ …    ┆ …          │\n",
       "│ 2018 ┆ 7660371127 │\n",
       "│ 2019 ┆ 7741774583 │\n",
       "│ 2020 ┆ 7820205606 │\n",
       "│ 2021 ┆ 7888305693 │\n",
       "│ 2022 ┆ 7950946801 │\n",
       "└──────┴────────────┘"
      ]
     },
     "execution_count": 56,
     "metadata": {},
     "output_type": "execute_result"
    }
   ],
   "source": [
    "# Alternative\n",
    "wb_pop_wide.filter(pl.col(\"Country Code\") == \"WLD\").select(cs.numeric()).transpose(\n",
    "    header_name=\"year\", include_header=True\n",
    ").rename({\"column_0\": \"population\"})\n"
   ]
  },
  {
   "cell_type": "markdown",
   "metadata": {},
   "source": [
    "### Long -> wide (pivotting)"
   ]
  },
  {
   "cell_type": "markdown",
   "metadata": {},
   "source": [
    "**Example:** Plot the daily pattern of temperatures in Florence for each month of the year (since 2020)."
   ]
  },
  {
   "cell_type": "code",
   "execution_count": 49,
   "metadata": {},
   "outputs": [
    {
     "data": {
      "text/html": [
       "<div><style>\n",
       ".dataframe > thead > tr,\n",
       ".dataframe > tbody > tr {\n",
       "  text-align: right;\n",
       "  white-space: pre-wrap;\n",
       "}\n",
       "</style>\n",
       "<small>shape: (38_329, 5)</small><table border=\"1\" class=\"dataframe\"><thead><tr><th>time</th><th>temp</th><th>month</th><th>month_name</th><th>hour</th></tr><tr><td>datetime[ns]</td><td>f64</td><td>i8</td><td>str</td><td>i8</td></tr></thead><tbody><tr><td>2020-01-01 00:00:00</td><td>-1.2</td><td>1</td><td>&quot;January&quot;</td><td>0</td></tr><tr><td>2020-01-01 01:00:00</td><td>-2.2</td><td>1</td><td>&quot;January&quot;</td><td>1</td></tr><tr><td>2020-01-01 02:00:00</td><td>-2.7</td><td>1</td><td>&quot;January&quot;</td><td>2</td></tr><tr><td>2020-01-01 03:00:00</td><td>-2.6</td><td>1</td><td>&quot;January&quot;</td><td>3</td></tr><tr><td>2020-01-01 04:00:00</td><td>-3.6</td><td>1</td><td>&quot;January&quot;</td><td>4</td></tr><tr><td>&hellip;</td><td>&hellip;</td><td>&hellip;</td><td>&hellip;</td><td>&hellip;</td></tr><tr><td>2024-05-15 20:00:00</td><td>13.6</td><td>5</td><td>&quot;May&quot;</td><td>20</td></tr><tr><td>2024-05-15 21:00:00</td><td>11.1</td><td>5</td><td>&quot;May&quot;</td><td>21</td></tr><tr><td>2024-05-15 22:00:00</td><td>10.6</td><td>5</td><td>&quot;May&quot;</td><td>22</td></tr><tr><td>2024-05-15 23:00:00</td><td>10.2</td><td>5</td><td>&quot;May&quot;</td><td>23</td></tr><tr><td>2024-05-16 00:00:00</td><td>9.2</td><td>5</td><td>&quot;May&quot;</td><td>0</td></tr></tbody></table></div>"
      ],
      "text/plain": [
       "shape: (38_329, 5)\n",
       "┌─────────────────────┬──────┬───────┬────────────┬──────┐\n",
       "│ time                ┆ temp ┆ month ┆ month_name ┆ hour │\n",
       "│ ---                 ┆ ---  ┆ ---   ┆ ---        ┆ ---  │\n",
       "│ datetime[ns]        ┆ f64  ┆ i8    ┆ str        ┆ i8   │\n",
       "╞═════════════════════╪══════╪═══════╪════════════╪══════╡\n",
       "│ 2020-01-01 00:00:00 ┆ -1.2 ┆ 1     ┆ January    ┆ 0    │\n",
       "│ 2020-01-01 01:00:00 ┆ -2.2 ┆ 1     ┆ January    ┆ 1    │\n",
       "│ 2020-01-01 02:00:00 ┆ -2.7 ┆ 1     ┆ January    ┆ 2    │\n",
       "│ 2020-01-01 03:00:00 ┆ -2.6 ┆ 1     ┆ January    ┆ 3    │\n",
       "│ 2020-01-01 04:00:00 ┆ -3.6 ┆ 1     ┆ January    ┆ 4    │\n",
       "│ …                   ┆ …    ┆ …     ┆ …          ┆ …    │\n",
       "│ 2024-05-15 20:00:00 ┆ 13.6 ┆ 5     ┆ May        ┆ 20   │\n",
       "│ 2024-05-15 21:00:00 ┆ 11.1 ┆ 5     ┆ May        ┆ 21   │\n",
       "│ 2024-05-15 22:00:00 ┆ 10.6 ┆ 5     ┆ May        ┆ 22   │\n",
       "│ 2024-05-15 23:00:00 ┆ 10.2 ┆ 5     ┆ May        ┆ 23   │\n",
       "│ 2024-05-16 00:00:00 ┆ 9.2  ┆ 5     ┆ May        ┆ 0    │\n",
       "└─────────────────────┴──────┴───────┴────────────┴──────┘"
      ]
     },
     "execution_count": 49,
     "metadata": {},
     "output_type": "execute_result"
    }
   ],
   "source": [
    "month_day_data = (\n",
    "    weather.drop_nulls()\n",
    "    .filter(\n",
    "        pl.col(\"temp\").is_not_nan(),\n",
    "        pl.col(\"time\") >= date(2020, 1, 1),\n",
    "    )\n",
    "    .select(\"time\", \"temp\")\n",
    "    .with_columns(\n",
    "        pl.col(\"time\").dt.month().alias(\"month\"),\n",
    "        pl.col(\"time\").dt.strftime(\"%B\").alias(\"month_name\"),\n",
    "        pl.col(\"time\").dt.hour().alias(\"hour\"),\n",
    "    )\n",
    ")\n",
    "month_day_data\n"
   ]
  },
  {
   "cell_type": "markdown",
   "metadata": {},
   "source": [
    "[.pivot]()"
   ]
  },
  {
   "cell_type": "code",
   "execution_count": 57,
   "metadata": {},
   "outputs": [
    {
     "data": {
      "text/html": [
       "<div><style>\n",
       ".dataframe > thead > tr,\n",
       ".dataframe > tbody > tr {\n",
       "  text-align: right;\n",
       "  white-space: pre-wrap;\n",
       "}\n",
       "</style>\n",
       "<small>shape: (24, 13)</small><table border=\"1\" class=\"dataframe\"><thead><tr><th>hour</th><th>January</th><th>February</th><th>March</th><th>April</th><th>May</th><th>June</th><th>July</th><th>August</th><th>September</th><th>October</th><th>November</th><th>December</th></tr><tr><td>i8</td><td>f64</td><td>f64</td><td>f64</td><td>f64</td><td>f64</td><td>f64</td><td>f64</td><td>f64</td><td>f64</td><td>f64</td><td>f64</td><td>f64</td></tr></thead><tbody><tr><td>0</td><td>2.687742</td><td>2.96338</td><td>4.074839</td><td>6.991333</td><td>10.410714</td><td>14.1825</td><td>18.110484</td><td>17.83629</td><td>14.51</td><td>10.33629</td><td>8.044167</td><td>5.321774</td></tr><tr><td>1</td><td>2.560645</td><td>2.747183</td><td>3.871613</td><td>6.768</td><td>10.23741</td><td>13.9125</td><td>17.462097</td><td>17.11129</td><td>14.17</td><td>9.945968</td><td>7.869167</td><td>5.318548</td></tr><tr><td>2</td><td>2.363871</td><td>2.41338</td><td>3.564516</td><td>6.378667</td><td>9.752518</td><td>13.4175</td><td>16.893548</td><td>16.521774</td><td>13.691667</td><td>9.543548</td><td>7.5525</td><td>5.083871</td></tr><tr><td>3</td><td>1.92129</td><td>1.939437</td><td>3.143226</td><td>5.654</td><td>9.069065</td><td>12.553333</td><td>16.317742</td><td>16.06371</td><td>13.290833</td><td>9.345161</td><td>7.171667</td><td>4.648387</td></tr><tr><td>4</td><td>1.837419</td><td>2.016197</td><td>3.668387</td><td>7.128667</td><td>11.260432</td><td>14.973333</td><td>18.727419</td><td>17.912903</td><td>14.474167</td><td>9.933065</td><td>7.246667</td><td>4.637903</td></tr><tr><td>&hellip;</td><td>&hellip;</td><td>&hellip;</td><td>&hellip;</td><td>&hellip;</td><td>&hellip;</td><td>&hellip;</td><td>&hellip;</td><td>&hellip;</td><td>&hellip;</td><td>&hellip;</td><td>&hellip;</td><td>&hellip;</td></tr><tr><td>19</td><td>4.903871</td><td>6.11831</td><td>7.299355</td><td>11.078</td><td>15.38777</td><td>19.553333</td><td>23.760484</td><td>22.56129</td><td>18.800833</td><td>13.935484</td><td>10.149167</td><td>7.332258</td></tr><tr><td>20</td><td>4.357419</td><td>5.33662</td><td>6.549032</td><td>10.111333</td><td>14.203597</td><td>18.238333</td><td>22.366129</td><td>21.362097</td><td>17.758333</td><td>13.032258</td><td>9.566667</td><td>6.867742</td></tr><tr><td>21</td><td>3.707097</td><td>4.416197</td><td>5.81871</td><td>9.091333</td><td>12.892086</td><td>16.984167</td><td>20.966129</td><td>20.26129</td><td>16.575</td><td>12.124194</td><td>9.185833</td><td>6.214516</td></tr><tr><td>22</td><td>3.5</td><td>4.045775</td><td>5.272903</td><td>8.467333</td><td>12.257554</td><td>16.2025</td><td>20.006452</td><td>19.356452</td><td>15.890833</td><td>11.525</td><td>8.806667</td><td>6.000806</td></tr><tr><td>23</td><td>3.157419</td><td>3.554225</td><td>4.758065</td><td>7.838</td><td>11.520144</td><td>15.4225</td><td>19.041935</td><td>18.475806</td><td>15.194167</td><td>10.927419</td><td>8.423333</td><td>5.731452</td></tr></tbody></table></div>"
      ],
      "text/plain": [
       "shape: (24, 13)\n",
       "┌──────┬──────────┬──────────┬──────────┬───┬───────────┬───────────┬───────────┬──────────┐\n",
       "│ hour ┆ January  ┆ February ┆ March    ┆ … ┆ September ┆ October   ┆ November  ┆ December │\n",
       "│ ---  ┆ ---      ┆ ---      ┆ ---      ┆   ┆ ---       ┆ ---       ┆ ---       ┆ ---      │\n",
       "│ i8   ┆ f64      ┆ f64      ┆ f64      ┆   ┆ f64       ┆ f64       ┆ f64       ┆ f64      │\n",
       "╞══════╪══════════╪══════════╪══════════╪═══╪═══════════╪═══════════╪═══════════╪══════════╡\n",
       "│ 0    ┆ 2.687742 ┆ 2.96338  ┆ 4.074839 ┆ … ┆ 14.51     ┆ 10.33629  ┆ 8.044167  ┆ 5.321774 │\n",
       "│ 1    ┆ 2.560645 ┆ 2.747183 ┆ 3.871613 ┆ … ┆ 14.17     ┆ 9.945968  ┆ 7.869167  ┆ 5.318548 │\n",
       "│ 2    ┆ 2.363871 ┆ 2.41338  ┆ 3.564516 ┆ … ┆ 13.691667 ┆ 9.543548  ┆ 7.5525    ┆ 5.083871 │\n",
       "│ 3    ┆ 1.92129  ┆ 1.939437 ┆ 3.143226 ┆ … ┆ 13.290833 ┆ 9.345161  ┆ 7.171667  ┆ 4.648387 │\n",
       "│ 4    ┆ 1.837419 ┆ 2.016197 ┆ 3.668387 ┆ … ┆ 14.474167 ┆ 9.933065  ┆ 7.246667  ┆ 4.637903 │\n",
       "│ …    ┆ …        ┆ …        ┆ …        ┆ … ┆ …         ┆ …         ┆ …         ┆ …        │\n",
       "│ 19   ┆ 4.903871 ┆ 6.11831  ┆ 7.299355 ┆ … ┆ 18.800833 ┆ 13.935484 ┆ 10.149167 ┆ 7.332258 │\n",
       "│ 20   ┆ 4.357419 ┆ 5.33662  ┆ 6.549032 ┆ … ┆ 17.758333 ┆ 13.032258 ┆ 9.566667  ┆ 6.867742 │\n",
       "│ 21   ┆ 3.707097 ┆ 4.416197 ┆ 5.81871  ┆ … ┆ 16.575    ┆ 12.124194 ┆ 9.185833  ┆ 6.214516 │\n",
       "│ 22   ┆ 3.5      ┆ 4.045775 ┆ 5.272903 ┆ … ┆ 15.890833 ┆ 11.525    ┆ 8.806667  ┆ 6.000806 │\n",
       "│ 23   ┆ 3.157419 ┆ 3.554225 ┆ 4.758065 ┆ … ┆ 15.194167 ┆ 10.927419 ┆ 8.423333  ┆ 5.731452 │\n",
       "└──────┴──────────┴──────────┴──────────┴───┴───────────┴───────────┴───────────┴──────────┘"
      ]
     },
     "execution_count": 57,
     "metadata": {},
     "output_type": "execute_result"
    }
   ],
   "source": [
    "month_day_table = month_day_data.pivot(\n",
    "    values=\"temp\",\n",
    "    index=\"hour\",\n",
    "    columns=\"month_name\",\n",
    "    aggregate_function=\"mean\",\n",
    ")\n",
    "month_day_table\n"
   ]
  },
  {
   "cell_type": "code",
   "execution_count": 58,
   "metadata": {},
   "outputs": [
    {
     "data": {},
     "metadata": {},
     "output_type": "display_data"
    },
    {
     "data": {
      "application/vnd.holoviews_exec.v0+json": "",
      "text/html": [
       "<div id='p1880'>\n",
       "  <div id=\"c919b120-ed23-4190-92d7-d2b4db2a8d46\" data-root-id=\"p1880\" style=\"display: contents;\"></div>\n",
       "</div>\n",
       "<script type=\"application/javascript\">(function(root) {\n",
       "  var docs_json = {\"e9294968-8770-40c4-b8c1-dcefaec3b340\":{\"version\":\"3.4.1\",\"title\":\"Bokeh Application\",\"roots\":[{\"type\":\"object\",\"name\":\"Row\",\"id\":\"p1880\",\"attributes\":{\"name\":\"Row02590\",\"tags\":[\"embedded\"],\"stylesheets\":[\"\\n:host(.pn-loading):before, .pn-loading:before {\\n  background-color: #c3c3c3;\\n  mask-size: auto calc(min(50%, 400px));\\n  -webkit-mask-size: auto calc(min(50%, 400px));\\n}\",{\"type\":\"object\",\"name\":\"ImportedStyleSheet\",\"id\":\"p1883\",\"attributes\":{\"url\":\"https://cdn.holoviz.org/panel/1.4.2/dist/css/loading.css\"}},{\"type\":\"object\",\"name\":\"ImportedStyleSheet\",\"id\":\"p2128\",\"attributes\":{\"url\":\"https://cdn.holoviz.org/panel/1.4.2/dist/css/listpanel.css\"}},{\"type\":\"object\",\"name\":\"ImportedStyleSheet\",\"id\":\"p1881\",\"attributes\":{\"url\":\"https://cdn.holoviz.org/panel/1.4.2/dist/bundled/theme/default.css\"}},{\"type\":\"object\",\"name\":\"ImportedStyleSheet\",\"id\":\"p1882\",\"attributes\":{\"url\":\"https://cdn.holoviz.org/panel/1.4.2/dist/bundled/theme/native.css\"}}],\"min_width\":700,\"margin\":0,\"sizing_mode\":\"stretch_width\",\"align\":\"start\",\"children\":[{\"type\":\"object\",\"name\":\"Spacer\",\"id\":\"p1884\",\"attributes\":{\"name\":\"HSpacer02597\",\"stylesheets\":[\"\\n:host(.pn-loading):before, .pn-loading:before {\\n  background-color: #c3c3c3;\\n  mask-size: auto calc(min(50%, 400px));\\n  -webkit-mask-size: auto calc(min(50%, 400px));\\n}\",{\"id\":\"p1883\"},{\"id\":\"p1881\"},{\"id\":\"p1882\"}],\"margin\":0,\"sizing_mode\":\"stretch_width\",\"align\":\"start\"}},{\"type\":\"object\",\"name\":\"Figure\",\"id\":\"p1925\",\"attributes\":{\"width\":700,\"height\":300,\"margin\":[5,10],\"sizing_mode\":\"fixed\",\"align\":\"start\",\"x_range\":{\"type\":\"object\",\"name\":\"Range1d\",\"id\":\"p1885\",\"attributes\":{\"tags\":[[[\"hour\",\"hour\",null]],[]],\"end\":23.0,\"reset_start\":0.0,\"reset_end\":23.0}},\"y_range\":{\"type\":\"object\",\"name\":\"Range1d\",\"id\":\"p1886\",\"attributes\":{\"tags\":[[[\"value\",\"value\",null]],{\"type\":\"map\",\"entries\":[[\"invert_yaxis\",false],[\"autorange\",false]]}],\"start\":-1.485290322580645,\"end\":34.40012903225805,\"reset_start\":-1.485290322580645,\"reset_end\":34.40012903225805}},\"x_scale\":{\"type\":\"object\",\"name\":\"LinearScale\",\"id\":\"p1935\"},\"y_scale\":{\"type\":\"object\",\"name\":\"LinearScale\",\"id\":\"p1936\"},\"title\":{\"type\":\"object\",\"name\":\"Title\",\"id\":\"p1928\",\"attributes\":{\"text_color\":\"black\",\"text_font_size\":\"12pt\"}},\"renderers\":[{\"type\":\"object\",\"name\":\"GlyphRenderer\",\"id\":\"p1965\",\"attributes\":{\"name\":\"January\",\"data_source\":{\"type\":\"object\",\"name\":\"ColumnDataSource\",\"id\":\"p1956\",\"attributes\":{\"selected\":{\"type\":\"object\",\"name\":\"Selection\",\"id\":\"p1957\",\"attributes\":{\"indices\":[],\"line_indices\":[]}},\"selection_policy\":{\"type\":\"object\",\"name\":\"UnionRenderers\",\"id\":\"p1958\"},\"data\":{\"type\":\"map\",\"entries\":[[\"hour\",{\"type\":\"ndarray\",\"array\":{\"type\":\"bytes\",\"data\":\"AAECAwQFBgcICQoLDA0ODxAREhMUFRYX\"},\"shape\":[24],\"dtype\":\"int8\",\"order\":\"little\"}],[\"value\",{\"type\":\"ndarray\",\"array\":{\"type\":\"bytes\",\"data\":\"gu0H2H6ABUB7OMOHM3wEQOtSky416QJAvK7Z65q9/j9hHWHWEWb9P0TjMDQOQ/s/EUBSASQV+D9Kl5p0qUkLQP4A2w+w/RRAHEBSASQVHEAMIKkAkgogQPmUm0+5+SFAER/O8OEMJEAk8SoSryIjQDDrCLOOMCJAeRZkZ0F2IUB+EvgngX8eQCt+7uLnLhpAqv+2+m+rFUCfBdlZkJ0TQG/131b/bRFApSWCWiKoDUD9//////8LQEVRJhRlQglA\"},\"shape\":[24],\"dtype\":\"float64\",\"order\":\"little\"}],[\"Variable\",[\"January\",\"January\",\"January\",\"January\",\"January\",\"January\",\"January\",\"January\",\"January\",\"January\",\"January\",\"January\",\"January\",\"January\",\"January\",\"January\",\"January\",\"January\",\"January\",\"January\",\"January\",\"January\",\"January\",\"January\"]]]}}},\"view\":{\"type\":\"object\",\"name\":\"CDSView\",\"id\":\"p1966\",\"attributes\":{\"filter\":{\"type\":\"object\",\"name\":\"AllIndices\",\"id\":\"p1967\"}}},\"glyph\":{\"type\":\"object\",\"name\":\"Line\",\"id\":\"p1962\",\"attributes\":{\"tags\":[\"apply_ranges\"],\"x\":{\"type\":\"field\",\"field\":\"hour\"},\"y\":{\"type\":\"field\",\"field\":\"value\"},\"line_color\":\"#30a2da\",\"line_width\":2}},\"selection_glyph\":{\"type\":\"object\",\"name\":\"Line\",\"id\":\"p1970\",\"attributes\":{\"tags\":[\"apply_ranges\"],\"x\":{\"type\":\"field\",\"field\":\"hour\"},\"y\":{\"type\":\"field\",\"field\":\"value\"},\"line_color\":\"#30a2da\",\"line_width\":2}},\"nonselection_glyph\":{\"type\":\"object\",\"name\":\"Line\",\"id\":\"p1963\",\"attributes\":{\"tags\":[\"apply_ranges\"],\"x\":{\"type\":\"field\",\"field\":\"hour\"},\"y\":{\"type\":\"field\",\"field\":\"value\"},\"line_color\":\"#30a2da\",\"line_alpha\":0.1,\"line_width\":2}},\"muted_glyph\":{\"type\":\"object\",\"name\":\"Line\",\"id\":\"p1964\",\"attributes\":{\"tags\":[\"apply_ranges\"],\"x\":{\"type\":\"field\",\"field\":\"hour\"},\"y\":{\"type\":\"field\",\"field\":\"value\"},\"line_color\":\"#30a2da\",\"line_alpha\":0.2,\"line_width\":2}}}},{\"type\":\"object\",\"name\":\"GlyphRenderer\",\"id\":\"p1980\",\"attributes\":{\"name\":\"February\",\"data_source\":{\"type\":\"object\",\"name\":\"ColumnDataSource\",\"id\":\"p1971\",\"attributes\":{\"selected\":{\"type\":\"object\",\"name\":\"Selection\",\"id\":\"p1972\",\"attributes\":{\"indices\":[],\"line_indices\":[]}},\"selection_policy\":{\"type\":\"object\",\"name\":\"UnionRenderers\",\"id\":\"p1973\"},\"data\":{\"type\":\"map\",\"entries\":[[\"hour\",{\"type\":\"ndarray\",\"array\":{\"type\":\"bytes\",\"data\":\"AAECAwQFBgcICQoLDA0ODxAREhMUFRYX\"},\"shape\":[24],\"dtype\":\"int8\",\"order\":\"little\"}],[\"value\",{\"type\":\"ndarray\",\"array\":{\"type\":\"bytes\",\"data\":\"csObuAC1B0DgmOQhO/oFQAddNVKaTgNAxq1lse4H/z/ykB39KyEAQOCY5CE7+v8/rqN/JcRQ/D9Ar8+gq0YRQA7miyq3lhpAv9ST8dulIUCPlKZTBL4jQESVW8ti3SVA4y71ZPz2J0DKjv6VEEMnQBi/XerJeCZALXnIjv6VJUDj1rJY9wMjQLR3Xp9BVyBAPM42vIkLG0CKdT84JnkYQH1R5dayWBVAEWIomC+qEUDdpZ6M3y4QQBaBj7MNbwxA\"},\"shape\":[24],\"dtype\":\"float64\",\"order\":\"little\"}],[\"Variable\",[\"February\",\"February\",\"February\",\"February\",\"February\",\"February\",\"February\",\"February\",\"February\",\"February\",\"February\",\"February\",\"February\",\"February\",\"February\",\"February\",\"February\",\"February\",\"February\",\"February\",\"February\",\"February\",\"February\",\"February\"]]]}}},\"view\":{\"type\":\"object\",\"name\":\"CDSView\",\"id\":\"p1981\",\"attributes\":{\"filter\":{\"type\":\"object\",\"name\":\"AllIndices\",\"id\":\"p1982\"}}},\"glyph\":{\"type\":\"object\",\"name\":\"Line\",\"id\":\"p1977\",\"attributes\":{\"tags\":[\"apply_ranges\"],\"x\":{\"type\":\"field\",\"field\":\"hour\"},\"y\":{\"type\":\"field\",\"field\":\"value\"},\"line_color\":\"#fc4f30\",\"line_width\":2}},\"selection_glyph\":{\"type\":\"object\",\"name\":\"Line\",\"id\":\"p1984\",\"attributes\":{\"tags\":[\"apply_ranges\"],\"x\":{\"type\":\"field\",\"field\":\"hour\"},\"y\":{\"type\":\"field\",\"field\":\"value\"},\"line_color\":\"#fc4f30\",\"line_width\":2}},\"nonselection_glyph\":{\"type\":\"object\",\"name\":\"Line\",\"id\":\"p1978\",\"attributes\":{\"tags\":[\"apply_ranges\"],\"x\":{\"type\":\"field\",\"field\":\"hour\"},\"y\":{\"type\":\"field\",\"field\":\"value\"},\"line_color\":\"#fc4f30\",\"line_alpha\":0.1,\"line_width\":2}},\"muted_glyph\":{\"type\":\"object\",\"name\":\"Line\",\"id\":\"p1979\",\"attributes\":{\"tags\":[\"apply_ranges\"],\"x\":{\"type\":\"field\",\"field\":\"hour\"},\"y\":{\"type\":\"field\",\"field\":\"value\"},\"line_color\":\"#fc4f30\",\"line_alpha\":0.2,\"line_width\":2}}}},{\"type\":\"object\",\"name\":\"GlyphRenderer\",\"id\":\"p1994\",\"attributes\":{\"name\":\"March\",\"data_source\":{\"type\":\"object\",\"name\":\"ColumnDataSource\",\"id\":\"p1985\",\"attributes\":{\"selected\":{\"type\":\"object\",\"name\":\"Selection\",\"id\":\"p1986\",\"attributes\":{\"indices\":[],\"line_indices\":[]}},\"selection_policy\":{\"type\":\"object\",\"name\":\"UnionRenderers\",\"id\":\"p1987\"},\"data\":{\"type\":\"map\",\"entries\":[[\"hour\",{\"type\":\"ndarray\",\"array\":{\"type\":\"bytes\",\"data\":\"AAECAwQFBgcICQoLDA0ODxAREhMUFRYX\"},\"shape\":[24],\"dtype\":\"int8\",\"order\":\"little\"}],[\"value\",{\"type\":\"ndarray\",\"array\":{\"type\":\"bytes\",\"data\":\"TijKhKJMEED4ApEvEPkOQIYQQgghhAxAJDlVklMlCUBZtY1V21gNQHSqJKdKchBA7uPCPi7sEUCR5gpprpAaQIjFhlhsiCFAh6QCSCqAJUDpwIgOjOgmQDGiAyM6MChAl3gViVeRKUDJ8pcsf8koQBfTNzF9EyhAjTKhKBOKJ0DrLMjOguwkQH8T0zcxfSJAJcw6wqwjIEA1oSgTijIdQDNYI4M1MhpARr1l1FtGF0AXP3fxcxcVQAkhhBBCCBNA\"},\"shape\":[24],\"dtype\":\"float64\",\"order\":\"little\"}],[\"Variable\",[\"March\",\"March\",\"March\",\"March\",\"March\",\"March\",\"March\",\"March\",\"March\",\"March\",\"March\",\"March\",\"March\",\"March\",\"March\",\"March\",\"March\",\"March\",\"March\",\"March\",\"March\",\"March\",\"March\",\"March\"]]]}}},\"view\":{\"type\":\"object\",\"name\":\"CDSView\",\"id\":\"p1995\",\"attributes\":{\"filter\":{\"type\":\"object\",\"name\":\"AllIndices\",\"id\":\"p1996\"}}},\"glyph\":{\"type\":\"object\",\"name\":\"Line\",\"id\":\"p1991\",\"attributes\":{\"tags\":[\"apply_ranges\"],\"x\":{\"type\":\"field\",\"field\":\"hour\"},\"y\":{\"type\":\"field\",\"field\":\"value\"},\"line_color\":\"#e5ae38\",\"line_width\":2}},\"selection_glyph\":{\"type\":\"object\",\"name\":\"Line\",\"id\":\"p1998\",\"attributes\":{\"tags\":[\"apply_ranges\"],\"x\":{\"type\":\"field\",\"field\":\"hour\"},\"y\":{\"type\":\"field\",\"field\":\"value\"},\"line_color\":\"#e5ae38\",\"line_width\":2}},\"nonselection_glyph\":{\"type\":\"object\",\"name\":\"Line\",\"id\":\"p1992\",\"attributes\":{\"tags\":[\"apply_ranges\"],\"x\":{\"type\":\"field\",\"field\":\"hour\"},\"y\":{\"type\":\"field\",\"field\":\"value\"},\"line_color\":\"#e5ae38\",\"line_alpha\":0.1,\"line_width\":2}},\"muted_glyph\":{\"type\":\"object\",\"name\":\"Line\",\"id\":\"p1993\",\"attributes\":{\"tags\":[\"apply_ranges\"],\"x\":{\"type\":\"field\",\"field\":\"hour\"},\"y\":{\"type\":\"field\",\"field\":\"value\"},\"line_color\":\"#e5ae38\",\"line_alpha\":0.2,\"line_width\":2}}}},{\"type\":\"object\",\"name\":\"GlyphRenderer\",\"id\":\"p2008\",\"attributes\":{\"name\":\"April\",\"data_source\":{\"type\":\"object\",\"name\":\"ColumnDataSource\",\"id\":\"p1999\",\"attributes\":{\"selected\":{\"type\":\"object\",\"name\":\"Selection\",\"id\":\"p2000\",\"attributes\":{\"indices\":[],\"line_indices\":[]}},\"selection_policy\":{\"type\":\"object\",\"name\":\"UnionRenderers\",\"id\":\"p2001\"},\"data\":{\"type\":\"map\",\"entries\":[[\"hour\",{\"type\":\"ndarray\",\"array\":{\"type\":\"bytes\",\"data\":\"AAECAwQFBgcICQoLDA0ODxAREhMUFRYX\"},\"shape\":[24],\"dtype\":\"int8\",\"order\":\"little\"}],[\"value\",{\"type\":\"ndarray\",\"array\":{\"type\":\"bytes\",\"data\":\"xmfYFSD3G0DgT42XbhIbQLSs1THBgxlAA1YOLbKdFkC3rNUxwYMcQBsv3SQGASFAUtS/EcpoI0Cf/o1QRu8nQF4Bcq+5ECxAC3TaQKcNMEBb1uqY4IEwQAAAAAAAADFANPvwGXbFMUC911xImhIxQHq+nxovnTBAVg4tsp1vMEDg3d3d3d0tQLwta3VM8CpA/WLJL5b8J0AMLbKd7ycmQB4+w64AOSRAF2cfPsMuIkCj/o1QRu8gQCkxCKwcWh9A\"},\"shape\":[24],\"dtype\":\"float64\",\"order\":\"little\"}],[\"Variable\",[\"April\",\"April\",\"April\",\"April\",\"April\",\"April\",\"April\",\"April\",\"April\",\"April\",\"April\",\"April\",\"April\",\"April\",\"April\",\"April\",\"April\",\"April\",\"April\",\"April\",\"April\",\"April\",\"April\",\"April\"]]]}}},\"view\":{\"type\":\"object\",\"name\":\"CDSView\",\"id\":\"p2009\",\"attributes\":{\"filter\":{\"type\":\"object\",\"name\":\"AllIndices\",\"id\":\"p2010\"}}},\"glyph\":{\"type\":\"object\",\"name\":\"Line\",\"id\":\"p2005\",\"attributes\":{\"tags\":[\"apply_ranges\"],\"x\":{\"type\":\"field\",\"field\":\"hour\"},\"y\":{\"type\":\"field\",\"field\":\"value\"},\"line_color\":\"#6d904f\",\"line_width\":2}},\"selection_glyph\":{\"type\":\"object\",\"name\":\"Line\",\"id\":\"p2012\",\"attributes\":{\"tags\":[\"apply_ranges\"],\"x\":{\"type\":\"field\",\"field\":\"hour\"},\"y\":{\"type\":\"field\",\"field\":\"value\"},\"line_color\":\"#6d904f\",\"line_width\":2}},\"nonselection_glyph\":{\"type\":\"object\",\"name\":\"Line\",\"id\":\"p2006\",\"attributes\":{\"tags\":[\"apply_ranges\"],\"x\":{\"type\":\"field\",\"field\":\"hour\"},\"y\":{\"type\":\"field\",\"field\":\"value\"},\"line_color\":\"#6d904f\",\"line_alpha\":0.1,\"line_width\":2}},\"muted_glyph\":{\"type\":\"object\",\"name\":\"Line\",\"id\":\"p2007\",\"attributes\":{\"tags\":[\"apply_ranges\"],\"x\":{\"type\":\"field\",\"field\":\"hour\"},\"y\":{\"type\":\"field\",\"field\":\"value\"},\"line_color\":\"#6d904f\",\"line_alpha\":0.2,\"line_width\":2}}}},{\"type\":\"object\",\"name\":\"GlyphRenderer\",\"id\":\"p2022\",\"attributes\":{\"name\":\"May\",\"data_source\":{\"type\":\"object\",\"name\":\"ColumnDataSource\",\"id\":\"p2013\",\"attributes\":{\"selected\":{\"type\":\"object\",\"name\":\"Selection\",\"id\":\"p2014\",\"attributes\":{\"indices\":[],\"line_indices\":[]}},\"selection_policy\":{\"type\":\"object\",\"name\":\"UnionRenderers\",\"id\":\"p2015\"},\"data\":{\"type\":\"map\",\"entries\":[[\"hour\",{\"type\":\"ndarray\",\"array\":{\"type\":\"bytes\",\"data\":\"AAECAwQFBgcICQoLDA0ODxAREhMUFRYX\"},\"shape\":[24],\"dtype\":\"int8\",\"order\":\"little\"}],[\"value\",{\"type\":\"ndarray\",\"array\":{\"type\":\"bytes\",\"data\":\"JkmSJEnSJEC0dx3QjXkkQOC0kwlKgSNAzqlldFwjIkD8Wj9MV4UmQPmLnGHBpSpASo9dDu9BLUB9pqTHLocxQAHWHckSmzNAKdu7DuhGNUCH27STCco1QAlDBonUOTZAtlsxVpqLNkBAmaAUeBY2QNR4CF/ygjVACFh3JEvsNEDtefPtVowzQFxNQhR/ETJAnlpGxzWCMEANzNrCicYuQOmxy+E9aCxAqyYhir/IKUCQHrsc3oMoQN6mnUxQCidA\"},\"shape\":[24],\"dtype\":\"float64\",\"order\":\"little\"}],[\"Variable\",[\"May\",\"May\",\"May\",\"May\",\"May\",\"May\",\"May\",\"May\",\"May\",\"May\",\"May\",\"May\",\"May\",\"May\",\"May\",\"May\",\"May\",\"May\",\"May\",\"May\",\"May\",\"May\",\"May\",\"May\"]]]}}},\"view\":{\"type\":\"object\",\"name\":\"CDSView\",\"id\":\"p2023\",\"attributes\":{\"filter\":{\"type\":\"object\",\"name\":\"AllIndices\",\"id\":\"p2024\"}}},\"glyph\":{\"type\":\"object\",\"name\":\"Line\",\"id\":\"p2019\",\"attributes\":{\"tags\":[\"apply_ranges\"],\"x\":{\"type\":\"field\",\"field\":\"hour\"},\"y\":{\"type\":\"field\",\"field\":\"value\"},\"line_color\":\"#8b8b8b\",\"line_width\":2}},\"selection_glyph\":{\"type\":\"object\",\"name\":\"Line\",\"id\":\"p2026\",\"attributes\":{\"tags\":[\"apply_ranges\"],\"x\":{\"type\":\"field\",\"field\":\"hour\"},\"y\":{\"type\":\"field\",\"field\":\"value\"},\"line_color\":\"#8b8b8b\",\"line_width\":2}},\"nonselection_glyph\":{\"type\":\"object\",\"name\":\"Line\",\"id\":\"p2020\",\"attributes\":{\"tags\":[\"apply_ranges\"],\"x\":{\"type\":\"field\",\"field\":\"hour\"},\"y\":{\"type\":\"field\",\"field\":\"value\"},\"line_color\":\"#8b8b8b\",\"line_alpha\":0.1,\"line_width\":2}},\"muted_glyph\":{\"type\":\"object\",\"name\":\"Line\",\"id\":\"p2021\",\"attributes\":{\"tags\":[\"apply_ranges\"],\"x\":{\"type\":\"field\",\"field\":\"hour\"},\"y\":{\"type\":\"field\",\"field\":\"value\"},\"line_color\":\"#8b8b8b\",\"line_alpha\":0.2,\"line_width\":2}}}},{\"type\":\"object\",\"name\":\"GlyphRenderer\",\"id\":\"p2036\",\"attributes\":{\"name\":\"June\",\"data_source\":{\"type\":\"object\",\"name\":\"ColumnDataSource\",\"id\":\"p2027\",\"attributes\":{\"selected\":{\"type\":\"object\",\"name\":\"Selection\",\"id\":\"p2028\",\"attributes\":{\"indices\":[],\"line_indices\":[]}},\"selection_policy\":{\"type\":\"object\",\"name\":\"UnionRenderers\",\"id\":\"p2029\"},\"data\":{\"type\":\"map\",\"entries\":[[\"hour\",{\"type\":\"ndarray\",\"array\":{\"type\":\"bytes\",\"data\":\"AAECAwQFBgcICQoLDA0ODxAREhMUFRYX\"},\"shape\":[24],\"dtype\":\"int8\",\"order\":\"little\"}],[\"value\",{\"type\":\"ndarray\",\"array\":{\"type\":\"bytes\",\"data\":\"PwrXo3BdLEA1MzMzM9MrQPooXI/C1SpAHOi0gU4bKUDxiyW/WPItQBdLfrHkVzFAVFVVVVU1M0CPwvUoXK81QGDJL5b8sjdAMjMzMzOzOUDrtIFOG/g5QJyZmZmZKTpAxvUoXI9iOkCE61G4HtU5QAQ6baDTJjlAoXA9CtfjOEAfhetRuK43QGLJL5b8UjZAD65H4XrkNEANdNpAp40zQJ420GkDPTJAjCW/WPL7MEClcD0K1zMwQLsehetR2C5A\"},\"shape\":[24],\"dtype\":\"float64\",\"order\":\"little\"}],[\"Variable\",[\"June\",\"June\",\"June\",\"June\",\"June\",\"June\",\"June\",\"June\",\"June\",\"June\",\"June\",\"June\",\"June\",\"June\",\"June\",\"June\",\"June\",\"June\",\"June\",\"June\",\"June\",\"June\",\"June\",\"June\"]]]}}},\"view\":{\"type\":\"object\",\"name\":\"CDSView\",\"id\":\"p2037\",\"attributes\":{\"filter\":{\"type\":\"object\",\"name\":\"AllIndices\",\"id\":\"p2038\"}}},\"glyph\":{\"type\":\"object\",\"name\":\"Line\",\"id\":\"p2033\",\"attributes\":{\"tags\":[\"apply_ranges\"],\"x\":{\"type\":\"field\",\"field\":\"hour\"},\"y\":{\"type\":\"field\",\"field\":\"value\"},\"line_color\":\"#17becf\",\"line_width\":2}},\"selection_glyph\":{\"type\":\"object\",\"name\":\"Line\",\"id\":\"p2040\",\"attributes\":{\"tags\":[\"apply_ranges\"],\"x\":{\"type\":\"field\",\"field\":\"hour\"},\"y\":{\"type\":\"field\",\"field\":\"value\"},\"line_color\":\"#17becf\",\"line_width\":2}},\"nonselection_glyph\":{\"type\":\"object\",\"name\":\"Line\",\"id\":\"p2034\",\"attributes\":{\"tags\":[\"apply_ranges\"],\"x\":{\"type\":\"field\",\"field\":\"hour\"},\"y\":{\"type\":\"field\",\"field\":\"value\"},\"line_color\":\"#17becf\",\"line_alpha\":0.1,\"line_width\":2}},\"muted_glyph\":{\"type\":\"object\",\"name\":\"Line\",\"id\":\"p2035\",\"attributes\":{\"tags\":[\"apply_ranges\"],\"x\":{\"type\":\"field\",\"field\":\"hour\"},\"y\":{\"type\":\"field\",\"field\":\"value\"},\"line_color\":\"#17becf\",\"line_alpha\":0.2,\"line_width\":2}}}},{\"type\":\"object\",\"name\":\"GlyphRenderer\",\"id\":\"p2050\",\"attributes\":{\"name\":\"July\",\"data_source\":{\"type\":\"object\",\"name\":\"ColumnDataSource\",\"id\":\"p2041\",\"attributes\":{\"selected\":{\"type\":\"object\",\"name\":\"Selection\",\"id\":\"p2042\",\"attributes\":{\"indices\":[],\"line_indices\":[]}},\"selection_policy\":{\"type\":\"object\",\"name\":\"UnionRenderers\",\"id\":\"p2043\"},\"data\":{\"type\":\"map\",\"entries\":[[\"hour\",{\"type\":\"ndarray\",\"array\":{\"type\":\"bytes\",\"data\":\"AAECAwQFBgcICQoLDA0ODxAREhMUFRYX\"},\"shape\":[24],\"dtype\":\"int8\",\"order\":\"little\"}],[\"value\",{\"type\":\"ndarray\",\"array\":{\"type\":\"bytes\",\"data\":\"vorEq0gcMkCVv2T5S3YxQGT5S5a/5DBAkHgViVdRMEB9gqMnOLoyQA5CCCGEMDVAMQ1o04BWN0BLcPQER+85QBb2cWEfNzxAYa211lrLPUC9isSrSHw+QCXxKhKvIj9A5QmOnuBoP0BsGtCmAS0/QNYTHD3BkT5Anic4eoLjPUCK6naobkc8QFEkXkXitTpA6pxzzjlnOUAl8SoSr8I3QB6q26G6XTZAt0N1O1T3NEACbRrQpgE0QInEq0i8CjNA\"},\"shape\":[24],\"dtype\":\"float64\",\"order\":\"little\"}],[\"Variable\",[\"July\",\"July\",\"July\",\"July\",\"July\",\"July\",\"July\",\"July\",\"July\",\"July\",\"July\",\"July\",\"July\",\"July\",\"July\",\"July\",\"July\",\"July\",\"July\",\"July\",\"July\",\"July\",\"July\",\"July\"]]]}}},\"view\":{\"type\":\"object\",\"name\":\"CDSView\",\"id\":\"p2051\",\"attributes\":{\"filter\":{\"type\":\"object\",\"name\":\"AllIndices\",\"id\":\"p2052\"}}},\"glyph\":{\"type\":\"object\",\"name\":\"Line\",\"id\":\"p2047\",\"attributes\":{\"tags\":[\"apply_ranges\"],\"x\":{\"type\":\"field\",\"field\":\"hour\"},\"y\":{\"type\":\"field\",\"field\":\"value\"},\"line_color\":\"#9467bd\",\"line_width\":2}},\"selection_glyph\":{\"type\":\"object\",\"name\":\"Line\",\"id\":\"p2054\",\"attributes\":{\"tags\":[\"apply_ranges\"],\"x\":{\"type\":\"field\",\"field\":\"hour\"},\"y\":{\"type\":\"field\",\"field\":\"value\"},\"line_color\":\"#9467bd\",\"line_width\":2}},\"nonselection_glyph\":{\"type\":\"object\",\"name\":\"Line\",\"id\":\"p2048\",\"attributes\":{\"tags\":[\"apply_ranges\"],\"x\":{\"type\":\"field\",\"field\":\"hour\"},\"y\":{\"type\":\"field\",\"field\":\"value\"},\"line_color\":\"#9467bd\",\"line_alpha\":0.1,\"line_width\":2}},\"muted_glyph\":{\"type\":\"object\",\"name\":\"Line\",\"id\":\"p2049\",\"attributes\":{\"tags\":[\"apply_ranges\"],\"x\":{\"type\":\"field\",\"field\":\"hour\"},\"y\":{\"type\":\"field\",\"field\":\"value\"},\"line_color\":\"#9467bd\",\"line_alpha\":0.2,\"line_width\":2}}}},{\"type\":\"object\",\"name\":\"GlyphRenderer\",\"id\":\"p2064\",\"attributes\":{\"name\":\"August\",\"data_source\":{\"type\":\"object\",\"name\":\"ColumnDataSource\",\"id\":\"p2055\",\"attributes\":{\"selected\":{\"type\":\"object\",\"name\":\"Selection\",\"id\":\"p2056\",\"attributes\":{\"indices\":[],\"line_indices\":[]}},\"selection_policy\":{\"type\":\"object\",\"name\":\"UnionRenderers\",\"id\":\"p2057\"},\"data\":{\"type\":\"map\",\"entries\":[[\"hour\",{\"type\":\"ndarray\",\"array\":{\"type\":\"bytes\",\"data\":\"AAECAwQFBgcICQoLDA0ODxAREhMUFRYX\"},\"shape\":[24],\"dtype\":\"int8\",\"order\":\"little\"}],[\"value\",{\"type\":\"ndarray\",\"array\":{\"type\":\"bytes\",\"data\":\"93FhHxfWMUBd2MeFfRwxQOUvWf6ShTBAc/QER08QMEBqQJsGtOkxQB+EEEIIwTNAPgghhBCiNUAkXkXiVSQ4QLKPC/u4sDpA2KG6Hao7PUBRA9o0oM09QGP5S5a/ZD5Anic4eoKjPkBmZmZmZiY+QDLGGGOMUT1AZNOANg1oPEBjHxf2ceE6QNMTHD3BUTlAoLodqtsBOECRC/u4sI82QPwly1+yXDVAwD4u7ONCNECbBrRpQFszQDrnnHPOeTJA\"},\"shape\":[24],\"dtype\":\"float64\",\"order\":\"little\"}],[\"Variable\",[\"August\",\"August\",\"August\",\"August\",\"August\",\"August\",\"August\",\"August\",\"August\",\"August\",\"August\",\"August\",\"August\",\"August\",\"August\",\"August\",\"August\",\"August\",\"August\",\"August\",\"August\",\"August\",\"August\",\"August\"]]]}}},\"view\":{\"type\":\"object\",\"name\":\"CDSView\",\"id\":\"p2065\",\"attributes\":{\"filter\":{\"type\":\"object\",\"name\":\"AllIndices\",\"id\":\"p2066\"}}},\"glyph\":{\"type\":\"object\",\"name\":\"Line\",\"id\":\"p2061\",\"attributes\":{\"tags\":[\"apply_ranges\"],\"x\":{\"type\":\"field\",\"field\":\"hour\"},\"y\":{\"type\":\"field\",\"field\":\"value\"},\"line_color\":\"#d62728\",\"line_width\":2}},\"selection_glyph\":{\"type\":\"object\",\"name\":\"Line\",\"id\":\"p2068\",\"attributes\":{\"tags\":[\"apply_ranges\"],\"x\":{\"type\":\"field\",\"field\":\"hour\"},\"y\":{\"type\":\"field\",\"field\":\"value\"},\"line_color\":\"#d62728\",\"line_width\":2}},\"nonselection_glyph\":{\"type\":\"object\",\"name\":\"Line\",\"id\":\"p2062\",\"attributes\":{\"tags\":[\"apply_ranges\"],\"x\":{\"type\":\"field\",\"field\":\"hour\"},\"y\":{\"type\":\"field\",\"field\":\"value\"},\"line_color\":\"#d62728\",\"line_alpha\":0.1,\"line_width\":2}},\"muted_glyph\":{\"type\":\"object\",\"name\":\"Line\",\"id\":\"p2063\",\"attributes\":{\"tags\":[\"apply_ranges\"],\"x\":{\"type\":\"field\",\"field\":\"hour\"},\"y\":{\"type\":\"field\",\"field\":\"value\"},\"line_color\":\"#d62728\",\"line_alpha\":0.2,\"line_width\":2}}}},{\"type\":\"object\",\"name\":\"GlyphRenderer\",\"id\":\"p2078\",\"attributes\":{\"name\":\"September\",\"data_source\":{\"type\":\"object\",\"name\":\"ColumnDataSource\",\"id\":\"p2069\",\"attributes\":{\"selected\":{\"type\":\"object\",\"name\":\"Selection\",\"id\":\"p2070\",\"attributes\":{\"indices\":[],\"line_indices\":[]}},\"selection_policy\":{\"type\":\"object\",\"name\":\"UnionRenderers\",\"id\":\"p2071\"},\"data\":{\"type\":\"map\",\"entries\":[[\"hour\",{\"type\":\"ndarray\",\"array\":{\"type\":\"bytes\",\"data\":\"AAECAwQFBgcICQoLDA0ODxAREhMUFRYX\"},\"shape\":[24],\"dtype\":\"int8\",\"order\":\"little\"}],[\"value\",{\"type\":\"ndarray\",\"array\":{\"type\":\"bytes\",\"data\":\"hetRuB4FLUDWo3A9ClcsQCEiIiIiYitAtYFOG+iUKkCQXyz5xfIsQIGx5BdLfi9AJCIiIiIyMUDC9Shcj4IzQMFY8osl/zVAu1jyiyVvOED8Yskvlgw5QHR3d3d3pzlA1UCnDXRaOkAc6LSBTqs5QCMiIiIiEjlAvvUoXI+yOEBLfrHkFws3QK/kF0t+cTVAyi+W/GLZM0CfNtBpA80yQCEiIiIiwjFAMjMzMzOTMEDptIFOG8gvQAOdNtBpYy5A\"},\"shape\":[24],\"dtype\":\"float64\",\"order\":\"little\"}],[\"Variable\",[\"September\",\"September\",\"September\",\"September\",\"September\",\"September\",\"September\",\"September\",\"September\",\"September\",\"September\",\"September\",\"September\",\"September\",\"September\",\"September\",\"September\",\"September\",\"September\",\"September\",\"September\",\"September\",\"September\",\"September\"]]]}}},\"view\":{\"type\":\"object\",\"name\":\"CDSView\",\"id\":\"p2079\",\"attributes\":{\"filter\":{\"type\":\"object\",\"name\":\"AllIndices\",\"id\":\"p2080\"}}},\"glyph\":{\"type\":\"object\",\"name\":\"Line\",\"id\":\"p2075\",\"attributes\":{\"tags\":[\"apply_ranges\"],\"x\":{\"type\":\"field\",\"field\":\"hour\"},\"y\":{\"type\":\"field\",\"field\":\"value\"},\"line_color\":\"#1f77b4\",\"line_width\":2}},\"selection_glyph\":{\"type\":\"object\",\"name\":\"Line\",\"id\":\"p2082\",\"attributes\":{\"tags\":[\"apply_ranges\"],\"x\":{\"type\":\"field\",\"field\":\"hour\"},\"y\":{\"type\":\"field\",\"field\":\"value\"},\"line_color\":\"#1f77b4\",\"line_width\":2}},\"nonselection_glyph\":{\"type\":\"object\",\"name\":\"Line\",\"id\":\"p2076\",\"attributes\":{\"tags\":[\"apply_ranges\"],\"x\":{\"type\":\"field\",\"field\":\"hour\"},\"y\":{\"type\":\"field\",\"field\":\"value\"},\"line_color\":\"#1f77b4\",\"line_alpha\":0.1,\"line_width\":2}},\"muted_glyph\":{\"type\":\"object\",\"name\":\"Line\",\"id\":\"p2077\",\"attributes\":{\"tags\":[\"apply_ranges\"],\"x\":{\"type\":\"field\",\"field\":\"hour\"},\"y\":{\"type\":\"field\",\"field\":\"value\"},\"line_color\":\"#1f77b4\",\"line_alpha\":0.2,\"line_width\":2}}}},{\"type\":\"object\",\"name\":\"GlyphRenderer\",\"id\":\"p2092\",\"attributes\":{\"name\":\"October\",\"data_source\":{\"type\":\"object\",\"name\":\"ColumnDataSource\",\"id\":\"p2083\",\"attributes\":{\"selected\":{\"type\":\"object\",\"name\":\"Selection\",\"id\":\"p2084\",\"attributes\":{\"indices\":[],\"line_indices\":[]}},\"selection_policy\":{\"type\":\"object\",\"name\":\"UnionRenderers\",\"id\":\"p2085\"},\"data\":{\"type\":\"map\",\"entries\":[[\"hour\",{\"type\":\"ndarray\",\"array\":{\"type\":\"bytes\",\"data\":\"AAECAwQFBgcICQoLDA0ODxAREhMUFRYX\"},\"shape\":[24],\"dtype\":\"int8\",\"order\":\"little\"}],[\"value\",{\"type\":\"ndarray\",\"array\":{\"type\":\"bytes\",\"data\":\"7OPCPi6sJEAjXkXiVeQjQJi/ZPlLFiNAto8L+7iwIkAfqtuhut0jQKMnOHqC4yRACyGEEEIIJkAJ+7iwj0srQJa/ZPlLVjBARryKxKvoMkDTExw9wbEzQEbiVSRehTRAryLxKhJPNUCLnuDoCa40QEm8isSrCDRAc2EfF/ZxM0BBmwa0aeAxQL0dqtuhWjBA9r333nuvLUDge++9994rQA5CCCGEECpAxWT5S5Y/KEDNzMzMzAwnQFxrrbXW2iVA\"},\"shape\":[24],\"dtype\":\"float64\",\"order\":\"little\"}],[\"Variable\",[\"October\",\"October\",\"October\",\"October\",\"October\",\"October\",\"October\",\"October\",\"October\",\"October\",\"October\",\"October\",\"October\",\"October\",\"October\",\"October\",\"October\",\"October\",\"October\",\"October\",\"October\",\"October\",\"October\",\"October\"]]]}}},\"view\":{\"type\":\"object\",\"name\":\"CDSView\",\"id\":\"p2093\",\"attributes\":{\"filter\":{\"type\":\"object\",\"name\":\"AllIndices\",\"id\":\"p2094\"}}},\"glyph\":{\"type\":\"object\",\"name\":\"Line\",\"id\":\"p2089\",\"attributes\":{\"tags\":[\"apply_ranges\"],\"x\":{\"type\":\"field\",\"field\":\"hour\"},\"y\":{\"type\":\"field\",\"field\":\"value\"},\"line_color\":\"#e377c2\",\"line_width\":2}},\"selection_glyph\":{\"type\":\"object\",\"name\":\"Line\",\"id\":\"p2096\",\"attributes\":{\"tags\":[\"apply_ranges\"],\"x\":{\"type\":\"field\",\"field\":\"hour\"},\"y\":{\"type\":\"field\",\"field\":\"value\"},\"line_color\":\"#e377c2\",\"line_width\":2}},\"nonselection_glyph\":{\"type\":\"object\",\"name\":\"Line\",\"id\":\"p2090\",\"attributes\":{\"tags\":[\"apply_ranges\"],\"x\":{\"type\":\"field\",\"field\":\"hour\"},\"y\":{\"type\":\"field\",\"field\":\"value\"},\"line_color\":\"#e377c2\",\"line_alpha\":0.1,\"line_width\":2}},\"muted_glyph\":{\"type\":\"object\",\"name\":\"Line\",\"id\":\"p2091\",\"attributes\":{\"tags\":[\"apply_ranges\"],\"x\":{\"type\":\"field\",\"field\":\"hour\"},\"y\":{\"type\":\"field\",\"field\":\"value\"},\"line_color\":\"#e377c2\",\"line_alpha\":0.2,\"line_width\":2}}}},{\"type\":\"object\",\"name\":\"GlyphRenderer\",\"id\":\"p2106\",\"attributes\":{\"name\":\"November\",\"data_source\":{\"type\":\"object\",\"name\":\"ColumnDataSource\",\"id\":\"p2097\",\"attributes\":{\"selected\":{\"type\":\"object\",\"name\":\"Selection\",\"id\":\"p2098\",\"attributes\":{\"indices\":[],\"line_indices\":[]}},\"selection_policy\":{\"type\":\"object\",\"name\":\"UnionRenderers\",\"id\":\"p2099\"},\"data\":{\"type\":\"map\",\"entries\":[[\"hour\",{\"type\":\"ndarray\",\"array\":{\"type\":\"bytes\",\"data\":\"AAECAwQFBgcICQoLDA0ODxAREhMUFRYX\"},\"shape\":[24],\"dtype\":\"int8\",\"order\":\"little\"}],[\"value\",{\"type\":\"ndarray\",\"array\":{\"type\":\"bytes\",\"data\":\"NNBpA50WIEA6baDTBnofQPcoXI/CNR5AMZb8YsmvHED8YskvlvwcQK/kF0t+MR1AjIiIiIgIHUCQwvUoXM8iQNBpA5028CZA4UCnDXQaKkCf0wY6bSAsQMeSXyz5BS5AFq5H4Xr0L0AghetRuJ4uQFZVVVVVVS1Aqg102kAnLEDTBjptoPMpQDnQaQOdtidAhutRuB7FJUAs+cWSX0wkQCAiIiIiIiNAv1jyiyVfIkCbNtBpA50hQFnyiyW/2CBA\"},\"shape\":[24],\"dtype\":\"float64\",\"order\":\"little\"}],[\"Variable\",[\"November\",\"November\",\"November\",\"November\",\"November\",\"November\",\"November\",\"November\",\"November\",\"November\",\"November\",\"November\",\"November\",\"November\",\"November\",\"November\",\"November\",\"November\",\"November\",\"November\",\"November\",\"November\",\"November\",\"November\"]]]}}},\"view\":{\"type\":\"object\",\"name\":\"CDSView\",\"id\":\"p2107\",\"attributes\":{\"filter\":{\"type\":\"object\",\"name\":\"AllIndices\",\"id\":\"p2108\"}}},\"glyph\":{\"type\":\"object\",\"name\":\"Line\",\"id\":\"p2103\",\"attributes\":{\"tags\":[\"apply_ranges\"],\"x\":{\"type\":\"field\",\"field\":\"hour\"},\"y\":{\"type\":\"field\",\"field\":\"value\"},\"line_color\":\"#8c564b\",\"line_width\":2}},\"selection_glyph\":{\"type\":\"object\",\"name\":\"Line\",\"id\":\"p2110\",\"attributes\":{\"tags\":[\"apply_ranges\"],\"x\":{\"type\":\"field\",\"field\":\"hour\"},\"y\":{\"type\":\"field\",\"field\":\"value\"},\"line_color\":\"#8c564b\",\"line_width\":2}},\"nonselection_glyph\":{\"type\":\"object\",\"name\":\"Line\",\"id\":\"p2104\",\"attributes\":{\"tags\":[\"apply_ranges\"],\"x\":{\"type\":\"field\",\"field\":\"hour\"},\"y\":{\"type\":\"field\",\"field\":\"value\"},\"line_color\":\"#8c564b\",\"line_alpha\":0.1,\"line_width\":2}},\"muted_glyph\":{\"type\":\"object\",\"name\":\"Line\",\"id\":\"p2105\",\"attributes\":{\"tags\":[\"apply_ranges\"],\"x\":{\"type\":\"field\",\"field\":\"hour\"},\"y\":{\"type\":\"field\",\"field\":\"value\"},\"line_color\":\"#8c564b\",\"line_alpha\":0.2,\"line_width\":2}}}},{\"type\":\"object\",\"name\":\"GlyphRenderer\",\"id\":\"p2120\",\"attributes\":{\"name\":\"December\",\"data_source\":{\"type\":\"object\",\"name\":\"ColumnDataSource\",\"id\":\"p2111\",\"attributes\":{\"selected\":{\"type\":\"object\",\"name\":\"Selection\",\"id\":\"p2112\",\"attributes\":{\"indices\":[],\"line_indices\":[]}},\"selection_policy\":{\"type\":\"object\",\"name\":\"UnionRenderers\",\"id\":\"p2113\"},\"data\":{\"type\":\"map\",\"entries\":[[\"hour\",{\"type\":\"ndarray\",\"array\":{\"type\":\"bytes\",\"data\":\"AAECAwQFBgcICQoLDA0ODxAREhMUFRYX\"},\"shape\":[24],\"dtype\":\"int8\",\"order\":\"little\"}],[\"value\",{\"type\":\"ndarray\",\"array\":{\"type\":\"bytes\",\"data\":\"zfKXLH9JFUDGGGOMMUYVQFIkXkXiVRRAmCx/yfKXEkAOaNOANo0SQOd2qG6HahJA/CXLX7J8EUCobofqdqgYQDxUt0N1Ox9AsiLxKhLvIUCstdZaay0kQEuWv2T5SyZAdjtUt0N1KEAV9nFhH1cnQAVtGtCmQSZAFEIIIYQQJUB+Ng1o00AjQKnbobodaiFA/pLlL1n+HkBUt0N1O1QdQHkViVeReBtA3aG6HarbGECDNg1o0wAYQHIa0KYB7RZA\"},\"shape\":[24],\"dtype\":\"float64\",\"order\":\"little\"}],[\"Variable\",[\"December\",\"December\",\"December\",\"December\",\"December\",\"December\",\"December\",\"December\",\"December\",\"December\",\"December\",\"December\",\"December\",\"December\",\"December\",\"December\",\"December\",\"December\",\"December\",\"December\",\"December\",\"December\",\"December\",\"December\"]]]}}},\"view\":{\"type\":\"object\",\"name\":\"CDSView\",\"id\":\"p2121\",\"attributes\":{\"filter\":{\"type\":\"object\",\"name\":\"AllIndices\",\"id\":\"p2122\"}}},\"glyph\":{\"type\":\"object\",\"name\":\"Line\",\"id\":\"p2117\",\"attributes\":{\"tags\":[\"apply_ranges\"],\"x\":{\"type\":\"field\",\"field\":\"hour\"},\"y\":{\"type\":\"field\",\"field\":\"value\"},\"line_color\":\"#bcbd22\",\"line_width\":2}},\"selection_glyph\":{\"type\":\"object\",\"name\":\"Line\",\"id\":\"p2124\",\"attributes\":{\"tags\":[\"apply_ranges\"],\"x\":{\"type\":\"field\",\"field\":\"hour\"},\"y\":{\"type\":\"field\",\"field\":\"value\"},\"line_color\":\"#bcbd22\",\"line_width\":2}},\"nonselection_glyph\":{\"type\":\"object\",\"name\":\"Line\",\"id\":\"p2118\",\"attributes\":{\"tags\":[\"apply_ranges\"],\"x\":{\"type\":\"field\",\"field\":\"hour\"},\"y\":{\"type\":\"field\",\"field\":\"value\"},\"line_color\":\"#bcbd22\",\"line_alpha\":0.1,\"line_width\":2}},\"muted_glyph\":{\"type\":\"object\",\"name\":\"Line\",\"id\":\"p2119\",\"attributes\":{\"tags\":[\"apply_ranges\"],\"x\":{\"type\":\"field\",\"field\":\"hour\"},\"y\":{\"type\":\"field\",\"field\":\"value\"},\"line_color\":\"#bcbd22\",\"line_alpha\":0.2,\"line_width\":2}}}}],\"toolbar\":{\"type\":\"object\",\"name\":\"Toolbar\",\"id\":\"p1934\",\"attributes\":{\"tools\":[{\"type\":\"object\",\"name\":\"WheelZoomTool\",\"id\":\"p1890\",\"attributes\":{\"tags\":[\"hv_created\"],\"renderers\":\"auto\",\"zoom_together\":\"none\"}},{\"type\":\"object\",\"name\":\"HoverTool\",\"id\":\"p1891\",\"attributes\":{\"tags\":[\"hv_created\"],\"renderers\":[{\"id\":\"p1965\"},{\"id\":\"p1980\"},{\"id\":\"p1994\"},{\"id\":\"p2008\"},{\"id\":\"p2022\"},{\"id\":\"p2036\"},{\"id\":\"p2050\"},{\"id\":\"p2064\"},{\"id\":\"p2078\"},{\"id\":\"p2092\"},{\"id\":\"p2106\"},{\"id\":\"p2120\"}],\"tooltips\":[[\"Variable\",\"@{Variable}\"],[\"hour\",\"@{hour}\"],[\"value\",\"@{value}\"]]}},{\"type\":\"object\",\"name\":\"SaveTool\",\"id\":\"p1947\"},{\"type\":\"object\",\"name\":\"PanTool\",\"id\":\"p1948\"},{\"type\":\"object\",\"name\":\"BoxZoomTool\",\"id\":\"p1949\",\"attributes\":{\"overlay\":{\"type\":\"object\",\"name\":\"BoxAnnotation\",\"id\":\"p1950\",\"attributes\":{\"syncable\":false,\"level\":\"overlay\",\"visible\":false,\"left\":{\"type\":\"number\",\"value\":\"nan\"},\"right\":{\"type\":\"number\",\"value\":\"nan\"},\"top\":{\"type\":\"number\",\"value\":\"nan\"},\"bottom\":{\"type\":\"number\",\"value\":\"nan\"},\"left_units\":\"canvas\",\"right_units\":\"canvas\",\"top_units\":\"canvas\",\"bottom_units\":\"canvas\",\"line_color\":\"black\",\"line_alpha\":1.0,\"line_width\":2,\"line_dash\":[4,4],\"fill_color\":\"lightgrey\",\"fill_alpha\":0.5}}}},{\"type\":\"object\",\"name\":\"ResetTool\",\"id\":\"p1955\"}],\"active_drag\":{\"id\":\"p1948\"},\"active_scroll\":{\"id\":\"p1890\"}}},\"left\":[{\"type\":\"object\",\"name\":\"LinearAxis\",\"id\":\"p1942\",\"attributes\":{\"ticker\":{\"type\":\"object\",\"name\":\"BasicTicker\",\"id\":\"p1943\",\"attributes\":{\"mantissas\":[1,2,5]}},\"formatter\":{\"type\":\"object\",\"name\":\"BasicTickFormatter\",\"id\":\"p1944\"},\"axis_label\":\"\",\"major_label_policy\":{\"type\":\"object\",\"name\":\"AllLabels\",\"id\":\"p1945\"}}}],\"right\":[{\"type\":\"object\",\"name\":\"Legend\",\"id\":\"p1968\",\"attributes\":{\"location\":[0,0],\"title\":\"Variable\",\"click_policy\":\"mute\",\"items\":[{\"type\":\"object\",\"name\":\"LegendItem\",\"id\":\"p1969\",\"attributes\":{\"label\":{\"type\":\"value\",\"value\":\"January\"},\"renderers\":[{\"id\":\"p1965\"}]}},{\"type\":\"object\",\"name\":\"LegendItem\",\"id\":\"p1983\",\"attributes\":{\"label\":{\"type\":\"value\",\"value\":\"February\"},\"renderers\":[{\"id\":\"p1980\"}]}},{\"type\":\"object\",\"name\":\"LegendItem\",\"id\":\"p1997\",\"attributes\":{\"label\":{\"type\":\"value\",\"value\":\"March\"},\"renderers\":[{\"id\":\"p1994\"}]}},{\"type\":\"object\",\"name\":\"LegendItem\",\"id\":\"p2011\",\"attributes\":{\"label\":{\"type\":\"value\",\"value\":\"April\"},\"renderers\":[{\"id\":\"p2008\"}]}},{\"type\":\"object\",\"name\":\"LegendItem\",\"id\":\"p2025\",\"attributes\":{\"label\":{\"type\":\"value\",\"value\":\"May\"},\"renderers\":[{\"id\":\"p2022\"}]}},{\"type\":\"object\",\"name\":\"LegendItem\",\"id\":\"p2039\",\"attributes\":{\"label\":{\"type\":\"value\",\"value\":\"June\"},\"renderers\":[{\"id\":\"p2036\"}]}},{\"type\":\"object\",\"name\":\"LegendItem\",\"id\":\"p2053\",\"attributes\":{\"label\":{\"type\":\"value\",\"value\":\"July\"},\"renderers\":[{\"id\":\"p2050\"}]}},{\"type\":\"object\",\"name\":\"LegendItem\",\"id\":\"p2067\",\"attributes\":{\"label\":{\"type\":\"value\",\"value\":\"August\"},\"renderers\":[{\"id\":\"p2064\"}]}},{\"type\":\"object\",\"name\":\"LegendItem\",\"id\":\"p2081\",\"attributes\":{\"label\":{\"type\":\"value\",\"value\":\"September\"},\"renderers\":[{\"id\":\"p2078\"}]}},{\"type\":\"object\",\"name\":\"LegendItem\",\"id\":\"p2095\",\"attributes\":{\"label\":{\"type\":\"value\",\"value\":\"October\"},\"renderers\":[{\"id\":\"p2092\"}]}},{\"type\":\"object\",\"name\":\"LegendItem\",\"id\":\"p2109\",\"attributes\":{\"label\":{\"type\":\"value\",\"value\":\"November\"},\"renderers\":[{\"id\":\"p2106\"}]}},{\"type\":\"object\",\"name\":\"LegendItem\",\"id\":\"p2123\",\"attributes\":{\"label\":{\"type\":\"value\",\"value\":\"December\"},\"renderers\":[{\"id\":\"p2120\"}]}}]}}],\"below\":[{\"type\":\"object\",\"name\":\"LinearAxis\",\"id\":\"p1937\",\"attributes\":{\"ticker\":{\"type\":\"object\",\"name\":\"BasicTicker\",\"id\":\"p1938\",\"attributes\":{\"mantissas\":[1,2,5]}},\"formatter\":{\"type\":\"object\",\"name\":\"BasicTickFormatter\",\"id\":\"p1939\"},\"axis_label\":\"hour\",\"major_label_policy\":{\"type\":\"object\",\"name\":\"AllLabels\",\"id\":\"p1940\"}}}],\"center\":[{\"type\":\"object\",\"name\":\"Grid\",\"id\":\"p1941\",\"attributes\":{\"axis\":{\"id\":\"p1937\"},\"grid_line_color\":null}},{\"type\":\"object\",\"name\":\"Grid\",\"id\":\"p1946\",\"attributes\":{\"dimension\":1,\"axis\":{\"id\":\"p1942\"},\"grid_line_color\":null}}],\"min_border_top\":10,\"min_border_bottom\":10,\"min_border_left\":10,\"min_border_right\":10,\"output_backend\":\"webgl\"}},{\"type\":\"object\",\"name\":\"Spacer\",\"id\":\"p2126\",\"attributes\":{\"name\":\"HSpacer02598\",\"stylesheets\":[\"\\n:host(.pn-loading):before, .pn-loading:before {\\n  background-color: #c3c3c3;\\n  mask-size: auto calc(min(50%, 400px));\\n  -webkit-mask-size: auto calc(min(50%, 400px));\\n}\",{\"id\":\"p1883\"},{\"id\":\"p1881\"},{\"id\":\"p1882\"}],\"margin\":0,\"sizing_mode\":\"stretch_width\",\"align\":\"start\"}}]}}],\"defs\":[{\"type\":\"model\",\"name\":\"ReactiveHTML1\"},{\"type\":\"model\",\"name\":\"FlexBox1\",\"properties\":[{\"name\":\"align_content\",\"kind\":\"Any\",\"default\":\"flex-start\"},{\"name\":\"align_items\",\"kind\":\"Any\",\"default\":\"flex-start\"},{\"name\":\"flex_direction\",\"kind\":\"Any\",\"default\":\"row\"},{\"name\":\"flex_wrap\",\"kind\":\"Any\",\"default\":\"wrap\"},{\"name\":\"gap\",\"kind\":\"Any\",\"default\":\"\"},{\"name\":\"justify_content\",\"kind\":\"Any\",\"default\":\"flex-start\"}]},{\"type\":\"model\",\"name\":\"FloatPanel1\",\"properties\":[{\"name\":\"config\",\"kind\":\"Any\",\"default\":{\"type\":\"map\"}},{\"name\":\"contained\",\"kind\":\"Any\",\"default\":true},{\"name\":\"position\",\"kind\":\"Any\",\"default\":\"right-top\"},{\"name\":\"offsetx\",\"kind\":\"Any\",\"default\":null},{\"name\":\"offsety\",\"kind\":\"Any\",\"default\":null},{\"name\":\"theme\",\"kind\":\"Any\",\"default\":\"primary\"},{\"name\":\"status\",\"kind\":\"Any\",\"default\":\"normalized\"}]},{\"type\":\"model\",\"name\":\"GridStack1\",\"properties\":[{\"name\":\"mode\",\"kind\":\"Any\",\"default\":\"warn\"},{\"name\":\"ncols\",\"kind\":\"Any\",\"default\":null},{\"name\":\"nrows\",\"kind\":\"Any\",\"default\":null},{\"name\":\"allow_resize\",\"kind\":\"Any\",\"default\":true},{\"name\":\"allow_drag\",\"kind\":\"Any\",\"default\":true},{\"name\":\"state\",\"kind\":\"Any\",\"default\":[]}]},{\"type\":\"model\",\"name\":\"drag1\",\"properties\":[{\"name\":\"slider_width\",\"kind\":\"Any\",\"default\":5},{\"name\":\"slider_color\",\"kind\":\"Any\",\"default\":\"black\"},{\"name\":\"value\",\"kind\":\"Any\",\"default\":50}]},{\"type\":\"model\",\"name\":\"click1\",\"properties\":[{\"name\":\"terminal_output\",\"kind\":\"Any\",\"default\":\"\"},{\"name\":\"debug_name\",\"kind\":\"Any\",\"default\":\"\"},{\"name\":\"clears\",\"kind\":\"Any\",\"default\":0}]},{\"type\":\"model\",\"name\":\"FastWrapper1\",\"properties\":[{\"name\":\"object\",\"kind\":\"Any\",\"default\":null},{\"name\":\"style\",\"kind\":\"Any\",\"default\":null}]},{\"type\":\"model\",\"name\":\"NotificationAreaBase1\",\"properties\":[{\"name\":\"js_events\",\"kind\":\"Any\",\"default\":{\"type\":\"map\"}},{\"name\":\"position\",\"kind\":\"Any\",\"default\":\"bottom-right\"},{\"name\":\"_clear\",\"kind\":\"Any\",\"default\":0}]},{\"type\":\"model\",\"name\":\"NotificationArea1\",\"properties\":[{\"name\":\"js_events\",\"kind\":\"Any\",\"default\":{\"type\":\"map\"}},{\"name\":\"notifications\",\"kind\":\"Any\",\"default\":[]},{\"name\":\"position\",\"kind\":\"Any\",\"default\":\"bottom-right\"},{\"name\":\"_clear\",\"kind\":\"Any\",\"default\":0},{\"name\":\"types\",\"kind\":\"Any\",\"default\":[{\"type\":\"map\",\"entries\":[[\"type\",\"warning\"],[\"background\",\"#ffc107\"],[\"icon\",{\"type\":\"map\",\"entries\":[[\"className\",\"fas fa-exclamation-triangle\"],[\"tagName\",\"i\"],[\"color\",\"white\"]]}]]},{\"type\":\"map\",\"entries\":[[\"type\",\"info\"],[\"background\",\"#007bff\"],[\"icon\",{\"type\":\"map\",\"entries\":[[\"className\",\"fas fa-info-circle\"],[\"tagName\",\"i\"],[\"color\",\"white\"]]}]]}]}]},{\"type\":\"model\",\"name\":\"Notification\",\"properties\":[{\"name\":\"background\",\"kind\":\"Any\",\"default\":null},{\"name\":\"duration\",\"kind\":\"Any\",\"default\":3000},{\"name\":\"icon\",\"kind\":\"Any\",\"default\":null},{\"name\":\"message\",\"kind\":\"Any\",\"default\":\"\"},{\"name\":\"notification_type\",\"kind\":\"Any\",\"default\":null},{\"name\":\"_destroyed\",\"kind\":\"Any\",\"default\":false}]},{\"type\":\"model\",\"name\":\"TemplateActions1\",\"properties\":[{\"name\":\"open_modal\",\"kind\":\"Any\",\"default\":0},{\"name\":\"close_modal\",\"kind\":\"Any\",\"default\":0}]},{\"type\":\"model\",\"name\":\"BootstrapTemplateActions1\",\"properties\":[{\"name\":\"open_modal\",\"kind\":\"Any\",\"default\":0},{\"name\":\"close_modal\",\"kind\":\"Any\",\"default\":0}]},{\"type\":\"model\",\"name\":\"TemplateEditor1\",\"properties\":[{\"name\":\"layout\",\"kind\":\"Any\",\"default\":[]}]},{\"type\":\"model\",\"name\":\"MaterialTemplateActions1\",\"properties\":[{\"name\":\"open_modal\",\"kind\":\"Any\",\"default\":0},{\"name\":\"close_modal\",\"kind\":\"Any\",\"default\":0}]},{\"type\":\"model\",\"name\":\"copy_to_clipboard1\",\"properties\":[{\"name\":\"fill\",\"kind\":\"Any\",\"default\":\"none\"},{\"name\":\"value\",\"kind\":\"Any\",\"default\":null}]}]}};\n",
       "  var render_items = [{\"docid\":\"e9294968-8770-40c4-b8c1-dcefaec3b340\",\"roots\":{\"p1880\":\"c919b120-ed23-4190-92d7-d2b4db2a8d46\"},\"root_ids\":[\"p1880\"]}];\n",
       "  var docs = Object.values(docs_json)\n",
       "  if (!docs) {\n",
       "    return\n",
       "  }\n",
       "  const py_version = docs[0].version.replace('rc', '-rc.').replace('.dev', '-dev.')\n",
       "  function embed_document(root) {\n",
       "    var Bokeh = get_bokeh(root)\n",
       "    Bokeh.embed.embed_items_notebook(docs_json, render_items);\n",
       "    for (const render_item of render_items) {\n",
       "      for (const root_id of render_item.root_ids) {\n",
       "\tconst id_el = document.getElementById(root_id)\n",
       "\tif (id_el.children.length && (id_el.children[0].className === 'bk-root')) {\n",
       "\t  const root_el = id_el.children[0]\n",
       "\t  root_el.id = root_el.id + '-rendered'\n",
       "\t}\n",
       "      }\n",
       "    }\n",
       "  }\n",
       "  function get_bokeh(root) {\n",
       "    if (root.Bokeh === undefined) {\n",
       "      return null\n",
       "    } else if (root.Bokeh.version !== py_version) {\n",
       "      if (root.Bokeh.versions === undefined || !root.Bokeh.versions.has(py_version)) {\n",
       "\treturn null\n",
       "      }\n",
       "      return root.Bokeh.versions.get(py_version);\n",
       "    } else if (root.Bokeh.version === py_version) {\n",
       "      return root.Bokeh\n",
       "    }\n",
       "    return null\n",
       "  }\n",
       "  function is_loaded(root) {\n",
       "    var Bokeh = get_bokeh(root)\n",
       "    return (Bokeh != null && Bokeh.Panel !== undefined)\n",
       "  }\n",
       "  if (is_loaded(root)) {\n",
       "    embed_document(root);\n",
       "  } else {\n",
       "    var attempts = 0;\n",
       "    var timer = setInterval(function(root) {\n",
       "      if (is_loaded(root)) {\n",
       "        clearInterval(timer);\n",
       "        embed_document(root);\n",
       "      } else if (document.readyState == \"complete\") {\n",
       "        attempts++;\n",
       "        if (attempts > 200) {\n",
       "          clearInterval(timer);\n",
       "\t  var Bokeh = get_bokeh(root)\n",
       "\t  if (Bokeh == null || Bokeh.Panel == null) {\n",
       "            console.warn(\"Panel: ERROR: Unable to run Panel code because Bokeh or Panel library is missing\");\n",
       "\t  } else {\n",
       "\t    console.warn(\"Panel: WARNING: Attempting to render but not all required libraries could be resolved.\")\n",
       "\t    embed_document(root)\n",
       "\t  }\n",
       "        }\n",
       "      }\n",
       "    }, 25, root)\n",
       "  }\n",
       "})(window);</script>"
      ],
      "text/plain": [
       ":NdOverlay   [Variable]\n",
       "   :Curve   [hour]   (value)"
      ]
     },
     "execution_count": 58,
     "metadata": {
      "application/vnd.holoviews_exec.v0+json": {
       "id": "p1880"
      }
     },
     "output_type": "execute_result"
    }
   ],
   "source": [
    "month_day_table.plot(x=\"hour\")"
   ]
  },
  {
   "cell_type": "markdown",
   "metadata": {},
   "source": [
    "## Lazy operations"
   ]
  },
  {
   "cell_type": "code",
   "execution_count": null,
   "metadata": {},
   "outputs": [],
   "source": [
    "cities.lazy()"
   ]
  },
  {
   "cell_type": "code",
   "execution_count": null,
   "metadata": {},
   "outputs": [],
   "source": [
    "print(\n",
    "    cities.lazy()\n",
    "    .filter(pl.col(\"population\") > 1e6)\n",
    "    .group_by(\"country\")\n",
    "    .agg(pl.col(\"population\").mean().alias(\"mean_population\"))\n",
    "    .sort(\"mean_population\", descending=True)\n",
    "    .explain(optimized=True)\n",
    ")"
   ]
  },
  {
   "cell_type": "code",
   "execution_count": null,
   "metadata": {},
   "outputs": [],
   "source": [
    "pl.scan_csv(\n",
    "    \"data/simple_maps/worldcities.csv\", infer_schema_length=100000, null_values=\"\"\n",
    ").cast({\"population\": pl.Int64}).collect()"
   ]
  }
 ],
 "metadata": {
  "kernelspec": {
   "display_name": "Python 3 (ipykernel)",
   "language": "python",
   "name": "python3"
  },
  "language_info": {
   "codemirror_mode": {
    "name": "ipython",
    "version": 3
   },
   "file_extension": ".py",
   "mimetype": "text/x-python",
   "name": "python",
   "nbconvert_exporter": "python",
   "pygments_lexer": "ipython3",
   "version": "3.11.5"
  }
 },
 "nbformat": 4,
 "nbformat_minor": 4
}
