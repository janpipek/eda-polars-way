{
 "cells": [
  {
   "cell_type": "markdown",
   "metadata": {},
   "source": [
    "# EDA, the Polars Way"
   ]
  },
  {
   "cell_type": "markdown",
   "metadata": {},
   "source": [
    "What is [polars](https://docs.pola.rs/)?\n",
    "\n",
    "- Library for manipulation with tabular data*, based on arrow\n",
    "- Contender to [pandas](https://pandas.pydata.org/) (and many more similar tools)\n",
    "- Since 2020, started by Ritchie Vink"
   ]
  },
  {
   "cell_type": "markdown",
   "metadata": {},
   "source": [
    "### Why polars?\n",
    "\n",
    "- Performance (rust)\n",
    "- Clean(er) API\n",
    "- Lazy evaluation & query optimization\n",
    "- Cool kid on the block"
   ]
  },
  {
   "cell_type": "markdown",
   "metadata": {},
   "source": [
    "### Why not polars?\n",
    "\n",
    "- Less stable\n",
    "- Less functionality\n",
    "- Less known\n",
    "- Sometimes lengthy code\n",
    "- Copilot tends to suggest pandas code ;-)"
   ]
  },
  {
   "cell_type": "markdown",
   "metadata": {},
   "source": [
    "## Let's start"
   ]
  },
  {
   "cell_type": "markdown",
   "metadata": {},
   "source": [
    "```shell\n",
    "jupyter lab\n",
    "```\n",
    "\n",
    "or Visual Studio Code or PyCharm if you prefer those.\n",
    "\n",
    "Open \"exercises.ipynb\""
   ]
  },
  {
   "cell_type": "code",
   "execution_count": null,
   "metadata": {},
   "outputs": [],
   "source": [
    "# Most basic import\n",
    "import polars as pl\n",
    "\n",
    "# Other useful imports\n",
    "from datetime import date, datetime\n",
    "import polars.selectors as cs\n"
   ]
  },
  {
   "cell_type": "markdown",
   "metadata": {},
   "source": [
    "## Fundamental data structures\n",
    "\n",
    "See https://docs.pola.rs/user-guide/concepts/data-structures/"
   ]
  },
  {
   "cell_type": "markdown",
   "metadata": {},
   "source": [
    "### DataFrame\n",
    "\n",
    "- a \"table\"?\n",
    "- a \"spreadsheet\" table?\n",
    "- a \"dict of columns\"?"
   ]
  },
  {
   "cell_type": "code",
   "execution_count": null,
   "metadata": {},
   "outputs": [],
   "source": [
    "# Load some data\n",
    "un = pl.read_csv(\"data/un_basic.csv\", try_parse_dates=True)\n",
    "un\n"
   ]
  },
  {
   "cell_type": "code",
   "execution_count": null,
   "metadata": {},
   "outputs": [],
   "source": [
    "# What is it?\n",
    "type(un)\n"
   ]
  },
  {
   "cell_type": "markdown",
   "metadata": {},
   "source": [
    "### Series\n",
    "\n",
    "- a \"list\"?\n",
    "- a \"column\"?\n",
    "- an \"array of X\"?\n",
    "\n",
    "A bit of everything..."
   ]
  },
  {
   "cell_type": "code",
   "execution_count": null,
   "metadata": {},
   "outputs": [],
   "source": [
    "# Select one column for a DataFrame\n",
    "un[\"country\"]\n"
   ]
  },
  {
   "cell_type": "code",
   "execution_count": null,
   "metadata": {},
   "outputs": [],
   "source": [
    "type(un[\"country\"])"
   ]
  },
  {
   "cell_type": "markdown",
   "metadata": {},
   "source": [
    "### Closer look at the table"
   ]
  },
  {
   "cell_type": "code",
   "execution_count": null,
   "metadata": {},
   "outputs": [],
   "source": [
    "un.shape"
   ]
  },
  {
   "cell_type": "code",
   "execution_count": null,
   "metadata": {},
   "outputs": [],
   "source": [
    "un.columns"
   ]
  },
  {
   "cell_type": "markdown",
   "metadata": {},
   "source": [
    "A random selection of rows using [`.sample`](https://docs.pola.rs/py-polars/html/reference/dataframe/api/polars.DataFrame.sample.html#polars.DataFrame.sample)"
   ]
  },
  {
   "cell_type": "code",
   "execution_count": null,
   "metadata": {},
   "outputs": [],
   "source": [
    "un.sample(10)"
   ]
  },
  {
   "cell_type": "markdown",
   "metadata": {},
   "source": [
    "Look at basic statistical properties using [`.describe`](https://docs.pola.rs/py-polars/html/reference/dataframe/api/polars.DataFrame.describe.html#polars.DataFrame.describe):"
   ]
  },
  {
   "cell_type": "code",
   "execution_count": null,
   "metadata": {},
   "outputs": [],
   "source": [
    "un.describe()"
   ]
  },
  {
   "cell_type": "markdown",
   "metadata": {},
   "source": [
    "Other useful methods to obtain a selection of rows:\n",
    "- [`.head`](https://docs.pola.rs/py-polars/html/reference/dataframe/api/polars.DataFrame.head.html)\n",
    "- [`.tail`](https://docs.pola.rs/py-polars/html/reference/dataframe/api/polars.DataFrame.tail.html)"
   ]
  },
  {
   "cell_type": "markdown",
   "metadata": {},
   "source": [
    "### D(ata) types\n",
    "\n",
    "- each column holds objects of the same type (unlike Python collections!)\n",
    "- distinct from (but convertible to/from) Python classes\n",
    "- the types are nullable => each value can be missing"
   ]
  },
  {
   "cell_type": "code",
   "execution_count": null,
   "metadata": {},
   "outputs": [],
   "source": [
    "# List of all data types in a DataFrame\n",
    "un.dtypes\n"
   ]
  },
  {
   "cell_type": "code",
   "execution_count": null,
   "metadata": {},
   "outputs": [],
   "source": [
    "# More useful (dict)\n",
    "{col: un[col].dtype for col in un.columns}\n"
   ]
  },
  {
   "cell_type": "markdown",
   "metadata": {},
   "source": [
    "#### Common types\n",
    "\n",
    "- Int8, Int16, Int32, Int64, UInt8, UInt16, UInt32, UInt64\n",
    "- Float32, Float64\n",
    "- Decimal\n",
    "- Date, Datetime, Time\n",
    "- String, Categorical, Enum\n",
    "- Array, List, Struct\n",
    "- Boolean\n",
    "- Object, Null, Binary, Unknown\n",
    "\n",
    "See https://docs.pola.rs/user-guide/concepts/data-types/overview/"
   ]
  },
  {
   "cell_type": "code",
   "execution_count": null,
   "metadata": {},
   "outputs": [],
   "source": [
    "# Construct a Series from an object\n",
    "pl.Series(\"city\", [\"Firenze\", \"Berlin\", \"Pittsburgh\", \"Prague\"], dtype=pl.String)\n"
   ]
  },
  {
   "cell_type": "code",
   "execution_count": null,
   "metadata": {},
   "outputs": [],
   "source": [
    "# Construct a DataFrame from dictionary of lists.\n",
    "\n",
    "pl.DataFrame(\n",
    "    {\n",
    "        \"event\": [\"PyCon Italia\", \"PyCon.DE & PyData Berlin\", \"PyCon US\", \"EuroPython\"],\n",
    "        \"city\": [\"Firenze\", \"Berlin\", \"Pittsburgh\", \"Prague\"],\n",
    "        \"country\": [\"Italy\", \"Germany\", \"United States of America\", \"Czechia\"],\n",
    "        \"start_date\": [\n",
    "            date(2024, 5, 22),\n",
    "            date(2024, 4, 22),\n",
    "            date(2024, 5, 15),\n",
    "            date(2024, 7, 8),\n",
    "        ],\n",
    "    }\n",
    ")\n"
   ]
  },
  {
   "cell_type": "code",
   "execution_count": null,
   "metadata": {},
   "outputs": [],
   "source": [
    "## Pandas window\n",
    "\n",
    "import pandas as pd\n",
    "\n",
    "pandas_series = pd.DataFrame(\n",
    "    {\"a\": [1, 2, 3, 4, 5], \"b\": pd.Series([1, 2, 3, 4, 5], dtype=\"float64\")}\n",
    ")\n",
    "pl.DataFrame(pandas_series)\n"
   ]
  },
  {
   "cell_type": "markdown",
   "metadata": {},
   "source": [
    "### Indices\n",
    "\n",
    "Polars, unlike pandas, does not have indices.\n",
    "End of story."
   ]
  },
  {
   "cell_type": "markdown",
   "metadata": {},
   "source": [
    "## Basic plotting\n",
    "\n",
    "Choose any library you want:\n",
    "\n",
    "- [plotly](https://plotly.com/python/)\n",
    "- [matplotlib](https://matplotlib.org/)\n",
    "- [seaborn](https://seaborn.pydata.org/)\n",
    "- [hvplot](https://hvplot.holoviz.org/)\n",
    "- ..."
   ]
  },
  {
   "cell_type": "markdown",
   "metadata": {},
   "source": [
    "### \"Built-in\" hvplot support\n",
    "\n",
    "Note: hvplot must be installed\n",
    "\n",
    "```python\n",
    "df.plot()\n",
    "df.plot.bar()\n",
    "df.plot.scatter()\n",
    "...\n",
    "```\n"
   ]
  },
  {
   "cell_type": "code",
   "execution_count": null,
   "metadata": {},
   "outputs": [],
   "source": [
    "un.plot.scatter(\n",
    "    x=\"area\",\n",
    "    y=\"population\",\n",
    "    # logx=True,\n",
    "    # logy=True,\n",
    "    # color=\"region\",\n",
    "    # title=\"Countries of the World\",\n",
    "    # hover_cols=[\"country\"],\n",
    ")\n"
   ]
  },
  {
   "cell_type": "markdown",
   "metadata": {},
   "source": [
    "Slightly more info here:\n",
    "- https://docs.pola.rs/py-polars/html/reference/dataframe/plot.html\n",
    "- https://docs.pola.rs/user-guide/misc/visualization/ \n",
    "- https://hvplot.holoviz.org/user_guide/Pandas_API.html - pandas API for hvplot. It works almost the same with polars"
   ]
  },
  {
   "cell_type": "markdown",
   "metadata": {},
   "source": [
    "**Exercise**: \n",
    "1. Load the list of cities from an external file.\n",
    "2. Draw the \"poor man's map of the world\", based on the \"lat\" and \"lng\" columns of the table.\n",
    "Optionally: You can embellish it with any aesthetics you want."
   ]
  },
  {
   "cell_type": "code",
   "execution_count": null,
   "metadata": {},
   "outputs": [],
   "source": [
    "# Exercise load-cities\n",
    "# Load the data:\n",
    "# - the file is called \"data/worldcities.parquet\"\n",
    "# - find the appropriate loading method from https://docs.pola.rs/user-guide/io/\n",
    "cities = ...\n",
    "cities\n"
   ]
  },
  {
   "cell_type": "code",
   "execution_count": null,
   "metadata": {},
   "outputs": [],
   "source": [
    "# Exercise world-map\n",
    "# Plot ihe cities\n",
    "# - find the appropriate plotting method\n",
    "# - use proper arguments for the call\n",
    "cities.plot....(\n",
    "    x=...,\n",
    "    y=...,\n",
    ")"
   ]
  },
  {
   "cell_type": "markdown",
   "metadata": {},
   "source": [
    "## Sorting\n",
    "\n",
    "- [.sort](https://docs.pola.rs/py-polars/html/reference/dataframe/api/polars.DataFrame.sort.html)"
   ]
  },
  {
   "cell_type": "code",
   "execution_count": null,
   "metadata": {},
   "outputs": [],
   "source": [
    "un.sort(\"admission_date\")"
   ]
  },
  {
   "cell_type": "markdown",
   "metadata": {},
   "source": [
    "Note: We receive a new DataFrame, as with all other manipulations. There is no \"inplace\" in polars. (unlike pandas, where this is only discouraged)"
   ]
  },
  {
   "cell_type": "code",
   "execution_count": null,
   "metadata": {},
   "outputs": [],
   "source": [
    "un.sort(\"population\", descending=True)"
   ]
  },
  {
   "cell_type": "code",
   "execution_count": null,
   "metadata": {},
   "outputs": [],
   "source": [
    "un.sort(\"region\", \"subregion\")"
   ]
  },
  {
   "cell_type": "markdown",
   "metadata": {},
   "source": [
    "**Exercise** Create a bar plot of 10 countries with the lowest population.\n",
    "\n",
    "Hints:\n",
    "- [`.sort`]()\n",
    "- [`.head`](https://docs.pola.rs/py-polars/html/reference/dataframe/api/polars.DataFrame.head.html) \n",
    "- [`.plot.bar`](https://hvplot.holoviz.org/reference/tabular/bar.html) - docs from the hvplot pages\n",
    "- Use `hover_cols` and `x` args to describe the plot properly (optional)"
   ]
  },
  {
   "cell_type": "code",
   "execution_count": null,
   "metadata": {},
   "outputs": [],
   "source": [
    "# Exercise ten-smallest\n",
    "sorted_population = ...\n",
    "ten_smallest = ...\n",
    "\n",
    "# Plot it\n",
    "ten_smallest.plot...."
   ]
  },
  {
   "cell_type": "markdown",
   "metadata": {},
   "source": [
    "## Expressions & selection"
   ]
  },
  {
   "cell_type": "markdown",
   "metadata": {},
   "source": []
  },
  {
   "cell_type": "code",
   "execution_count": null,
   "metadata": {},
   "outputs": [],
   "source": [
    "un[\"country\"]"
   ]
  },
  {
   "cell_type": "code",
   "execution_count": null,
   "metadata": {},
   "outputs": [],
   "source": [
    "# Find the difference\n",
    "un.select(\"country\")\n"
   ]
  },
  {
   "cell_type": "markdown",
   "metadata": {},
   "source": [
    "Expression, representing column(s) in a dataframe:"
   ]
  },
  {
   "cell_type": "code",
   "execution_count": null,
   "metadata": {},
   "outputs": [],
   "source": [
    "pl.col(\"country\")"
   ]
  },
  {
   "cell_type": "code",
   "execution_count": null,
   "metadata": {},
   "outputs": [],
   "source": [
    "pl.lit(\"country\")"
   ]
  },
  {
   "cell_type": "code",
   "execution_count": null,
   "metadata": {},
   "outputs": [],
   "source": [
    "# Select a column\n",
    "un.select(pl.col(\"country\"))  # Or pl.col.country\n"
   ]
  },
  {
   "cell_type": "code",
   "execution_count": null,
   "metadata": {},
   "outputs": [],
   "source": [
    "# Literal value\n",
    "un.select(pl.lit(\"country\"))\n"
   ]
  },
  {
   "cell_type": "code",
   "execution_count": null,
   "metadata": {},
   "outputs": [],
   "source": [
    ".drop"
   ]
  },
  {
   "cell_type": "markdown",
   "metadata": {},
   "source": [
    "Note: You can pass an expression to `.sort` too."
   ]
  },
  {
   "cell_type": "markdown",
   "metadata": {},
   "source": [
    "## Filtering"
   ]
  },
  {
   "cell_type": "markdown",
   "metadata": {},
   "source": [
    "When you want to select rows based on some criteria... Well, a short detour:"
   ]
  },
  {
   "cell_type": "markdown",
   "metadata": {},
   "source": [
    "### Contexts"
   ]
  },
  {
   "cell_type": "markdown",
   "metadata": {},
   "source": [
    "Every expression can only be executed within one of the following contexts:\n",
    "\n",
    "1. Selection (`.select`, `.with_columns`) - we already saw this\n",
    "2. Filtering (`.filter`)\n",
    "3. Aggregation\n",
    "\n",
    "See https://docs.pola.rs/user-guide/concepts/contexts/.\n"
   ]
  },
  {
   "cell_type": "markdown",
   "metadata": {},
   "source": [
    "Pass any boolean expression to the [`.filter`]() method"
   ]
  },
  {
   "cell_type": "code",
   "execution_count": null,
   "metadata": {},
   "outputs": [],
   "source": [
    "un.filter(country=\"Italy\")"
   ]
  },
  {
   "cell_type": "code",
   "execution_count": null,
   "metadata": {},
   "outputs": [],
   "source": [
    "un.filter(pl.col(\"population\") > 1e9)"
   ]
  },
  {
   "cell_type": "markdown",
   "metadata": {},
   "source": [
    "**Exercise:** Show how the share of electricity coming from different sources evolved over time in Italy (or from some other country)."
   ]
  },
  {
   "cell_type": "code",
   "execution_count": null,
   "metadata": {},
   "outputs": [],
   "source": [
    "# Exercise energy-it\n",
    "el_source = pl.read_csv(\n",
    "    \"data/our_world_in_data/electricity-source.csv\", infer_schema_length=5000\n",
    ")  # Note the infer_schema_length\n",
    "el_source_italy = ...\n",
    "el_source_italy\n"
   ]
  },
  {
   "cell_type": "markdown",
   "metadata": {},
   "source": [
    "**Exercise:** Create a linear (or stacked area) plot of the fractions\n",
    "\n",
    "Hints:\n",
    "- `.plot.area` is your friend\n",
    "- you can supply multiple column names in the `y` argument\n",
    "- An example is here: https://hvplot.holoviz.org/user_guide/Pandas_API.html#area-plot"
   ]
  },
  {
   "cell_type": "code",
   "execution_count": null,
   "metadata": {},
   "outputs": [],
   "source": [
    "# Exercise energy-it\n",
    "el_source_italy.plot(..., ...)\n"
   ]
  },
  {
   "cell_type": "markdown",
   "metadata": {},
   "source": [
    "## Operations"
   ]
  },
  {
   "cell_type": "code",
   "execution_count": null,
   "metadata": {},
   "outputs": [],
   "source": [
    "un[\"population\"] / un[\"area\"]"
   ]
  },
  {
   "cell_type": "code",
   "execution_count": null,
   "metadata": {},
   "outputs": [],
   "source": [
    "date.today() - un[\"admission_date\"]"
   ]
  },
  {
   "cell_type": "code",
   "execution_count": null,
   "metadata": {},
   "outputs": [],
   "source": [
    "type(pl.col(\"population\") / pl.col(\"area\"))"
   ]
  },
  {
   "cell_type": "code",
   "execution_count": null,
   "metadata": {},
   "outputs": [],
   "source": [
    "un.select(\n",
    "    \"country\",\n",
    "    \"population\",\n",
    "    \"area\",\n",
    "    (pl.col(\"population\") / pl.col(\"area\")).alias(\"density\"),\n",
    ").sort(\"density\", descending=True)\n"
   ]
  },
  {
   "cell_type": "code",
   "execution_count": null,
   "metadata": {},
   "outputs": [],
   "source": [
    "un.with_columns(\n",
    "    density=pl.col(\"population\") / pl.col(\"area\"),\n",
    ")\n"
   ]
  },
  {
   "cell_type": "markdown",
   "metadata": {},
   "source": [
    "## Aggregations\n",
    "\n",
    "When you want to find the summary statistics, you can use one of several Series/DataFrame functions, such as `.max`, `.mean`, `.median`, `.quantile`, ..."
   ]
  },
  {
   "cell_type": "code",
   "execution_count": null,
   "metadata": {},
   "outputs": [],
   "source": [
    "un.max()"
   ]
  },
  {
   "cell_type": "code",
   "execution_count": null,
   "metadata": {},
   "outputs": [],
   "source": [
    "un.median()"
   ]
  },
  {
   "cell_type": "code",
   "execution_count": null,
   "metadata": {},
   "outputs": [],
   "source": [
    "un.quantile(0.05)"
   ]
  },
  {
   "cell_type": "markdown",
   "metadata": {},
   "source": [
    "**Exercise** Find all founding members of the U.N. \n",
    "\n",
    "Hints:\n",
    "- find the admission date of the first member first\n",
    "- you might want to find the proper minimizing function (min)"
   ]
  },
  {
   "cell_type": "code",
   "execution_count": null,
   "metadata": {},
   "outputs": [],
   "source": [
    "# Exercise founding-members\n",
    "first_date = ...\n",
    "founding_members = ...\n",
    "founding_members\n"
   ]
  },
  {
   "cell_type": "markdown",
   "metadata": {},
   "source": [
    "### Grouped aggregations\n",
    "\n",
    "[.group_by](https://docs.pola.rs/py-polars/html/reference/dataframe/api/polars.DataFrame.group_by.html)\n",
    "\n",
    "- it allows to select columns (or expression) to group by.\n",
    "- in combination with a few selected functions or the `.agg`, it enters a new context for operations with the groups"
   ]
  },
  {
   "cell_type": "code",
   "execution_count": null,
   "metadata": {},
   "outputs": [],
   "source": [
    "un.group_by(\"region\").len()"
   ]
  },
  {
   "cell_type": "code",
   "execution_count": null,
   "metadata": {},
   "outputs": [],
   "source": [
    "un.group_by(\"subregion\").len()"
   ]
  },
  {
   "cell_type": "code",
   "execution_count": null,
   "metadata": {},
   "outputs": [],
   "source": [
    "un.group_by(\"region\", \"subregion\").len().sort(\"region\", \"subregion\")"
   ]
  },
  {
   "cell_type": "code",
   "execution_count": null,
   "metadata": {},
   "outputs": [],
   "source": [
    "un.group_by(\"subregion\").sum()"
   ]
  },
  {
   "cell_type": "code",
   "execution_count": null,
   "metadata": {},
   "outputs": [],
   "source": [
    "un.group_by(\"region\", \"subregion\").agg(\n",
    "    pl.col(\"population\").sum().alias(\"total_population\"),\n",
    "    pl.col(\"area\").sum().alias(\"total_area\"),\n",
    "    pl.col(\"area\").count().alias(\"num_countries\"),\n",
    ").sort(\"region\", \"subregion\")\n"
   ]
  },
  {
   "cell_type": "code",
   "execution_count": null,
   "metadata": {},
   "outputs": [],
   "source": [
    "forest_area = pl.read_csv(\"data/our_world_in_data/forest-area-km.csv\")\n",
    "forest_area\n"
   ]
  },
  {
   "cell_type": "markdown",
   "metadata": {},
   "source": [
    "**Exercise:** Find the relative change of forestation for each country on the year range.\n",
    "\n",
    "- group by an appropriate column\n",
    "- find the proper aggregation functions (https://docs.pola.rs/user-guide/expressions/aggregation)\n",
    "- optionally exclude the infinite and NA values ([`.is_finite`](https://docs.pola.rs/py-polars/html/reference/expressions/api/polars.Expr.is_finite.html)) "
   ]
  },
  {
   "cell_type": "code",
   "execution_count": null,
   "metadata": {},
   "outputs": [],
   "source": [
    "# Exercise forest-change\n",
    "first_and_last_forest_area = forest_area.group_by(...).agg(\n",
    "    ...\n",
    ")\n",
    "relative_change = first_and_last_forest_area....\n",
    "# Filter finite and sort\n",
    "relative_change = relative_change...."
   ]
  },
  {
   "cell_type": "markdown",
   "metadata": {},
   "source": [
    "### Time aggregations"
   ]
  },
  {
   "cell_type": "code",
   "execution_count": null,
   "metadata": {},
   "outputs": [],
   "source": [
    "weather = pl.read_parquet(\"data/florence-meteostat.parquet\")\n",
    "weather\n"
   ]
  },
  {
   "cell_type": "markdown",
   "metadata": {},
   "source": [
    "What about timezones? Let's forget about them for now... but it would deserve its own workshop. See https://docs.pola.rs/user-guide/transformations/time-series/timezones/"
   ]
  },
  {
   "cell_type": "code",
   "execution_count": null,
   "metadata": {},
   "outputs": [],
   "source": [
    "weather.plot(y=\"temp\")"
   ]
  },
  {
   "cell_type": "code",
   "execution_count": null,
   "metadata": {},
   "outputs": [],
   "source": [
    "weather.plot(x=\"time\", y=\"temp\")"
   ]
  },
  {
   "cell_type": "code",
   "execution_count": null,
   "metadata": {},
   "outputs": [],
   "source": [
    "# We can use the year column\n",
    "yearly_mean = weather.group_by(\n",
    "    pl.col(\"time\").dt.year().alias(\"year\"), maintain_order=True\n",
    ").agg(avg_temp=pl.col(\"temp\").drop_nans().mean())\n",
    "yearly_mean\n"
   ]
  },
  {
   "cell_type": "code",
   "execution_count": null,
   "metadata": {},
   "outputs": [],
   "source": [
    "yearly_mean.plot(x=\"year\", y=\"avg_temp\")"
   ]
  },
  {
   "cell_type": "markdown",
   "metadata": {},
   "source": [
    "But groupping by calendar month? That might be trickier.\n",
    "\n",
    "And hence the [`.group_by_dynamic`](https://docs.pola.rs/py-polars/html/reference/dataframe/api/polars.DataFrame.group_by_dynamic.html) method.\n",
    "\n",
    "- it takes one column/expression to serve as a time index\n",
    "- the data must be sorted in that column (either by previous `.sort` or [`.set_sorted`](https://docs.pola.rs/py-polars/html/reference/dataframe/api/polars.DataFrame.set_sorted.html))\n",
    "- you can specify the aggregation period by a number of ways"
   ]
  },
  {
   "cell_type": "code",
   "execution_count": null,
   "metadata": {},
   "outputs": [],
   "source": [
    "monthly = (\n",
    "    weather.set_sorted(\"time\")\n",
    "    .group_by_dynamic(\"time\", every=\"1mo\")\n",
    "    .agg(avg_temp=pl.col(\"temp\").drop_nans().mean())\n",
    ")\n",
    "monthly.plot(x=\"time\", y=\"avg_temp\")\n"
   ]
  },
  {
   "cell_type": "markdown",
   "metadata": {},
   "source": [
    "**Exercise:** What was the day with highest lowest temperature (probably meaning the hottest night) in Florence in the last 10 years? \n",
    "\n",
    "Hints:\n",
    "- Filter the new values only\n",
    "- Group by an appropriate time period\n",
    "- Find the minimum\n",
    "- You might need to `.drop_nans` and `.drop_nulls` to work with reasonable values (at appropriate moment)\n",
    "- Work with the minima to find the top value (or a few of them)"
   ]
  },
  {
   "cell_type": "code",
   "execution_count": null,
   "metadata": {},
   "outputs": [],
   "source": [
    "# Exercise hottest-night\n",
    "recent_weather = weather....\n",
    "min_daily_temperatures = recent_weather.set_sorted(\"time\").group_by_dynamic(...).agg(...)\n",
    "top_nights = min_daily_temperatures....\n",
    "top_nights"
   ]
  },
  {
   "cell_type": "markdown",
   "metadata": {},
   "source": [
    "Similarly, you can group by a rolling window using [`.rolling`](https://docs.pola.rs/py-polars/html/reference/dataframe/api/polars.DataFrame.rolling.html), ..."
   ]
  },
  {
   "cell_type": "markdown",
   "metadata": {},
   "source": [
    "## Joining"
   ]
  },
  {
   "cell_type": "markdown",
   "metadata": {},
   "source": [
    "We have data coming from two (or more) tables. We want to combine them, so we call the [`.join`](https://docs.pola.rs/py-polars/html/reference/dataframe/api/polars.DataFrame.join.html) method on of them and:\n",
    "\n",
    "- which column(s) should match (`on`, `left_on`, `right_on` arguments)\n",
    "- how to deal with missing values (`how`)\n",
    "- how to deal with non-matching columns that are in both dataframes (`suffix`)\n",
    "- whether to restrict the relationship somehow (`validate`)\n",
    "\n",
    "More on that in the [User guide](https://docs.pola.rs/user-guide/transformations/joins/).\n",
    "\n",
    "(Pandas note: the different, almost equivalent ways of joining in pandas are a big source of confusion)"
   ]
  },
  {
   "cell_type": "code",
   "execution_count": null,
   "metadata": {},
   "outputs": [],
   "source": [
    "current_forest_area = forest_area.group_by(\"Code\").last()"
   ]
  },
  {
   "cell_type": "markdown",
   "metadata": {},
   "source": [
    "**Example:** Find the total forest area per region. (Bonus: find also the percentage)"
   ]
  },
  {
   "cell_type": "code",
   "execution_count": null,
   "metadata": {},
   "outputs": [],
   "source": [
    "current_forest_area.join(\n",
    "    un, left_on=\"Code\", right_on=\"iso3\", how=\"inner\"\n",
    ").sum().select(\"Forest area\", \"area\").with_columns(\n",
    "    forest_area_ratio=pl.col(\"Forest area\") / pl.col(\"area\") / 100 / 0.71\n",
    ")\n"
   ]
  },
  {
   "cell_type": "markdown",
   "metadata": {},
   "source": [
    "**Exercise** Find the number of cities over 1 million inhabitants per region / subregion. (Bonus: include the largest of those cities)\n",
    "\n",
    "Hints:\n",
    "- Join with the \"un\" table on appropriate columns\n",
    "- Aggregate over appropriate columns and use [`.len`](https://docs.pola.rs/py-polars/html/reference/dataframe/api/polars.dataframe.group_by.GroupBy.len.html)"
   ]
  },
  {
   "cell_type": "code",
   "execution_count": null,
   "metadata": {},
   "outputs": [],
   "source": [
    "# Exercise million-cities\n",
    "million_cities = cities....\n",
    "million_cities_with_country = million_cities....\n",
    "million_cities_per_region = (\n",
    "    million_cities_with_country.group_by(...)\n",
    "    ...\n",
    ")\n"
   ]
  },
  {
   "cell_type": "markdown",
   "metadata": {},
   "source": [
    "## Wide / long table format"
   ]
  },
  {
   "cell_type": "markdown",
   "metadata": {},
   "source": [
    "### Wide -> long\n",
    "\n",
    "Sometimes we have a 2D table where the column names do not describe independent attributes but rather one condition under many circumstances, like in the following:"
   ]
  },
  {
   "cell_type": "code",
   "execution_count": null,
   "metadata": {},
   "outputs": [],
   "source": [
    "wb_pop_wide = pl.read_csv(\"data/world_bank-population.csv\")\n",
    "wb_pop_wide\n"
   ]
  },
  {
   "cell_type": "markdown",
   "metadata": {},
   "source": [
    "We can transform the column labels to one column and convert the table to \"long format\":\n",
    "\n",
    "[.melt](https://docs.pola.rs/py-polars/html/reference/dataframe/api/polars.DataFrame.melt.html#polars.DataFrame.melt)"
   ]
  },
  {
   "cell_type": "code",
   "execution_count": null,
   "metadata": {},
   "outputs": [],
   "source": [
    "wb_pop = (\n",
    "    wb_pop_wide.melt(\n",
    "        id_vars=[\"Country Code\", \"Country Name\"],\n",
    "        variable_name=\"year\",\n",
    "        value_vars=cs.numeric(),\n",
    "        value_name=\"population\",\n",
    "    )\n",
    "    .cast({\"year\": pl.Int64})\n",
    "    .rename({\"Country Code\": \"iso3\", \"Country Name\": \"country\"})\n",
    ")\n",
    "wb_pop\n"
   ]
  },
  {
   "cell_type": "code",
   "execution_count": null,
   "metadata": {},
   "outputs": [],
   "source": [
    "world_pop = wb_pop.filter(iso3=\"WLD\").drop(\n",
    "    \"iso3\", \"country\"\n",
    ")  # .plot(x=\"year\", y=\"population\")\n",
    "world_pop\n"
   ]
  },
  {
   "cell_type": "code",
   "execution_count": null,
   "metadata": {},
   "outputs": [],
   "source": [
    "# Alternative\n",
    "wb_pop_wide.filter(pl.col(\"Country Code\") == \"WLD\").select(cs.numeric()).transpose(\n",
    "    header_name=\"year\", include_header=True\n",
    ").rename({\"column_0\": \"population\"})\n"
   ]
  },
  {
   "cell_type": "markdown",
   "metadata": {},
   "source": [
    "### Long -> wide (pivotting)"
   ]
  },
  {
   "cell_type": "markdown",
   "metadata": {},
   "source": [
    "In the opposite of melting, we want to aggregate something over a pair of columns and create a \"2D\", pivot table. "
   ]
  },
  {
   "cell_type": "markdown",
   "metadata": {},
   "source": [
    "[.pivot]()"
   ]
  },
  {
   "cell_type": "markdown",
   "metadata": {},
   "source": [
    "**Example:** Plot the daily pattern of temperatures in Florence for each month of the year (since 2020)."
   ]
  },
  {
   "cell_type": "code",
   "execution_count": null,
   "metadata": {},
   "outputs": [],
   "source": [
    "month_day_data = (\n",
    "    weather.drop_nulls()\n",
    "    .filter(\n",
    "        pl.col(\"temp\").is_not_nan(),\n",
    "        pl.col(\"time\") >= date(2020, 1, 1),\n",
    "    )\n",
    "    .select(\"time\", \"temp\")\n",
    "    .with_columns(\n",
    "        pl.col(\"time\").dt.month().alias(\"month\"),\n",
    "        pl.col(\"time\").dt.strftime(\"%B\").alias(\"month_name\"),\n",
    "        pl.col(\"time\").dt.hour().alias(\"hour\"),\n",
    "    )\n",
    ")\n",
    "month_day_data\n"
   ]
  },
  {
   "cell_type": "code",
   "execution_count": null,
   "metadata": {},
   "outputs": [],
   "source": [
    "month_day_table = month_day_data.pivot(\n",
    "    values=\"temp\",\n",
    "    index=\"hour\",\n",
    "    columns=\"month_name\",\n",
    "    aggregate_function=\"mean\",\n",
    ")\n",
    "month_day_table\n"
   ]
  },
  {
   "cell_type": "code",
   "execution_count": null,
   "metadata": {},
   "outputs": [],
   "source": [
    "month_day_table.plot(x=\"hour\")"
   ]
  },
  {
   "cell_type": "markdown",
   "metadata": {},
   "source": [
    "**Exercise:** Find how the total forested area developed for different regions year by year and draw a stacked area plot.\n",
    "\n",
    "Hints:\n",
    "- Join `un` and `forecast_area` dataframes, using appropriate columns\n",
    "- Pivot using the region as `column` and year as row `index`. Find the appropriate `value` column.\n",
    "- Find the appropriate value for the `aggregate_function` argument.\n",
    "\n",
    "Question: You should see something weird in the output - can you explain?"
   ]
  },
  {
   "cell_type": "code",
   "execution_count": null,
   "metadata": {},
   "outputs": [],
   "source": [
    "# Exercise forest-region\n",
    "forest_area_by_region = forest_area.join(...).pivot(..., aggregate_function=...)\n",
    "forest_area_by_region.plot...."
   ]
  },
  {
   "cell_type": "markdown",
   "metadata": {},
   "source": [
    "## Lazy operations"
   ]
  },
  {
   "cell_type": "markdown",
   "metadata": {},
   "source": [
    "One of the best attributes of polars is its ability to optimise queries and perform them in chunks.\n",
    "\n",
    "We can start lazy mode by\n",
    "- lazy input functions ([`scan_csv`](https://docs.pola.rs/py-polars/html/reference/api/polars.scan_csv.html), [`scan_parquet`](https://docs.pola.rs/py-polars/html/reference/api/polars.scan_parquet.html), ...)\n",
    "- calling [`.lazy`](https://docs.pola.rs/py-polars/html/reference/dataframe/api/polars.DataFrame.lazy.html) on a dataframe\n",
    "\n",
    "All operations on the lazy dataframes are added to the query.\n",
    "\n",
    "The final results are obtained by a [`.collect`](https://docs.pola.rs/py-polars/html/reference/lazyframe/api/polars.LazyFrame.collect.html) or some other method call."
   ]
  },
  {
   "cell_type": "code",
   "execution_count": null,
   "metadata": {},
   "outputs": [],
   "source": [
    "lazy_cities = pl.scan_parquet(\"data/worldcities.parquet\")\n",
    "lazy_cities"
   ]
  },
  {
   "cell_type": "code",
   "execution_count": null,
   "metadata": {},
   "outputs": [],
   "source": [
    "lazy_mean_population = (\n",
    "    lazy_cities.filter(pl.col(\"population\") > 1e6)\n",
    "    .group_by(\"country\")\n",
    "    .agg(pl.col(\"population\").mean().alias(\"mean_population\"))\n",
    "    .sort(\"mean_population\", descending=True)\n",
    ")\n",
    "lazy_mean_population\n"
   ]
  },
  {
   "cell_type": "code",
   "execution_count": null,
   "metadata": {},
   "outputs": [],
   "source": [
    "print(lazy_mean_population.explain(optimized=True))"
   ]
  },
  {
   "cell_type": "code",
   "execution_count": null,
   "metadata": {},
   "outputs": [],
   "source": [
    "lazy_mean_population.collect()"
   ]
  },
  {
   "cell_type": "markdown",
   "metadata": {},
   "source": [
    "Find more on that in the [User Guide](https://docs.pola.rs/user-guide/lazy/). We do not have any larger-than-memory data file in our repo..."
   ]
  }
 ],
 "metadata": {
  "kernelspec": {
   "display_name": "Python 3 (ipykernel)",
   "language": "python",
   "name": "python3"
  },
  "language_info": {
   "codemirror_mode": {
    "name": "ipython",
    "version": 3
   },
   "file_extension": ".py",
   "mimetype": "text/x-python",
   "name": "python",
   "nbconvert_exporter": "python",
   "pygments_lexer": "ipython3",
   "version": "3.11.5"
  }
 },
 "nbformat": 4,
 "nbformat_minor": 4
}
