{
 "cells": [
  {
   "cell_type": "code",
   "metadata": {},
   "source": [
    "import polars as pl\n",
    "from datetime import datetime, date"
   ],
   "outputs": [],
   "execution_count": null
  },
  {
   "cell_type": "code",
   "metadata": {},
   "source": [
    "# Load datasets\n",
    "un = pl.read_csv(\"data/un_basic.csv\", try_parse_dates=True)\n",
    "forest_area = pl.read_csv(\"data/our_world_in_data/forest-area-km.csv\")\n",
    "weather = pl.read_parquet(\"data/prague-meteostat.parquet\")"
   ],
   "outputs": [],
   "execution_count": null
  },
  {
   "cell_type": "code",
   "metadata": {},
   "source": [
    "# Solution load-cities\n",
    "cities = pl.read_parquet(\"data/worldcities.parquet\")\n",
    "cities"
   ],
   "outputs": [],
   "execution_count": null
  },
  {
   "cell_type": "code",
   "metadata": {},
   "source": [
    "# Solution world-map\n",
    "cities.plot.scatter(\n",
    "    x=\"lng\",\n",
    "    y=\"lat\",\n",
    "    # The following arguments are optional\n",
    "    hover_cols=[\"city\"],\n",
    "    color=\"country\",\n",
    "    title=\"Cities of the World\",\n",
    "    height=500,\n",
    "    width=1000,\n",
    "    legend=False,\n",
    "    grid=True\n",
    ")"
   ],
   "outputs": [],
   "execution_count": null
  },
  {
   "cell_type": "code",
   "metadata": {},
   "source": [
    "# Solution ten-smallest\n",
    "ten_smallest = pl.sql(\"SELECT * FROM un ORDER BY population LIMIT 10\").collect()\n",
    "ten_smallest.plot.bar(x=\"iso3\", y=\"population\", color=\"region\", hover_cols=[\"country\"])"
   ],
   "outputs": [],
   "execution_count": null
  },
  {
   "cell_type": "code",
   "metadata": {},
   "source": [
    "# Solution membership-years\n",
    "current_date = date.today()\n",
    "pl.sql(f\"SELECT *, ('{current_date}'::DATE - admission_date)::INTERVAL AS membership_in_years FROM un\").collect()\n",
    "# TODO: How to convert the years to days (INTERVAL '1 year' does not work)\n"
   ],
   "outputs": [],
   "execution_count": null
  },
  {
   "cell_type": "code",
   "metadata": {},
   "source": [
    "# Solution energy-cz\n",
    "el_source = pl.read_csv(\"data/our_world_in_data/electricity-source.csv\", infer_schema_length=5000)\n",
    "el_source_czechia = pl.sql(\"SELECT * FROM el_source WHERE country = 'Czechia'\").collect()\n",
    "el_source_czechia"
   ],
   "outputs": [],
   "execution_count": null
  },
  {
   "cell_type": "code",
   "metadata": {},
   "source": [
    "# Solution energy-cz (1)\n",
    "el_source_czechia.plot.area(x=\"year\", y=[\"nuclear\", \"hydro\", \"fossil\", \"renewables\"], stacked=True)"
   ],
   "outputs": [],
   "execution_count": null
  },
  {
   "cell_type": "code",
   "metadata": {},
   "source": [
    "# Solution energy-cz (2)\n",
    "el_source_czechia.plot(x=\"year\", y=[\"nuclear\", \"hydro\", \"fossil\", \"renewables\"])"
   ],
   "outputs": [],
   "execution_count": null
  },
  {
   "cell_type": "code",
   "metadata": {},
   "source": [
    "# Solution founding-members\n",
    "first_date = un[\"admission_date\"].min()\n",
    "founding_members = pl.sql(f\"SELECT * FROM un WHERE admission_date == '{first_date}'::DATE\").collect()\n",
    "founding_members"
   ],
   "outputs": [],
   "execution_count": null
  },
  {
   "cell_type": "code",
   "metadata": {
    "ExecuteTime": {
     "end_time": "2024-07-05T10:38:57.641076Z",
     "start_time": "2024-07-05T10:38:57.634645Z"
    }
   },
   "source": [
    "# Solution forest-change\n",
    "pl.sql(\"\"\"\n",
    "    SELECT Entity, (area_last - area_first) / area_first AS rel_diff\n",
    "    FROM\n",
    "    (\n",
    "        SELECT Entity, FIRST(\"Forest area\") AS area_first, LAST(\"Forest area\") AS area_last \n",
    "        FROM forest_area\n",
    "        GROUP BY Entity\n",
    "    ) AS f\n",
    "    WHERE area_first > 0 AND area_last > 0 \n",
    "    ORDER BY rel_diff\n",
    "\"\"\").collect()"
   ],
   "outputs": [
    {
     "data": {
      "text/plain": [
       "shape: (253, 2)\n",
       "┌────────────┬───────────┐\n",
       "│ Entity     ┆ rel_diff  │\n",
       "│ ---        ┆ ---       │\n",
       "│ str        ┆ f64       │\n",
       "╞════════════╪═══════════╡\n",
       "│ Micronesia ┆ -0.62088  │\n",
       "│ Nicaragua  ┆ -0.467517 │\n",
       "│ Niger      ┆ -0.444884 │\n",
       "│ Gambia     ┆ -0.414774 │\n",
       "│ Paraguay   ┆ -0.369672 │\n",
       "│ …          ┆ …         │\n",
       "│ Kuwait     ┆ 0.811594  │\n",
       "│ Uruguay    ┆ 1.545113  │\n",
       "│ Cape Verde ┆ 1.972692  │\n",
       "│ Iceland    ┆ 2.008202  │\n",
       "│ Bahrain    ┆ 2.181818  │\n",
       "└────────────┴───────────┘"
      ],
      "text/html": [
       "<div><style>\n",
       ".dataframe > thead > tr,\n",
       ".dataframe > tbody > tr {\n",
       "  text-align: right;\n",
       "  white-space: pre-wrap;\n",
       "}\n",
       "</style>\n",
       "<small>shape: (253, 2)</small><table border=\"1\" class=\"dataframe\"><thead><tr><th>Entity</th><th>rel_diff</th></tr><tr><td>str</td><td>f64</td></tr></thead><tbody><tr><td>&quot;Micronesia&quot;</td><td>-0.62088</td></tr><tr><td>&quot;Nicaragua&quot;</td><td>-0.467517</td></tr><tr><td>&quot;Niger&quot;</td><td>-0.444884</td></tr><tr><td>&quot;Gambia&quot;</td><td>-0.414774</td></tr><tr><td>&quot;Paraguay&quot;</td><td>-0.369672</td></tr><tr><td>&hellip;</td><td>&hellip;</td></tr><tr><td>&quot;Kuwait&quot;</td><td>0.811594</td></tr><tr><td>&quot;Uruguay&quot;</td><td>1.545113</td></tr><tr><td>&quot;Cape Verde&quot;</td><td>1.972692</td></tr><tr><td>&quot;Iceland&quot;</td><td>2.008202</td></tr><tr><td>&quot;Bahrain&quot;</td><td>2.181818</td></tr></tbody></table></div>"
      ]
     },
     "execution_count": 57,
     "metadata": {},
     "output_type": "execute_result"
    }
   ],
   "execution_count": 57
  },
  {
   "cell_type": "code",
   "metadata": {
    "ExecuteTime": {
     "end_time": "2024-07-05T10:41:55.134741Z",
     "start_time": "2024-07-05T10:41:55.123769Z"
    }
   },
   "source": [
    "# Solution hottest-night\n",
    "pl.sql(\"\"\"\n",
    "    SELECT time::DATE AS date, min(temp) as min_temp FROM weather\n",
    "    WHERE time > '2014-01-01'\n",
    "    GROUP BY time::DATE\n",
    "    ORDER BY min_temp DESC\n",
    "    LIMIT 10\n",
    "\"\"\"\n",
    ").collect()"
   ],
   "outputs": [
    {
     "data": {
      "text/plain": [
       "shape: (10, 2)\n",
       "┌────────────┬──────────┐\n",
       "│ date       ┆ min_temp │\n",
       "│ ---        ┆ ---      │\n",
       "│ date       ┆ f64      │\n",
       "╞════════════╪══════════╡\n",
       "│ 2018-08-08 ┆ 21.2     │\n",
       "│ 2015-08-08 ┆ 20.7     │\n",
       "│ 2018-08-02 ┆ 20.6     │\n",
       "│ 2018-08-03 ┆ 20.6     │\n",
       "│ 2018-08-01 ┆ 20.6     │\n",
       "│ 2015-08-14 ┆ 19.7     │\n",
       "│ 2015-08-11 ┆ 19.7     │\n",
       "│ 2021-06-21 ┆ 19.7     │\n",
       "│ 2023-08-25 ┆ 19.6     │\n",
       "│ 2017-08-01 ┆ 19.6     │\n",
       "└────────────┴──────────┘"
      ],
      "text/html": [
       "<div><style>\n",
       ".dataframe > thead > tr,\n",
       ".dataframe > tbody > tr {\n",
       "  text-align: right;\n",
       "  white-space: pre-wrap;\n",
       "}\n",
       "</style>\n",
       "<small>shape: (10, 2)</small><table border=\"1\" class=\"dataframe\"><thead><tr><th>date</th><th>min_temp</th></tr><tr><td>date</td><td>f64</td></tr></thead><tbody><tr><td>2018-08-08</td><td>21.2</td></tr><tr><td>2015-08-08</td><td>20.7</td></tr><tr><td>2018-08-02</td><td>20.6</td></tr><tr><td>2018-08-03</td><td>20.6</td></tr><tr><td>2018-08-01</td><td>20.6</td></tr><tr><td>2015-08-14</td><td>19.7</td></tr><tr><td>2015-08-11</td><td>19.7</td></tr><tr><td>2021-06-21</td><td>19.7</td></tr><tr><td>2023-08-25</td><td>19.6</td></tr><tr><td>2017-08-01</td><td>19.6</td></tr></tbody></table></div>"
      ]
     },
     "execution_count": 66,
     "metadata": {},
     "output_type": "execute_result"
    }
   ],
   "execution_count": 66
  },
  {
   "cell_type": "code",
   "metadata": {},
   "source": [
    "# Solution million-cities (bonus)\n",
    "million_cities_per_region = pl.sql(\"\"\"\n",
    "    SELECT region, subregion, count(*) AS count, first(city), first(population) FROM\n",
    "    (\n",
    "        SELECT * FROM cities ORDER by population DESC\n",
    "    ) AS c\n",
    "    INNER JOIN un on c.iso3 = un.iso3\n",
    "    WHERE population > 1000000\n",
    "    GROUP BY region, subregion\n",
    "    ORDER BY count DESC\n",
    "\"\"\").collect()\n",
    "million_cities_per_region\n"
   ],
   "outputs": [],
   "execution_count": null
  },
  {
   "cell_type": "code",
   "metadata": {},
   "source": [
    "# Solution forest-region\n",
    "# TODO: I don't know yet how to do it\n",
    "forest_area_by_region = forest_area.join(un, left_on=\"Code\", right_on=\"iso3\", how=\"inner\").pivot(\n",
    "    on=\"region\", values=\"Forest area\", index=\"Year\", aggregate_function=\"sum\"\n",
    ")\n",
    "forest_area_by_region.plot.area(stacked=True, x=\"Year\")"
   ],
   "outputs": [],
   "execution_count": null
  }
 ],
 "metadata": {
  "kernelspec": {
   "display_name": ".venv",
   "language": "python",
   "name": "python3"
  },
  "language_info": {
   "codemirror_mode": {
    "name": "ipython",
    "version": 3
   },
   "file_extension": ".py",
   "mimetype": "text/x-python",
   "name": "python",
   "nbconvert_exporter": "python",
   "pygments_lexer": "ipython3",
   "version": "3.11.5"
  }
 },
 "nbformat": 4,
 "nbformat_minor": 2
}
