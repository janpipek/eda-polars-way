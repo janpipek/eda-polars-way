{
 "cells": [
  {
   "cell_type": "code",
   "execution_count": null,
   "metadata": {},
   "outputs": [],
   "source": [
    "import polars as pl\n",
    "from datetime import datetime, date\n",
    "import hvplot.polars"
   ]
  },
  {
   "cell_type": "code",
   "execution_count": null,
   "metadata": {},
   "outputs": [],
   "source": [
    "# Load datasets\n",
    "un = pl.read_csv(\"data/un_basic.csv\", try_parse_dates=True)\n",
    "forest_area = pl.read_csv(\"data/our_world_in_data/forest-area-km.csv\")\n",
    "weather = pl.read_parquet(\"data/vienna-meteostat.parquet\")"
   ]
  },
  {
   "cell_type": "code",
   "execution_count": null,
   "metadata": {},
   "outputs": [],
   "source": [
    "# Solution load-cities\n",
    "cities = pl.read_parquet(\"data/worldcities.parquet\")\n",
    "cities"
   ]
  },
  {
   "cell_type": "code",
   "execution_count": null,
   "metadata": {},
   "outputs": [],
   "source": [
    "# Solution world-map\n",
    "cities.hvplot.scatter(\n",
    "    x=\"lng\",\n",
    "    y=\"lat\",\n",
    "    # The following arguments are optional\n",
    "    hover_cols=[\"city\"],\n",
    "    color=\"country\",\n",
    "    title=\"Cities of the World\",\n",
    "    height=500,\n",
    "    width=1000,\n",
    "    legend=False,\n",
    "    grid=True\n",
    ")"
   ]
  },
  {
   "cell_type": "code",
   "execution_count": null,
   "metadata": {},
   "outputs": [],
   "source": [
    "# Solution ten-smallest\n",
    "ten_smallest = pl.sql(\"SELECT * FROM un ORDER BY population LIMIT 10\").collect()\n",
    "ten_smallest.hvplot.bar(x=\"iso3\", y=\"population\", color=\"region\", hover_cols=[\"country\"])"
   ]
  },
  {
   "cell_type": "code",
   "execution_count": null,
   "metadata": {},
   "outputs": [],
   "source": [
    "# Solution membership-years\n",
    "current_date = date.today()\n",
    "pl.sql(f\"SELECT *, ('{current_date}'::DATE - admission_date)::INTERVAL AS membership_in_years FROM un\").collect()\n",
    "# TODO: How to convert the years to days (INTERVAL '1 year' does not work)\n"
   ]
  },
  {
   "cell_type": "code",
   "execution_count": null,
   "metadata": {},
   "outputs": [],
   "source": [
    "# Solution energy-at\n",
    "el_source = pl.read_csv(\"data/our_world_in_data/electricity-source.csv\", infer_schema_length=5000)\n",
    "el_source_austria = pl.sql(\"SELECT * FROM el_source WHERE country = 'Austria'\").collect()\n",
    "el_source_austria"
   ]
  },
  {
   "cell_type": "code",
   "execution_count": null,
   "metadata": {},
   "outputs": [],
   "source": [
    "# Solution energy-at (1)\n",
    "el_source_austria.hvplot.area(x=\"year\", y=[\"nuclear\", \"hydro\", \"fossil\", \"renewables\"], stacked=True)"
   ]
  },
  {
   "cell_type": "code",
   "execution_count": null,
   "metadata": {},
   "outputs": [],
   "source": [
    "# Solution energy-at (2)\n",
    "el_source_austria.hvplot(x=\"year\", y=[\"nuclear\", \"hydro\", \"fossil\", \"renewables\"])"
   ]
  },
  {
   "cell_type": "code",
   "execution_count": null,
   "metadata": {},
   "outputs": [],
   "source": [
    "# Solution founding-members\n",
    "first_date = un[\"admission_date\"].min()\n",
    "founding_members = pl.sql(f\"SELECT * FROM un WHERE admission_date == '{first_date}'::DATE\").collect()\n",
    "founding_members"
   ]
  },
  {
   "cell_type": "code",
   "execution_count": null,
   "metadata": {},
   "outputs": [],
   "source": [
    "# Solution forest-change\n",
    "pl.sql(\"\"\"\n",
    "    SELECT Entity, (area_last - area_first) / area_first AS rel_diff\n",
    "    FROM\n",
    "    (\n",
    "        SELECT Entity, FIRST(\"Forest area\") AS area_first, LAST(\"Forest area\") AS area_last \n",
    "        FROM forest_area\n",
    "        GROUP BY Entity\n",
    "    ) AS f\n",
    "    WHERE area_first > 0 AND area_last > 0 \n",
    "    ORDER BY rel_diff\n",
    "\"\"\").collect()"
   ]
  },
  {
   "cell_type": "code",
   "execution_count": null,
   "metadata": {},
   "outputs": [],
   "source": [
    "# Solution hottest-night\n",
    "pl.sql(\"\"\"\n",
    "    SELECT time::DATE AS date, min(temp) as min_temp FROM weather\n",
    "    WHERE time > '1980-01-01'\n",
    "    GROUP BY time::DATE\n",
    "    ORDER BY min_temp DESC\n",
    "    LIMIT 10\n",
    "\"\"\"\n",
    ").collect()"
   ]
  },
  {
   "cell_type": "code",
   "execution_count": null,
   "metadata": {},
   "outputs": [],
   "source": [
    "# Solution million-cities (bonus)\n",
    "million_cities_per_region = pl.sql(\"\"\"\n",
    "    SELECT region, subregion, count(*) AS count, first(city), first(population) FROM\n",
    "    (\n",
    "        SELECT * FROM cities ORDER by population DESC\n",
    "    ) AS c\n",
    "    INNER JOIN un on c.iso3 = un.iso3\n",
    "    WHERE population > 1000000\n",
    "    GROUP BY region, subregion\n",
    "    ORDER BY count DESC\n",
    "\"\"\").collect()\n",
    "million_cities_per_region\n"
   ]
  },
  {
   "cell_type": "code",
   "execution_count": null,
   "metadata": {},
   "outputs": [],
   "source": [
    "# Solution forest-region\n",
    "# TODO: I don't know yet how to do it\n",
    "forest_area_by_region = forest_area.join(un, left_on=\"Code\", right_on=\"iso3\", how=\"inner\").pivot(\n",
    "    on=\"region\", values=\"Forest area\", index=\"Year\", aggregate_function=\"sum\"\n",
    ")\n",
    "forest_area_by_region.hvplot.area(stacked=True, x=\"Year\")"
   ]
  }
 ],
 "metadata": {
  "kernelspec": {
   "display_name": "Python 3 (ipykernel)",
   "language": "python",
   "name": "python3"
  },
  "language_info": {
   "codemirror_mode": {
    "name": "ipython",
    "version": 3
   },
   "file_extension": ".py",
   "mimetype": "text/x-python",
   "name": "python",
   "nbconvert_exporter": "python",
   "pygments_lexer": "ipython3",
   "version": "3.13.1"
  }
 },
 "nbformat": 4,
 "nbformat_minor": 4
}
