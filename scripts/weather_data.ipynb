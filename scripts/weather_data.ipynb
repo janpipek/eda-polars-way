{
 "cells": [
  {
   "cell_type": "markdown",
   "metadata": {},
   "source": [
    "# Download weather data for Florence\n",
    "\n",
    "or any other city"
   ]
  },
  {
   "cell_type": "code",
   "execution_count": null,
   "metadata": {},
   "outputs": [],
   "source": [
    "from datetime import datetime\n",
    "\n",
    "import polars as pl\n",
    "from meteostat import Hourly, Stations"
   ]
  },
  {
   "cell_type": "code",
   "execution_count": null,
   "metadata": {},
   "outputs": [],
   "source": [
    "CITY = \"Florence\"\n",
    "COUNTRY = \"Italy\""
   ]
  },
  {
   "cell_type": "code",
   "execution_count": null,
   "metadata": {},
   "outputs": [],
   "source": [
    "# Load our cities dataset and find the city coordinates\n",
    "cities = pl.read_parquet(\"../data/worldcities.parquet\")\n",
    "city_info = cities.filter(city=CITY, country=COUNTRY).row(0, named=True)\n",
    "city_info\n"
   ]
  },
  {
   "cell_type": "code",
   "execution_count": null,
   "metadata": {},
   "outputs": [],
   "source": [
    "# Find nearby weather stations\n",
    "s = Stations()\n",
    "s = s.nearby(\n",
    "    lat=city_info[\"lat\"],\n",
    "    lon=city_info[\"lng\"],\n",
    "    radius=100000  # in m?\n",
    ")\n",
    "stations = s.fetch(10)\n",
    "stations   # pandas DataFrame"
   ]
  },
  {
   "cell_type": "code",
   "execution_count": null,
   "metadata": {},
   "outputs": [],
   "source": [
    "# Take the first one\n",
    "station_id = stations.index[0]\n",
    "station_id"
   ]
  },
  {
   "cell_type": "code",
   "execution_count": null,
   "metadata": {},
   "outputs": [],
   "source": [
    "# Get all data\n",
    "source = Hourly(station_id, start=datetime(1932, 1, 1), end=datetime(2024, 5, 16))\n",
    "source"
   ]
  },
  {
   "cell_type": "code",
   "execution_count": null,
   "metadata": {},
   "outputs": [],
   "source": [
    "# Create a DataFrame from it\n",
    "df = pl.from_pandas(source.fetch().reset_index(), nan_to_null=True)\n",
    "# Be explicit about the Nones\n",
    "df = df.fill_nan(None)\n",
    "df"
   ]
  },
  {
   "cell_type": "code",
   "execution_count": null,
   "metadata": {},
   "outputs": [],
   "source": [
    "# Save\n",
    "df.write_parquet(f\"../data/{CITY.lower()}-meteostat.parquet\")"
   ]
  }
 ],
 "metadata": {
  "kernelspec": {
   "display_name": ".venv",
   "language": "python",
   "name": "python3"
  },
  "language_info": {
   "codemirror_mode": {
    "name": "ipython",
    "version": 3
   },
   "file_extension": ".py",
   "mimetype": "text/x-python",
   "name": "python",
   "nbconvert_exporter": "python",
   "pygments_lexer": "ipython3",
   "version": "3.11.5"
  }
 },
 "nbformat": 4,
 "nbformat_minor": 2
}
